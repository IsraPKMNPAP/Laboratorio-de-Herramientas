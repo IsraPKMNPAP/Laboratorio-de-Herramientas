{
  "cells": [
    {
      "cell_type": "markdown",
      "metadata": {
        "id": "_Tgm8mCA9Dp3"
      },
      "source": [
        "# Laboratorio 7: Clasificación 🤗\n",
        "\n",
        "<center><strong>MDS7202: Laboratorio de Programación Científica para Ciencia de Datos - Primavera 2024</strong></center>\n"
      ]
    },
    {
      "cell_type": "markdown",
      "metadata": {
        "id": "11Kc_ibM9GXH"
      },
      "source": [
        "### Cuerpo Docente:\n",
        "\n",
        "- Profesores: Ignacio Meza, Sebastián Tinoco\n",
        "- Auxiliar: Eduardo Moya\n",
        "- Ayudantes: Nicolás Ojeda, Melanie Peña, Valentina Rojas"
      ]
    },
    {
      "cell_type": "markdown",
      "metadata": {
        "id": "u9dUSltr9JrN"
      },
      "source": [
        "### Equipo: SUPER IMPORTANTE - notebooks sin nombre no serán revisados\n",
        "\n",
        "- Nombre de alumno 1: Luis Picón\n",
        "- Nombre de alumno 2: Israel Astudillo"
      ]
    },
    {
      "cell_type": "markdown",
      "metadata": {
        "id": "p6fPafH0rGfZ"
      },
      "source": [
        "### **Link de repositorio de GitHub:** [Repositorio](https://github.com/IsraPKMNPAP/Laboratorio-de-Herramientas)"
      ]
    },
    {
      "cell_type": "markdown",
      "metadata": {
        "id": "YBa48PDF9OHw"
      },
      "source": [
        "### Temas a tratar\n",
        "- Clasificación en problemas desbalanceados\n",
        "- Lightgbm y xgboost\n",
        "- Pipelines"
      ]
    },
    {
      "cell_type": "markdown",
      "metadata": {
        "id": "mkhnnMx49Qrh"
      },
      "source": [
        "### Reglas:\n",
        "\n",
        "- **Grupos de 2 personas**\n",
        "- Cualquier duda fuera del horario de clases al foro. Mensajes al equipo docente serán respondidos por este medio.\n",
        "- Prohibidas las copias.\n",
        "- Pueden usar cualquer matrial del curso que estimen conveniente.\n",
        "- Código que no se pueda ejecutar, no será revisado."
      ]
    },
    {
      "cell_type": "markdown",
      "metadata": {
        "id": "sxzJ48Vv8quO"
      },
      "source": [
        "\n",
        "\n",
        "### Objetivos principales del laboratorio\n",
        "- Comprender cómo trabajar con problemas de clasificación con clases desbalanceadas.\n",
        "- Aplicar los modelos lightgbm y xgboost.\n",
        "- Practicar Pipelines"
      ]
    },
    {
      "cell_type": "markdown",
      "metadata": {
        "id": "k-ao0mOU64Ru"
      },
      "source": [
        "# Parte Teórica [12 puntos]\n",
        "\n",
        "\n"
      ]
    },
    {
      "cell_type": "markdown",
      "metadata": {
        "id": "ApXKwPDmxcEV"
      },
      "source": [
        "1. Explique cuál es la diferencia entre los datos de entrenamiento y validación. [1 punto]\n",
        "\n",
        "2. Explique cuál es el principal desafío al trabajar problemas de clasificación con data no supervisada. [1 punto]\n",
        "\n",
        "3. Explique en **sus palabras** qué es la matriz de confusión y para qué se utiliza. [1 puntos]\n",
        "\n",
        "4. Escriba la fórmula de las siguientes métricas y explique con **sus palabras** cómo se interpretan. [1 punto cada uno]\n",
        "\n",
        "  * Accuracy\n",
        "  * Precision\n",
        "  * Recall\n",
        "  * F1 score\n",
        "\n",
        "5. Explique qué métrica recomendaría para los siguientes contextos de clasificación. [1 punto cada uno]\n",
        "\n",
        "  * Mantenimiento predictivo de fallas de maquinaria pesada en la industria minera.  \n",
        "  * Detección de enfermedades altamente contagiosas.\n",
        "  * Aprobación de créditos de alto riesgo.\n",
        "  * Detección de crímenes.\n",
        "\n",
        "6. Explique qué es la calibración de modelos y para qué se usa. [1 punto]\n"
      ]
    },
    {
      "cell_type": "markdown",
      "metadata": {
        "id": "Yy4QMWD8-FPk"
      },
      "source": [
        "**Respuesta:**"
      ]
    },
    {
      "cell_type": "markdown",
      "metadata": {
        "id": "QYFdD1aK-ICa"
      },
      "source": [
        "1. Los datos de entrenamiento son el conjunto de datos disponibles que son utilizados por algún modelo de aprendizaje para extraer relaciones o patrones que describan alguna variable dependiente de interés. El modelo se basa en los datos de entrenamiento para generar predicciones de la variable de interés utilizando los patrones que encontró en los datos de entrenamiento. Por otro lado, los datos de validación son los utilizados para ajustar el modelo entrenado, sus hiperparámetros y revisar si cumple los estándares mínimos en primera instancia sobre un conjunto reducido de datos. El conjunto de testeo es un conjunto de datos sobre el cual el modelo ya entrenado y validado realiza predicciones de la variable dependiente, de forma de compararla luego con el valor real de esta variable y concluir sobre el desempeño general del modelo para predecir esta variable en base a métricas. Cabe destacar que estos conjuntos deben ser disjuntos entre sí para evitar sesgos dados por data leakage, es decir no queremos darle al modelo información de entrenamiento que se incluya en su testeo de forma de conocer el verdadero desempeño del modelo y caracterizar su capacidad de generalización.\n",
        "2. El principal desafío al trabajar con problemas de clasificación con datos no supervisados es que al buscar agrupar datos por similaridad en sus características, los grupos encontrados pueden no ser diferenciables, identificables o interpretables y por sobre todo no se sabe a priori cuántos grupos de datos existen realmente en la data, es decir se desconoce la cantidad de clases que caracterizan a la data y es este precisamente el problema que la clasificación no supervisada busca resolver.\n",
        "3. La matriz de confusión es una forma de organizar y ordenar las predicciones correctas e incorrectas que realiza un modelo. Muestra la cantidad de aciertos y desaciertos por clase, permitiendo visualizar posibles problemas tempranamente como desbalance de clases y permite caracterizar el comportamiento predicitivo del modelo en base a las predicciones que realiza. Se usa como base para construir las distintas métricas de evaluación de modelos que representan razones entre predicciones correctas o incorrectas por sobre las totales para cierta clase o en general, dependiendo de la métrica.\n",
        "4. Se considerará la fórmula para el caso de clasificación binaria por simplicidad, donde TP son los verdaderos positivos, TN los verdaderos negativos, FP los falsos positivos y FN los falsos negativos. El Accuracy que viene dado por:\n",
        "$$\\text{Accuracy}=\\frac{TP+TN}{TP+TN+FP+FN}$$\n",
        "Representa el porcentaje de aciertos que el modelo tuvo respecto al total de predicciones que realizó.\n",
        "\n",
        "El Precision viene dado por:\n",
        "$$\\text{Precision}=\\frac{TP}{TP+FP}$$\n",
        "Representa el porcentaje de aciertos positivos que el modelo realizó, es decir del total de positivos que predijo cuantos realmente eran positivos.\n",
        "\n",
        "El Recall viene dado por:\n",
        "$$\\text{Recall}=\\frac{TP}{TP+FN}$$\n",
        "Representa el porcentaje de clasificaciones positivas correctas del total de elementos con clase positiva. Es decir, de todos los elementos de clases positiva, cuantos identificó correctamente el modelo.\n",
        "\n",
        "El F1-Score viene dado por:\n",
        "$$\\text{F1-Score}=2\\cdot\\frac{\\text{Precision}\\cdot\\text{Recall}}{\\text{Precision}+\\text{Recall}}$$\n",
        "Representa una media armónica entre el Precision y Recall, de forma que enterega un equilibrio entre el desempeño del modelo para ambas de estas métricas.\n",
        "5. La métricas recomendadas para los casos mostrados son:\n",
        "- Considerando que el matenimiento predictivo de fallas en la maquinaria busca reducir el tiempo de inactividad operacional por fallas y suponiendo que prepararse para una falla y que no haya falla implica un menor costo que remendar la falla una vez ocurre, preferimos que hayan falsos positivos sobre falsos negativos. Es decir, preferimos que nuestro modelo sobre prediga fallas de forma que tienda a reportar más fallas de las que ocurren, de forma de minimizar las fallas imprevistas que son muy costosas. En este sentido la métrica recomendada es el recall que mide exactamente esto y penaliza por falsos negativos, es decir cuando el modelo dice que no hay falla pero realmente si hay.\n",
        "- Para la detección de enfermedades altamente contagiosas preferimos siempre estar lo más conscientes posibles de la cantidad de enfermos. Es decir, nos gustaría que nuestro modelo prediga más personas enfermas que no enfermas. Así es necesario exigir al modelo tener pocos falsos negativos, es decir pocos casos que el modelo dice que no están enfermos pero en realidad si lo estaban. Nuevamente la métrica que penaliza por falsos negativos y es recomendada es el Recall.\n",
        "- Para aprobar créditos de alto riesgo, nos gustaría maximizar la probabilidad de pago del crédito del cliente. Para este objetivo el modelo debe aprobar créditos cuando la probabilidad de pago es relativamente alta. En ese sentido, si el modelo no aprueba un crédito para un cliente con probabilidad alta de pago o realiza un falso negativo, la pérdida del banco en este caso no es tan alta dado que pierde principalmente la oportunidad de ofrecer el crédito. POr otro lado, si el modelo aprueba el crédito para un cliente muy riesgoso que finalmente incurre en impago, el costo para el banco de este error es el del valor del crédito y en definitiva es un costo mayor. En ese sentido nos gustaría un modelo que tenga pocos falsos positivos o que otorgue el crédito siendo que la persona no pagará. Una métrica adecuada que penaliza por este valor es el Precision, que es la métrica recomendada.\n",
        "- Para detectar crímines podemos nuevamente evaluar el costo de cometer errores de predicción, en este caso predecir que una persona realizó un crimen cuando no lo hizo tiene un costo alto o es una acusación grave de hacer, por otro lado predecir que una persona no realizó un crimen cuando si lo hizo deja en impunidad este crimen y es también algo de relevancia para el modelo. En este sentido, una métrica recomendable es el F1-Score que encuentra un balance entre Precision y Recall que sería este caso, donde no queremos priorizar una mala clasificación por sobre otra.\n",
        "6. La calibración de modelos se utiliza para ajustar la probabilidad de clases que entregan las predicciones del modelo de forma que se ajusten a la probabilidad de clases real que se observa en los datos. Se usa para regularizar la salida de modelos de aprendizaje en general, sobre la distribución de datos predichos como un conjunto. Muchos modelos no tienen este tipo de regularización agregada naturalmente como XGBoost, sin embargo hay otros que si tienen esta consideración como regresión logística."
      ]
    },
    {
      "cell_type": "markdown",
      "metadata": {
        "id": "Jg_9jBqtgRDO"
      },
      "source": [
        "# Parte práctica [48 puntos]"
      ]
    },
    {
      "cell_type": "markdown",
      "metadata": {
        "id": "slm6yRfdfZwS"
      },
      "source": [
        "<p align=\"center\">\n",
        "  <img src=\"https://i.ibb.co/61L8z0w/renacin-by-volframio-dcirf4l-fullview.jpg\"\n",
        "\" width=\"400\">\n",
        "</p>\n",
        "\n",
        "\n",
        "\n",
        "Tras el trágico despido de la mítica mascota de Maipú, Renacín decide adentrarse como consultor en el mercado futbolero, el cuál (para variar...) está cargado en especulaciones.\n",
        "\n",
        "Como su principal tarea será asesorar a los directivos de los clubes sobre cuál jugador comprar y cuál no, Renacín desea generar modelos predictivos que evaluén distintas características de los jugadores; todo con el fin de tomar decisiones concretas basadas en los datos.\n",
        "\n",
        "Sin embargo, su condición de corporeo le impidió tomar la versión anterior de MDS7202, por lo que este motivo Renacín contrata a su equipo para lograr su objetivo final. Dado que aún tiene fuertes vínculos con la dirección de deportes de la municipalidad, el corporeo le entrega base de datos con las estadísticas de cada jugador para que su equipo empieze a trabajar ya con un dataset listo para ser usado.\n"
      ]
    },
    {
      "cell_type": "markdown",
      "metadata": {
        "id": "jnbx7RwHfkue"
      },
      "source": [
        "**Los Datos**\n",
        "\n",
        "Para este laboratorio deberán trabajar con el csv `statsplayers.csv`, donde deberán aplicar algoritmos de aprendizaje supervisado de clasificación en base a características que describen de jugadores de fútbol.\n",
        "\n",
        "Para comenzar cargue el dataset señalado y a continuación vea el reporte **`Player_Stats_Report.html`** (adjunto en la carpeta del enunciado) que describe las características principales del `DataFrame`."
      ]
    },
    {
      "cell_type": "code",
      "execution_count": 70,
      "metadata": {
        "id": "mX6iwOWUfrp_",
        "colab": {
          "base_uri": "https://localhost:8080/"
        },
        "outputId": "d79e469f-2444-47a4-8a63-0762a43e174e"
      },
      "outputs": [
        {
          "output_type": "stream",
          "name": "stdout",
          "text": [
            "Ignorando conexión drive-colab\n"
          ]
        }
      ],
      "source": [
        "# Si usted está utilizando Colabolatory le puede ser útil este código para cargar los archivos.\n",
        "try:\n",
        "    from google.colab import drive\n",
        "    drive.mount(\"/content/drive\")\n",
        "    path = 'Dirección donde tiene los archivos en el Drive'\n",
        "except:\n",
        "    print('Ignorando conexión drive-colab')"
      ]
    },
    {
      "cell_type": "code",
      "execution_count": 71,
      "metadata": {
        "id": "TFUqqTK0rGfc"
      },
      "outputs": [],
      "source": [
        "# Paquetes a utilizar\n",
        "# Clásicos\n",
        "import pandas as pd\n",
        "import numpy as np"
      ]
    },
    {
      "cell_type": "code",
      "execution_count": 72,
      "metadata": {
        "colab": {
          "base_uri": "https://localhost:8080/",
          "height": 342
        },
        "id": "ON8MxbU3rGfc",
        "outputId": "15baf044-294d-41a2-aaae-66562ef97782"
      },
      "outputs": [
        {
          "output_type": "execute_result",
          "data": {
            "text/plain": [
              "                Name Nationality National_Position Club_Position  Height  \\\n",
              "0  Cristiano Ronaldo    Portugal                LS            LW     185   \n",
              "1       Lionel Messi   Argentina                RW            RW     170   \n",
              "2             Neymar      Brazil                LW            LW     174   \n",
              "3        Luis Suárez     Uruguay                LS            ST     182   \n",
              "4       Manuel Neuer     Germany                GK            GK     193   \n",
              "\n",
              "   Weight Preffered_Foot  Age        Work_Rate  Weak_foot  ...  Agility  \\\n",
              "0      80          Right   32       High / Low          4  ...       90   \n",
              "1      72           Left   29  Medium / Medium          4  ...       90   \n",
              "2      68          Right   25    High / Medium          5  ...       96   \n",
              "3      85          Right   30    High / Medium          4  ...       86   \n",
              "4      92          Right   31  Medium / Medium          4  ...       52   \n",
              "\n",
              "   Jumping  Heading  Shot_Power  Finishing  Long_Shots  Curve  \\\n",
              "0       95       85          92         93          90     81   \n",
              "1       68       71          85         95          88     89   \n",
              "2       61       62          78         89          77     79   \n",
              "3       69       77          87         94          86     86   \n",
              "4       78       25          25         13          16     14   \n",
              "\n",
              "   Freekick_Accuracy  Penalties  Volleys  \n",
              "0                 76         85       88  \n",
              "1                 90         74       85  \n",
              "2                 84         81       83  \n",
              "3                 84         85       88  \n",
              "4                 11         47       11  \n",
              "\n",
              "[5 rows x 39 columns]"
            ],
            "text/html": [
              "\n",
              "  <div id=\"df-b6870652-47da-49c8-8e2a-5fbabd254c1d\" class=\"colab-df-container\">\n",
              "    <div>\n",
              "<style scoped>\n",
              "    .dataframe tbody tr th:only-of-type {\n",
              "        vertical-align: middle;\n",
              "    }\n",
              "\n",
              "    .dataframe tbody tr th {\n",
              "        vertical-align: top;\n",
              "    }\n",
              "\n",
              "    .dataframe thead th {\n",
              "        text-align: right;\n",
              "    }\n",
              "</style>\n",
              "<table border=\"1\" class=\"dataframe\">\n",
              "  <thead>\n",
              "    <tr style=\"text-align: right;\">\n",
              "      <th></th>\n",
              "      <th>Name</th>\n",
              "      <th>Nationality</th>\n",
              "      <th>National_Position</th>\n",
              "      <th>Club_Position</th>\n",
              "      <th>Height</th>\n",
              "      <th>Weight</th>\n",
              "      <th>Preffered_Foot</th>\n",
              "      <th>Age</th>\n",
              "      <th>Work_Rate</th>\n",
              "      <th>Weak_foot</th>\n",
              "      <th>...</th>\n",
              "      <th>Agility</th>\n",
              "      <th>Jumping</th>\n",
              "      <th>Heading</th>\n",
              "      <th>Shot_Power</th>\n",
              "      <th>Finishing</th>\n",
              "      <th>Long_Shots</th>\n",
              "      <th>Curve</th>\n",
              "      <th>Freekick_Accuracy</th>\n",
              "      <th>Penalties</th>\n",
              "      <th>Volleys</th>\n",
              "    </tr>\n",
              "  </thead>\n",
              "  <tbody>\n",
              "    <tr>\n",
              "      <th>0</th>\n",
              "      <td>Cristiano Ronaldo</td>\n",
              "      <td>Portugal</td>\n",
              "      <td>LS</td>\n",
              "      <td>LW</td>\n",
              "      <td>185</td>\n",
              "      <td>80</td>\n",
              "      <td>Right</td>\n",
              "      <td>32</td>\n",
              "      <td>High / Low</td>\n",
              "      <td>4</td>\n",
              "      <td>...</td>\n",
              "      <td>90</td>\n",
              "      <td>95</td>\n",
              "      <td>85</td>\n",
              "      <td>92</td>\n",
              "      <td>93</td>\n",
              "      <td>90</td>\n",
              "      <td>81</td>\n",
              "      <td>76</td>\n",
              "      <td>85</td>\n",
              "      <td>88</td>\n",
              "    </tr>\n",
              "    <tr>\n",
              "      <th>1</th>\n",
              "      <td>Lionel Messi</td>\n",
              "      <td>Argentina</td>\n",
              "      <td>RW</td>\n",
              "      <td>RW</td>\n",
              "      <td>170</td>\n",
              "      <td>72</td>\n",
              "      <td>Left</td>\n",
              "      <td>29</td>\n",
              "      <td>Medium / Medium</td>\n",
              "      <td>4</td>\n",
              "      <td>...</td>\n",
              "      <td>90</td>\n",
              "      <td>68</td>\n",
              "      <td>71</td>\n",
              "      <td>85</td>\n",
              "      <td>95</td>\n",
              "      <td>88</td>\n",
              "      <td>89</td>\n",
              "      <td>90</td>\n",
              "      <td>74</td>\n",
              "      <td>85</td>\n",
              "    </tr>\n",
              "    <tr>\n",
              "      <th>2</th>\n",
              "      <td>Neymar</td>\n",
              "      <td>Brazil</td>\n",
              "      <td>LW</td>\n",
              "      <td>LW</td>\n",
              "      <td>174</td>\n",
              "      <td>68</td>\n",
              "      <td>Right</td>\n",
              "      <td>25</td>\n",
              "      <td>High / Medium</td>\n",
              "      <td>5</td>\n",
              "      <td>...</td>\n",
              "      <td>96</td>\n",
              "      <td>61</td>\n",
              "      <td>62</td>\n",
              "      <td>78</td>\n",
              "      <td>89</td>\n",
              "      <td>77</td>\n",
              "      <td>79</td>\n",
              "      <td>84</td>\n",
              "      <td>81</td>\n",
              "      <td>83</td>\n",
              "    </tr>\n",
              "    <tr>\n",
              "      <th>3</th>\n",
              "      <td>Luis Suárez</td>\n",
              "      <td>Uruguay</td>\n",
              "      <td>LS</td>\n",
              "      <td>ST</td>\n",
              "      <td>182</td>\n",
              "      <td>85</td>\n",
              "      <td>Right</td>\n",
              "      <td>30</td>\n",
              "      <td>High / Medium</td>\n",
              "      <td>4</td>\n",
              "      <td>...</td>\n",
              "      <td>86</td>\n",
              "      <td>69</td>\n",
              "      <td>77</td>\n",
              "      <td>87</td>\n",
              "      <td>94</td>\n",
              "      <td>86</td>\n",
              "      <td>86</td>\n",
              "      <td>84</td>\n",
              "      <td>85</td>\n",
              "      <td>88</td>\n",
              "    </tr>\n",
              "    <tr>\n",
              "      <th>4</th>\n",
              "      <td>Manuel Neuer</td>\n",
              "      <td>Germany</td>\n",
              "      <td>GK</td>\n",
              "      <td>GK</td>\n",
              "      <td>193</td>\n",
              "      <td>92</td>\n",
              "      <td>Right</td>\n",
              "      <td>31</td>\n",
              "      <td>Medium / Medium</td>\n",
              "      <td>4</td>\n",
              "      <td>...</td>\n",
              "      <td>52</td>\n",
              "      <td>78</td>\n",
              "      <td>25</td>\n",
              "      <td>25</td>\n",
              "      <td>13</td>\n",
              "      <td>16</td>\n",
              "      <td>14</td>\n",
              "      <td>11</td>\n",
              "      <td>47</td>\n",
              "      <td>11</td>\n",
              "    </tr>\n",
              "  </tbody>\n",
              "</table>\n",
              "<p>5 rows × 39 columns</p>\n",
              "</div>\n",
              "    <div class=\"colab-df-buttons\">\n",
              "\n",
              "  <div class=\"colab-df-container\">\n",
              "    <button class=\"colab-df-convert\" onclick=\"convertToInteractive('df-b6870652-47da-49c8-8e2a-5fbabd254c1d')\"\n",
              "            title=\"Convert this dataframe to an interactive table.\"\n",
              "            style=\"display:none;\">\n",
              "\n",
              "  <svg xmlns=\"http://www.w3.org/2000/svg\" height=\"24px\" viewBox=\"0 -960 960 960\">\n",
              "    <path d=\"M120-120v-720h720v720H120Zm60-500h600v-160H180v160Zm220 220h160v-160H400v160Zm0 220h160v-160H400v160ZM180-400h160v-160H180v160Zm440 0h160v-160H620v160ZM180-180h160v-160H180v160Zm440 0h160v-160H620v160Z\"/>\n",
              "  </svg>\n",
              "    </button>\n",
              "\n",
              "  <style>\n",
              "    .colab-df-container {\n",
              "      display:flex;\n",
              "      gap: 12px;\n",
              "    }\n",
              "\n",
              "    .colab-df-convert {\n",
              "      background-color: #E8F0FE;\n",
              "      border: none;\n",
              "      border-radius: 50%;\n",
              "      cursor: pointer;\n",
              "      display: none;\n",
              "      fill: #1967D2;\n",
              "      height: 32px;\n",
              "      padding: 0 0 0 0;\n",
              "      width: 32px;\n",
              "    }\n",
              "\n",
              "    .colab-df-convert:hover {\n",
              "      background-color: #E2EBFA;\n",
              "      box-shadow: 0px 1px 2px rgba(60, 64, 67, 0.3), 0px 1px 3px 1px rgba(60, 64, 67, 0.15);\n",
              "      fill: #174EA6;\n",
              "    }\n",
              "\n",
              "    .colab-df-buttons div {\n",
              "      margin-bottom: 4px;\n",
              "    }\n",
              "\n",
              "    [theme=dark] .colab-df-convert {\n",
              "      background-color: #3B4455;\n",
              "      fill: #D2E3FC;\n",
              "    }\n",
              "\n",
              "    [theme=dark] .colab-df-convert:hover {\n",
              "      background-color: #434B5C;\n",
              "      box-shadow: 0px 1px 3px 1px rgba(0, 0, 0, 0.15);\n",
              "      filter: drop-shadow(0px 1px 2px rgba(0, 0, 0, 0.3));\n",
              "      fill: #FFFFFF;\n",
              "    }\n",
              "  </style>\n",
              "\n",
              "    <script>\n",
              "      const buttonEl =\n",
              "        document.querySelector('#df-b6870652-47da-49c8-8e2a-5fbabd254c1d button.colab-df-convert');\n",
              "      buttonEl.style.display =\n",
              "        google.colab.kernel.accessAllowed ? 'block' : 'none';\n",
              "\n",
              "      async function convertToInteractive(key) {\n",
              "        const element = document.querySelector('#df-b6870652-47da-49c8-8e2a-5fbabd254c1d');\n",
              "        const dataTable =\n",
              "          await google.colab.kernel.invokeFunction('convertToInteractive',\n",
              "                                                    [key], {});\n",
              "        if (!dataTable) return;\n",
              "\n",
              "        const docLinkHtml = 'Like what you see? Visit the ' +\n",
              "          '<a target=\"_blank\" href=https://colab.research.google.com/notebooks/data_table.ipynb>data table notebook</a>'\n",
              "          + ' to learn more about interactive tables.';\n",
              "        element.innerHTML = '';\n",
              "        dataTable['output_type'] = 'display_data';\n",
              "        await google.colab.output.renderOutput(dataTable, element);\n",
              "        const docLink = document.createElement('div');\n",
              "        docLink.innerHTML = docLinkHtml;\n",
              "        element.appendChild(docLink);\n",
              "      }\n",
              "    </script>\n",
              "  </div>\n",
              "\n",
              "\n",
              "<div id=\"df-aa481699-4cbf-4076-a32b-92e417b70d61\">\n",
              "  <button class=\"colab-df-quickchart\" onclick=\"quickchart('df-aa481699-4cbf-4076-a32b-92e417b70d61')\"\n",
              "            title=\"Suggest charts\"\n",
              "            style=\"display:none;\">\n",
              "\n",
              "<svg xmlns=\"http://www.w3.org/2000/svg\" height=\"24px\"viewBox=\"0 0 24 24\"\n",
              "     width=\"24px\">\n",
              "    <g>\n",
              "        <path d=\"M19 3H5c-1.1 0-2 .9-2 2v14c0 1.1.9 2 2 2h14c1.1 0 2-.9 2-2V5c0-1.1-.9-2-2-2zM9 17H7v-7h2v7zm4 0h-2V7h2v10zm4 0h-2v-4h2v4z\"/>\n",
              "    </g>\n",
              "</svg>\n",
              "  </button>\n",
              "\n",
              "<style>\n",
              "  .colab-df-quickchart {\n",
              "      --bg-color: #E8F0FE;\n",
              "      --fill-color: #1967D2;\n",
              "      --hover-bg-color: #E2EBFA;\n",
              "      --hover-fill-color: #174EA6;\n",
              "      --disabled-fill-color: #AAA;\n",
              "      --disabled-bg-color: #DDD;\n",
              "  }\n",
              "\n",
              "  [theme=dark] .colab-df-quickchart {\n",
              "      --bg-color: #3B4455;\n",
              "      --fill-color: #D2E3FC;\n",
              "      --hover-bg-color: #434B5C;\n",
              "      --hover-fill-color: #FFFFFF;\n",
              "      --disabled-bg-color: #3B4455;\n",
              "      --disabled-fill-color: #666;\n",
              "  }\n",
              "\n",
              "  .colab-df-quickchart {\n",
              "    background-color: var(--bg-color);\n",
              "    border: none;\n",
              "    border-radius: 50%;\n",
              "    cursor: pointer;\n",
              "    display: none;\n",
              "    fill: var(--fill-color);\n",
              "    height: 32px;\n",
              "    padding: 0;\n",
              "    width: 32px;\n",
              "  }\n",
              "\n",
              "  .colab-df-quickchart:hover {\n",
              "    background-color: var(--hover-bg-color);\n",
              "    box-shadow: 0 1px 2px rgba(60, 64, 67, 0.3), 0 1px 3px 1px rgba(60, 64, 67, 0.15);\n",
              "    fill: var(--button-hover-fill-color);\n",
              "  }\n",
              "\n",
              "  .colab-df-quickchart-complete:disabled,\n",
              "  .colab-df-quickchart-complete:disabled:hover {\n",
              "    background-color: var(--disabled-bg-color);\n",
              "    fill: var(--disabled-fill-color);\n",
              "    box-shadow: none;\n",
              "  }\n",
              "\n",
              "  .colab-df-spinner {\n",
              "    border: 2px solid var(--fill-color);\n",
              "    border-color: transparent;\n",
              "    border-bottom-color: var(--fill-color);\n",
              "    animation:\n",
              "      spin 1s steps(1) infinite;\n",
              "  }\n",
              "\n",
              "  @keyframes spin {\n",
              "    0% {\n",
              "      border-color: transparent;\n",
              "      border-bottom-color: var(--fill-color);\n",
              "      border-left-color: var(--fill-color);\n",
              "    }\n",
              "    20% {\n",
              "      border-color: transparent;\n",
              "      border-left-color: var(--fill-color);\n",
              "      border-top-color: var(--fill-color);\n",
              "    }\n",
              "    30% {\n",
              "      border-color: transparent;\n",
              "      border-left-color: var(--fill-color);\n",
              "      border-top-color: var(--fill-color);\n",
              "      border-right-color: var(--fill-color);\n",
              "    }\n",
              "    40% {\n",
              "      border-color: transparent;\n",
              "      border-right-color: var(--fill-color);\n",
              "      border-top-color: var(--fill-color);\n",
              "    }\n",
              "    60% {\n",
              "      border-color: transparent;\n",
              "      border-right-color: var(--fill-color);\n",
              "    }\n",
              "    80% {\n",
              "      border-color: transparent;\n",
              "      border-right-color: var(--fill-color);\n",
              "      border-bottom-color: var(--fill-color);\n",
              "    }\n",
              "    90% {\n",
              "      border-color: transparent;\n",
              "      border-bottom-color: var(--fill-color);\n",
              "    }\n",
              "  }\n",
              "</style>\n",
              "\n",
              "  <script>\n",
              "    async function quickchart(key) {\n",
              "      const quickchartButtonEl =\n",
              "        document.querySelector('#' + key + ' button');\n",
              "      quickchartButtonEl.disabled = true;  // To prevent multiple clicks.\n",
              "      quickchartButtonEl.classList.add('colab-df-spinner');\n",
              "      try {\n",
              "        const charts = await google.colab.kernel.invokeFunction(\n",
              "            'suggestCharts', [key], {});\n",
              "      } catch (error) {\n",
              "        console.error('Error during call to suggestCharts:', error);\n",
              "      }\n",
              "      quickchartButtonEl.classList.remove('colab-df-spinner');\n",
              "      quickchartButtonEl.classList.add('colab-df-quickchart-complete');\n",
              "    }\n",
              "    (() => {\n",
              "      let quickchartButtonEl =\n",
              "        document.querySelector('#df-aa481699-4cbf-4076-a32b-92e417b70d61 button');\n",
              "      quickchartButtonEl.style.display =\n",
              "        google.colab.kernel.accessAllowed ? 'block' : 'none';\n",
              "    })();\n",
              "  </script>\n",
              "</div>\n",
              "\n",
              "    </div>\n",
              "  </div>\n"
            ],
            "application/vnd.google.colaboratory.intrinsic+json": {
              "type": "dataframe",
              "variable_name": "data"
            }
          },
          "metadata": {},
          "execution_count": 72
        }
      ],
      "source": [
        "data = pd.read_csv(\"/content/stats_players.csv\")\n",
        "data.head()"
      ]
    },
    {
      "cell_type": "markdown",
      "metadata": {
        "id": "JdcucZhp-M_0"
      },
      "source": [
        "## 1. Predicción de Seleccionados Nacionales [14 puntos]"
      ]
    },
    {
      "cell_type": "markdown",
      "metadata": {
        "id": "HXrewqxjjzvA"
      },
      "source": [
        "<p align=\"center\">\n",
        "  <img src=\"https://www.futuro.cl/wp-content/uploads/2016/06/chile-argentina-meme-12.jpg\" width=\"300\">\n",
        "</p>\n",
        "\n"
      ]
    },
    {
      "cell_type": "markdown",
      "metadata": {
        "id": "Qfre1YsSDqla"
      },
      "source": [
        "### 1.1 Preprocesamiento [5 puntos]"
      ]
    },
    {
      "cell_type": "markdown",
      "metadata": {
        "id": "IR00u4HTDtxv"
      },
      "source": [
        "Tareas:\n",
        "\n",
        "1. Genere los labels para la clasificación binaria en una variable llamada `label`. Para esto, trabaje sobre el atributo `National_Position` suponiendo que los valores nulos son jugadores no seleccionados para representar a su país. [Sin puntaje]\n",
        "\n",
        "2. Hecho esto, ¿cuántos se tienen ejemplos por cada clase? Comente lo que observa. [1 punto]\n",
        "\n",
        "3. Genere un `ColumnTransformer` en donde especifique las transformaciones que hay que realizar para cada columna (por ejemplo StandarScaler, MinMaxScaler, OneHotEncoder, etc...) para que puedan ser utilizadas correctamente por el modelo predictivo y guárdelo una variable llamada `col_transformer`. [2 puntos]\n",
        "\n",
        "4. Comente y justifique las transformaciones elegidas sobre cada una de las variables (para esto utilice el material `Player_Stats_Report.html` que viene en el zip del lab), al igual que las transformaciones aplicadas. [2 puntos]"
      ]
    },
    {
      "cell_type": "markdown",
      "metadata": {
        "id": "tgAk0kbPjEsx"
      },
      "source": [
        "**Respuesta:**"
      ]
    },
    {
      "cell_type": "code",
      "execution_count": 73,
      "metadata": {
        "id": "JhC2sZj9dSI1",
        "colab": {
          "base_uri": "https://localhost:8080/"
        },
        "outputId": "309df6b2-d84b-4fe9-cfcf-cce17b04ca74"
      },
      "outputs": [
        {
          "output_type": "stream",
          "name": "stdout",
          "text": [
            "Cantidad de seleccionados nacionales: 1075\n",
            "Cantidad de no seleccionados nacionales: 16513\n",
            "Proporción clase 1 respecto a clase 0: 0.06510022406588749\n"
          ]
        }
      ],
      "source": [
        "# 1.\n",
        "# Creación de columna\n",
        "data[\"label\"] = data[\"National_Position\"].apply(lambda x:1 if pd.notna(x) and x.strip() != '' else 0)\n",
        "# 2.\n",
        "# Ejemplos por clase\n",
        "print(\"Cantidad de seleccionados nacionales:\",data[\"label\"].value_counts()[1])\n",
        "print(\"Cantidad de no seleccionados nacionales:\",data[\"label\"].value_counts()[0])\n",
        "print(\"Proporción clase 1 respecto a clase 0:\",data[\"label\"].value_counts()[1]/data[\"label\"].value_counts()[0])\n",
        "# Se observa un desbalance de clases, donde un porcentaje menor de los jugadores son jugadores seleccionados\n",
        "# mientras que la mayoría son no seleccionados.\n",
        "# 3. y 4.\n",
        "# ColumnTransformer\n",
        "from sklearn.compose import ColumnTransformer\n",
        "# Utilizamos RobustScaler, dado que asumir distribución normal sobre las 31 columnas numéricas pueden ser\n",
        "# inadecuado. MinMaxScaler puede ser susceptible a outliers que según el reporte no se aprecian en los histogramas\n",
        "# pero no hemos aún confirmado si hay o no.\n",
        "from sklearn.preprocessing import RobustScaler\n",
        "robust_scaler = RobustScaler()\n",
        "# Utilizamos OneHotEncoder para las variables categóricas que no son identificadores como el nombre y que no son National_Position\n",
        "# dado que construimos la etiqueta con esta columna. Las columnas categóricas a incluir pueden en su mayoría ser descompuestas en\n",
        "# pocas variables binarias por onehot, salvo por el país. Luego podemos reevaluar esta decisión.\n",
        "from sklearn.preprocessing import OneHotEncoder\n",
        "one_hot = OneHotEncoder(sparse_output=False, handle_unknown='ignore')\n",
        "# Fuera de la variable National_Position, del reporte vemos que Club_Position tiene 1 valor faltante. Por esto necesitamos un imputador.\n",
        "# Utilizamos uno simple para pocos casos y de poco impacto que se asegure de que no hay nulos para ninguna variable, creamos uno por\n",
        "# tipo de variable.\n",
        "from sklearn.impute import SimpleImputer\n",
        "sim_imp_cat = SimpleImputer(strategy=\"most_frequent\")\n",
        "sim_imp_num = SimpleImputer(strategy=\"mean\")\n",
        "\n",
        "\n",
        "# Definimos las columnas a transformar\n",
        "categorical_columns = data.select_dtypes(include=['object', 'category']).drop(['Name', 'National_Position'], axis=1).columns.tolist()\n",
        "numerical_columns = data.select_dtypes(include=['int64', 'float64']).drop(['label'],axis=1).columns.tolist()\n",
        "\n",
        "# Pipelines separados por variable\n",
        "from sklearn.pipeline import Pipeline\n",
        "cat_pipe = Pipeline([\n",
        "    ('Imputer_mode',sim_imp_cat),\n",
        "    ('OneHotEncoder',one_hot)\n",
        "])\n",
        "num_pipe = Pipeline([\n",
        "    ('Imputer_mean',sim_imp_num),\n",
        "    ('RobustScaler',robust_scaler)\n",
        "])\n",
        "# ColumnTransformer\n",
        "col_transformer = ColumnTransformer([\n",
        "    (\"Categorical Transformation\",cat_pipe,categorical_columns),\n",
        "    (\"Numerical Transformation\",num_pipe,numerical_columns)\n",
        "])"
      ]
    },
    {
      "cell_type": "code",
      "source": [],
      "metadata": {
        "id": "bLPe1sGhrzp-"
      },
      "execution_count": 73,
      "outputs": []
    },
    {
      "cell_type": "markdown",
      "metadata": {
        "id": "Bv1HOfcNEPF4"
      },
      "source": [
        "### 1.2 Entrenamiento [3 puntos]"
      ]
    },
    {
      "cell_type": "markdown",
      "metadata": {
        "id": "whPkuXTUBvB0"
      },
      "source": [
        "Ahora, vamos a entrenar los pipelines generados en los pasos anteriores. Para esto, debe realizar las siguientes tareas:\n",
        "\n",
        "1. Separe los datos de entrenamiento en un conjunto de entrenamiento y de prueba  (la proporción queda a su juicio). En este paso, seleccione los ejemplos de forma aleatoria e intente mantener la distribución original de labels de cada clase en los conjuntos de prueba/entrenamiento. (vea la documentación de `train_test_split`). [1 puntos]\n",
        "\n",
        "\n",
        "2. Defina un pipeline llamado `pipeline_xgboost` y otro llamado `pipeline_lightgbm`. Estos pipelines deben tener el mismo ColumnTransformer definido en la sección de preprocesamiento, pero deben variar los clasificadores de acuerdo al nombre de cada pipeline. [1 puntos]\n",
        "\n",
        "3. Entrene los pipelines. [1 punto]\n",
        "\n"
      ]
    },
    {
      "cell_type": "markdown",
      "metadata": {
        "id": "kbadONFtjGnE"
      },
      "source": [
        "**Respuesta:**"
      ]
    },
    {
      "cell_type": "code",
      "execution_count": 74,
      "metadata": {
        "id": "lLtlXGTPdWAV",
        "colab": {
          "base_uri": "https://localhost:8080/"
        },
        "outputId": "64de0af3-8d87-427f-f277-a7c9e42a5f17"
      },
      "outputs": [
        {
          "output_type": "stream",
          "name": "stdout",
          "text": [
            "[LightGBM] [Info] Number of positive: 860, number of negative: 13210\n",
            "[LightGBM] [Info] Auto-choosing row-wise multi-threading, the overhead of testing was 0.003028 seconds.\n",
            "You can set `force_row_wise=true` to remove the overhead.\n",
            "And if memory is not enough, you can set `force_col_wise=true`.\n",
            "[LightGBM] [Info] Total Bins 2649\n",
            "[LightGBM] [Info] Number of data points in the train set: 14070, number of used features: 142\n",
            "[LightGBM] [Info] [binary:BoostFromScore]: pavg=0.061123 -> initscore=-2.731797\n",
            "[LightGBM] [Info] Start training from score -2.731797\n"
          ]
        }
      ],
      "source": [
        "# 1. Separamos la data\n",
        "from sklearn.model_selection import train_test_split\n",
        "# Ajustamos la data que nos interesa para el entrenamiento\n",
        "X = data.drop(['Name','National_Position','label'],axis=1)\n",
        "y = data['label']\n",
        "\n",
        "# Separamos aleatoriamente con mantención de proporción de clases y seleccionamos un 20% como test arbitrariamente.\n",
        "X_train, X_test, y_train, y_test = train_test_split(X, y, test_size=0.2, random_state=30,stratify=y)\n",
        "# 2. Pipeline XGBoost\n",
        "# Importamos\n",
        "from xgboost import XGBClassifier\n",
        "from lightgbm import LGBMClassifier\n",
        "# Instanciamos los clasificadores\n",
        "xgb_model = XGBClassifier()\n",
        "lgbm_model = LGBMClassifier()\n",
        "\n",
        "# Creamos la instancia\n",
        "pipeline_xgboost = Pipeline([\n",
        "    ('Column_Transformer',col_transformer),\n",
        "    ('xgb_classifier',xgb_model)\n",
        "])\n",
        "pipeline_lightgbm = Pipeline([\n",
        "    ('Column_Transformer',col_transformer),\n",
        "    ('lgbm_classifier',lgbm_model)\n",
        "])\n",
        "# 3. Entrenamos\n",
        "y_pred_xgboost = pipeline_xgboost.fit(X_train, y_train)\n",
        "y_pred_lgbm = pipeline_lightgbm.fit(X_train, y_train)\n",
        "y_pred_xgboost = pipeline_xgboost.predict(X_test)\n",
        "y_pred_lgbm = pipeline_lightgbm.predict(X_test)\n"
      ]
    },
    {
      "cell_type": "markdown",
      "metadata": {
        "id": "poc9HSNBFeKO"
      },
      "source": [
        "### 1.3 Resultados [6 puntos]"
      ]
    },
    {
      "cell_type": "markdown",
      "metadata": {
        "id": "tGGCj8YtFil1"
      },
      "source": [
        "1. Calcule las métricas accuracy, precisión y recall de la clase positiva (la que indica que un jugador es seleccionado nacional) para evaluar el rendimiento de los distintos modelos. Verifique sus resultados usando `classification_report`. [2 puntos]\n",
        "\n",
        "2. Explique qué implican los valores de accuracy, precisión y recall de la clase positiva (la que indica que un jugador es seleccionado nacional) y cómo influye la cantidad de ejemplos por clase en los resultados obtenidos. [2 puntos]\n",
        "\n",
        "3. Explique qué métrica le parece más adecuada y concluya qué modelo tiene un mejor desempeño. [2 puntos]"
      ]
    },
    {
      "cell_type": "markdown",
      "metadata": {
        "id": "A1hkVFdujJTi"
      },
      "source": [
        "**Respuesta:**"
      ]
    },
    {
      "cell_type": "code",
      "execution_count": 75,
      "metadata": {
        "id": "QNmI_tbbdQte",
        "colab": {
          "base_uri": "https://localhost:8080/"
        },
        "outputId": "b8fc3e30-82b7-48a1-b7dc-d7e44e492325"
      },
      "outputs": [
        {
          "output_type": "stream",
          "name": "stdout",
          "text": [
            "Métricas de desempeño XGBoost:\n",
            "Accuracy: 0.9499715747583855\n",
            "Precisión para la clase 1: 0.6611570247933884\n",
            "Recall para la clase 1: 0.37209302325581395\n",
            "F1-Score para la clase 1: 0.47619047619047616\n",
            "Matriz de Confusión:\n",
            "[[3262   41]\n",
            " [ 135   80]]\n",
            "Clasification Report:\n",
            "              precision    recall  f1-score   support\n",
            "\n",
            "           0       0.96      0.99      0.97      3303\n",
            "           1       0.66      0.37      0.48       215\n",
            "\n",
            "    accuracy                           0.95      3518\n",
            "   macro avg       0.81      0.68      0.72      3518\n",
            "weighted avg       0.94      0.95      0.94      3518\n",
            "\n",
            "Métricas de desempeño LGBM:\n",
            "Accuracy: 0.9502558271745309\n",
            "Precisión para la clase 1: 0.6666666666666666\n",
            "Recall para la clase 1: 0.37209302325581395\n",
            "F1-Score para la clase 1: 0.47761194029850745\n",
            "Matriz de Confusión:\n",
            "[[3263   40]\n",
            " [ 135   80]]\n",
            "Clasification Report:\n",
            "              precision    recall  f1-score   support\n",
            "\n",
            "           0       0.96      0.99      0.97      3303\n",
            "           1       0.67      0.37      0.48       215\n",
            "\n",
            "    accuracy                           0.95      3518\n",
            "   macro avg       0.81      0.68      0.73      3518\n",
            "weighted avg       0.94      0.95      0.94      3518\n",
            "\n"
          ]
        }
      ],
      "source": [
        "# 1.\n",
        "# Importamos\n",
        "from sklearn.metrics import accuracy_score,precision_score,recall_score,f1_score,classification_report,confusion_matrix\n",
        "# XGBoost\n",
        "accuracy_xgboost = accuracy_score(y_test, y_pred_xgboost)\n",
        "precision_xgboost = precision_score(y_test, y_pred_xgboost, average=None)\n",
        "recall_xgboost = recall_score(y_test, y_pred_xgboost, average=None)\n",
        "f1_xgboost = f1_score(y_test, y_pred_xgboost, average=None)\n",
        "cm_xgboost = confusion_matrix(y_test, y_pred_xgboost)\n",
        "report_xgboost = classification_report(y_test, y_pred_xgboost)\n",
        "print(\"Métricas de desempeño XGBoost:\")\n",
        "print(\"Accuracy:\",accuracy_xgboost)\n",
        "print(\"Precisión para la clase 1:\",precision_xgboost[1])\n",
        "print(\"Recall para la clase 1:\",recall_xgboost[1])\n",
        "print(\"F1-Score para la clase 1:\",f1_xgboost[1])\n",
        "print(\"Matriz de Confusión:\")\n",
        "print(cm_xgboost)\n",
        "print(\"Clasification Report:\")\n",
        "print(report_xgboost)\n",
        "# LightGBM\n",
        "accuracy_lgbm = accuracy_score(y_test, y_pred_lgbm)\n",
        "precision_lgbm = precision_score(y_test, y_pred_lgbm, average=None)\n",
        "recall_lgbm = recall_score(y_test, y_pred_lgbm, average=None)\n",
        "f1_lgbm = f1_score(y_test, y_pred_lgbm, average=None)\n",
        "cm_lgbm = confusion_matrix(y_test, y_pred_lgbm)\n",
        "report_lgbm = classification_report(y_test, y_pred_lgbm)\n",
        "print(\"Métricas de desempeño LGBM:\")\n",
        "print(\"Accuracy:\",accuracy_lgbm)\n",
        "print(\"Precisión para la clase 1:\",precision_lgbm[1])\n",
        "print(\"Recall para la clase 1:\",recall_lgbm[1])\n",
        "print(\"F1-Score para la clase 1:\",f1_lgbm[1])\n",
        "print(\"Matriz de Confusión:\")\n",
        "print(cm_lgbm)\n",
        "print(\"Clasification Report:\")\n",
        "print(report_lgbm)"
      ]
    },
    {
      "cell_type": "markdown",
      "metadata": {
        "id": "cdk8zMQyrGfe"
      },
      "source": [
        "2. De las métricas entregadas, vemos que se tiene un accuracy alto lo cual quiere decir que el total de predicciones que hace el modelo son en su mayoría correctas sin distinguir por clase. Sin embargo, si nos fijamos en la clase 1 minoritaria se tienen métricas muy menores a lo que se esperaría de un accuracy alto y de las métricas para la clase 0, lo cual se debe al desbalance de clases. En primer lugar, el precision para ambos casos es de aproximadamente 0.66, es decir de todas las predicciones de 1 que realizó el modelo solo acerto 2/3 de ellas aproximadamente. El recall de 0.37 indica que de los valores con etiqueta 1 real, el modelo predice correctamente solo un 37% lo cual es desalentador. La cantidad de elementos de la clase minoritaria hace que los modelos sean menos potentes para detectar a la clase minoritaria lo cual es reflejado por el precision y recall de la clase 1. Cabe mencionar que F1-Score es cercano a 1/2 y el promedio armónico de ambas métricas descritas es bajo y hay un mal desempeño en general.\n",
        "3. La mejor métrica en el caso de que nuestro objetivo sea predecir si un jugador es o no seleccionado nacional primero debe ser respecto a la clase 1, es decir evaluamos qué tan bueno es el modelo para predecir la clase minoritaria que es de interés. La métrica podemos recomendarla acorde al costo que significaría tener un falso positivo (Precision) o falso negativo (Recall). En este caso no hay un costo específico asociado a privilegiar uno sobre el otro especialmente, pero si buscamos una métrica que considere ambos para predecir mejor la clase minoritaria. Por esto la métrica recomendada es el F1-Score que encuentra el balance entre ambas métricas y considera ambos efectos.\n",
        "Finalmente, ambos modelos se comportan muy similarmente y no hay una diferencia sustancial que valga la pena destacar. Solo LGBM clasifica un ejemplo de la clase 0 corectamente más que XGBoost, pero no necesariamente puede deberse a que un modelo es mejor que el otro basados solo en ese elemento. En ese sentido, ambos modelos se desempeñan de igual forma."
      ]
    },
    {
      "cell_type": "markdown",
      "metadata": {
        "id": "uy5VMU6ae_g6"
      },
      "source": [
        "## 2. Predicción de posiciones de jugadores [4 puntos]"
      ]
    },
    {
      "cell_type": "markdown",
      "metadata": {
        "id": "S0PGg_hLgr4H"
      },
      "source": [
        "<p align=\"center\">\n",
        "  <img src=\"https://pbs.twimg.com/media/E1rfA1aWEAYU6Ny.jpg\" width=\"300\">\n",
        "</p>"
      ]
    },
    {
      "cell_type": "markdown",
      "metadata": {
        "id": "I6rSnAesfOm3"
      },
      "source": [
        "En una nueva jornada de desmesuradas transacciones deportivas, Renacín escuchó a sus colegas discutir acerca de que el precio de cada jugador depende en gran medida de la posición en la cancha en la que juega. Y además, que hay bastantes jugadores nuevos que no tienen muy claro en que posición verdaderamente brillarían, por lo que actualmente puede que actualmente estén jugando en posiciones sub-optimas.\n",
        "\n",
        "Viendo que los resultados del primer análisis no son tan esperanzadores, el corporeo los comanda a cambiar su tarea: ahora, les solicita que construyan un clasificador enfocado en predecir la mejor posición de los jugadores en la cancha según sus características.\n",
        "\n",
        "Para lograr esto, primero, les pide que etiqueten de la siguiente manera los valores que aparecen en el atributo `Club_Position`, pidiendo que agrupen los valores en los siguientes grupos:\n",
        "\n",
        "**Nota**:  Renacín les recalca que **no deben utilizar los valores ```Sub``` y ```Res``` de esta columna**.\n",
        "\n",
        "```python\n",
        "ataque = ['ST', 'CF']\n",
        "central_ataque = ['RW', 'CAM', 'LW']\n",
        "central = ['RM', 'CM', 'LM']\n",
        "central_defensa = ['RWB', 'CDM', 'LWB']\n",
        "defensa = ['RB', 'CB', 'LB']\n",
        "arquero = ['GK']\n",
        "```\n",
        "\n",
        "La elección del clasificador se justificar en base a la siguiente [guía](https://scikit-learn.org/stable/tutorial/machine_learning_map/index.html) y se deben comentar los resultados obtenidos en la clasificación.\n",
        "\n",
        "**Tareas:** [1 punto por tarea]\n",
        "\n",
        "1. En un nuevo dataframe, aplique las etiquetas descritas anteriormente en cada uno de los valores señalados en esta sección y guárdelos en la variable `label`.\n",
        "2. Cuente cuántos por clase quedan.\n",
        "3. Entrene el nuevo pipeline y ejecute una evaluación de este.  \n",
        "4. Comente los resultados obtenidos."
      ]
    },
    {
      "cell_type": "markdown",
      "metadata": {
        "id": "sBmSaWh8i2MI"
      },
      "source": [
        "**Respuesta:**"
      ]
    },
    {
      "cell_type": "code",
      "execution_count": 76,
      "metadata": {
        "id": "Ir_7zMh2i1vg",
        "colab": {
          "base_uri": "https://localhost:8080/"
        },
        "outputId": "2a26b7f2-07ce-4593-87bf-57cacc6fd5e5"
      },
      "outputs": [
        {
          "output_type": "stream",
          "name": "stdout",
          "text": [
            "                Name Club_Position           label\n",
            "0  Cristiano Ronaldo            LW  central_ataque\n",
            "1       Lionel Messi            RW  central_ataque\n",
            "2             Neymar            LW  central_ataque\n",
            "3        Luis Suárez            ST          ataque\n",
            "4       Manuel Neuer            GK         arquero\n"
          ]
        }
      ],
      "source": [
        "# Diccionario que mapea las posiciones a las etiquetas correspondientes\n",
        "posicion_dict = {\n",
        "    'ST': 'ataque', 'CF': 'ataque',\n",
        "    'RW': 'central_ataque', 'CAM': 'central_ataque', 'LW': 'central_ataque',\n",
        "    'RM': 'central', 'CM': 'central', 'LM': 'central',\n",
        "    'RWB': 'central_defensa', 'CDM': 'central_defensa', 'LWB': 'central_defensa',\n",
        "    'RB': 'defensa', 'CB': 'defensa', 'LB': 'defensa',\n",
        "    'GK': 'arquero'\n",
        "}\n",
        "\n",
        "# Mapeamos\n",
        "df_labeled = data.copy()\n",
        "df_labeled['label'] = df_labeled['Club_Position'].map(posicion_dict)\n",
        "\n",
        "# Filtrar los valores no deseados: 'Sub' y 'Res'\n",
        "df_labeled = df_labeled[~df_labeled['Club_Position'].isin(['Sub', 'Res'])]\n",
        "\n",
        "print(df_labeled[['Name', 'Club_Position', 'label']].head())"
      ]
    },
    {
      "cell_type": "code",
      "execution_count": 77,
      "metadata": {
        "colab": {
          "base_uri": "https://localhost:8080/"
        },
        "id": "Jro8m266rGff",
        "outputId": "58f8d08c-c5e5-4f92-d6a3-22c017943c34"
      },
      "outputs": [
        {
          "output_type": "stream",
          "name": "stdout",
          "text": [
            "label\n",
            "defensa            1180\n",
            "central             907\n",
            "arquero             632\n",
            "central_ataque      581\n",
            "ataque              430\n",
            "central_defensa     209\n",
            "Name: count, dtype: int64\n"
          ]
        }
      ],
      "source": [
        "# Contamos el número de jugadores por clase\n",
        "conteo_clases = df_labeled['label'].value_counts()\n",
        "print(conteo_clases)"
      ]
    },
    {
      "cell_type": "code",
      "execution_count": 78,
      "metadata": {
        "id": "tkDHWINArGff"
      },
      "outputs": [],
      "source": [
        "from sklearn.model_selection import train_test_split\n",
        "from sklearn.preprocessing import StandardScaler\n",
        "from sklearn.linear_model import SGDClassifier\n",
        "from sklearn.pipeline import Pipeline\n",
        "from sklearn.metrics import classification_report, accuracy_score\n",
        "\n",
        "# Definimos aquellas características que son propias de las habilidades del jugador, dejando fuera caraterísticas que no reflejan habilidad\n",
        "dX = df_labeled[['Ball_Control', 'Dribbling', 'Marking', 'Sliding_Tackle', 'Standing_Tackle',\n",
        "                'Aggression', 'Reactions', 'Interceptions', 'Vision', 'Composure',\n",
        "                'Crossing', 'Short_Pass', 'Long_Pass', 'Acceleration', 'Speed', 'Stamina',\n",
        "                'Strength', 'Balance', 'Agility', 'Jumping', 'Heading', 'Shot_Power',\n",
        "                'Finishing', 'Long_Shots', 'Curve', 'Freekick_Accuracy', 'Penalties', 'Volleys']]\n",
        "\n",
        "y = df_labeled['label']\n",
        "\n",
        "# Dividimos en conjunto de entrenamiento y prueba\n",
        "dfX_train, dfX_test, dfy_train, dfy_test = train_test_split(dX, y, test_size=0.3, random_state=42)"
      ]
    },
    {
      "cell_type": "code",
      "execution_count": 79,
      "metadata": {
        "colab": {
          "base_uri": "https://localhost:8080/"
        },
        "id": "1tKRdqy5rGfj",
        "outputId": "0851f26e-ed01-4586-e80f-85a4289dbb24"
      },
      "outputs": [
        {
          "output_type": "stream",
          "name": "stdout",
          "text": [
            "0.43103802672147995\n",
            "[nan 'central' 'central_ataque' 'arquero' 'ataque' 'defensa'\n",
            " 'central_defensa']\n",
            "(2768, 28) (2768,)\n",
            "Accuracy: 0.7301451750640479\n",
            "\n",
            "Classification Report:\n",
            "                  precision    recall  f1-score   support\n",
            "\n",
            "        arquero       1.00      0.99      0.99       188\n",
            "         ataque       0.81      0.83      0.82       144\n",
            "        central       0.59      0.42      0.49       251\n",
            " central_ataque       0.42      0.61      0.50       179\n",
            "central_defensa       0.50      0.02      0.04        55\n",
            "        defensa       0.85      0.94      0.89       354\n",
            "\n",
            "       accuracy                           0.73      1171\n",
            "      macro avg       0.69      0.64      0.62      1171\n",
            "   weighted avg       0.73      0.73      0.71      1171\n",
            "\n"
          ]
        }
      ],
      "source": [
        "# Calculamos el porcentaje de valores faltantes en y_train\n",
        "porcentaje_nan_y_train = dfy_train.isna().mean()\n",
        "print(porcentaje_nan_y_train)\n",
        "\n",
        "# Verificar valores únicos en y_test\n",
        "print(dfy_test.unique())\n",
        "\n",
        "# Notamos que existen valores Nan en y_test, por lo que los eliminamos y nos aseguramos de eliminar los mismos registrospara x_test\n",
        "X_test_clean = dfX_test[~dfy_test.isna()]\n",
        "y_test_clean = dfy_test.dropna()\n",
        "\n",
        "# Eliminamos filas con valores NaN en y_train y los correspondientes en X_train\n",
        "X_train_clean = dfX_train[~dfy_train.isna()]\n",
        "y_train_clean = dfy_train.dropna()\n",
        "\n",
        "# Verificamos que ambos tengan el mismo número de muestras\n",
        "print(X_train_clean.shape, y_train_clean.shape)\n",
        "\n",
        "# Creamos el pipeline con estandarización y SGDClassifier\n",
        "pipeline = Pipeline([\n",
        "    ('scaler', StandardScaler()),\n",
        "    ('classifier', SGDClassifier(random_state=42))\n",
        "])\n",
        "\n",
        "# Entrenamos el modelo\n",
        "pipeline.fit(X_train_clean, y_train_clean)\n",
        "\n",
        "# Hacemos la predicción sobre el conjunto de prueba\n",
        "y_pred = pipeline.predict(X_test_clean)\n",
        "\n",
        "# Evaluamos el rendimiento\n",
        "print(\"Accuracy:\", accuracy_score(y_test_clean, y_pred))\n",
        "print(\"\\nClassification Report:\\n\", classification_report(y_test_clean, y_pred))"
      ]
    },
    {
      "cell_type": "markdown",
      "metadata": {
        "id": "gc0TaqugrGfj"
      },
      "source": [
        "A partir de los pasos a seguir indicados en la guía, escogemos el método SGDClassifier para la clasificación, esto debido a que estamos prediciendo una categoría y nuestro dataset tiene más de 100000 datos.\n",
        "\n",
        "Con respecto a los resultados obtenidos, notamos que hay un buen rendimiento con respecto a las predicciones para arquero y defensa (alta precisión y recall). Por otro lado, vemos que al modelo se le dificulta hacer la clasificación para las posiciones intermedias (central y central_defensa), esto puede ser debido, posiblemente a que las características de los jugadores en estas posiciones son más similares entre sí o hay menos ejemplos para entrenar.\n",
        "\n",
        "En general, considerando el accuracy, vemos que el 73% de las predicciones del modelo son correctas, lo cual es aceptable, pero no excelente."
      ]
    },
    {
      "cell_type": "markdown",
      "metadata": {
        "id": "9bL2m8nNojXM"
      },
      "source": [
        "## 3. Predicciones de Seleccionados Nacionales para el Jere Klein [30 puntos]"
      ]
    },
    {
      "cell_type": "markdown",
      "metadata": {
        "id": "_2XmRsJdsEh_"
      },
      "source": [
        "<center>\n",
        "<img src='https://www.radioactiva.cl/wp-content/uploads/2024/04/Jere-Klein-1-768x432.webp' width=500 />"
      ]
    },
    {
      "cell_type": "markdown",
      "metadata": {
        "id": "AgmUoVDsqUPu"
      },
      "source": [
        "Después de alcanzar la fama como cantante urbano, Jere Klein decide explorar una nueva faceta. Con su amor por el fútbol y convencido de que los artistas urbanos poseen un talento y versatilidad excepcionales, Jere se embarca en un proyecto innovador: desarrollar un sistema de inteligencia artificial capaz de identificar a jugadores que tienen potencial para convertirse en futbolistas profesionales. Su teoría es que muchos artistas del género urbano chileno, con sus habilidades únicas y su disciplina, podrían destacarse también en el deporte. Con este sistema, Jere espera no solo abrir nuevas oportunidades para sus colegas artistas, sino también demostrar la amplia gama de talentos que pueden ofrecer."
      ]
    },
    {
      "cell_type": "markdown",
      "metadata": {
        "id": "rD8pQ5Zfq8dE"
      },
      "source": [
        "### 2.1 ¿Qué modelo de árbol es más de \"pana\"? [10 puntos]"
      ]
    },
    {
      "cell_type": "markdown",
      "metadata": {
        "id": "zB-KUA4g99eo"
      },
      "source": [
        "<center>\n",
        "<img src='https://64.media.tumblr.com/39189215a7d3d96823cb359f35b44e05/tumblr_psmrhrR3Xw1qf5hjqo4_540.gif' width=300 />"
      ]
    },
    {
      "cell_type": "markdown",
      "metadata": {
        "id": "uL-moVhB9vPH"
      },
      "source": [
        "\n",
        "**Tareas**\n",
        "\n",
        "\n",
        "1. Considerando el la variable llamada `label` creada en la sección 1.1. Para determinar cuál modelo de árbol sería más adecuado para la tarea en cuestión, utilice PyCaret. Este deberá centrarse exclusivamente en modelos de tipo árbol. Jere ha especificado que busca un modelo que tome decisiones rápidamente y que tenga una baja tasa de falsos positivos, ya que planea invertir en estos jugadores. [3 puntos]\n",
        "\n",
        "Para la comparación, utilice los siguientes modelos:\n",
        "\n",
        "```python\n",
        "['et', 'rf', 'dt', 'xgboost', 'lightgbm', 'catboost']\n",
        "```\n",
        "\n",
        "2. Explique en brevemente que son los modelos de la siguiente lista `['et', 'rf', 'dt']` y como funcionan. [3 punto]\n",
        "\n",
        "3. Tras realizar la comparación de modelos, seleccione aquel que muestre el mejor rendimiento en términos de velocidad y precisión, especialmente en la reducción de falsos positivos. Utilice la función `evaluate_model` de PyCaret para revisar y analizar los resultados obtenidos en los siguientes aspectos:\n",
        "\n",
        "  - **Confusión Matrix**: ¿Cómo se encuentran la tasa de verdaderos positivos y verdaderos negativos?\n",
        "  - **Threshold**: ¿Es acaso el umbral por defecto del modelo el mejor para las predicciones?\n",
        "  - **Feature Importance**: ¿Cuáles son las variables con mejor desempeño? ¿A qué podría deberse esto?\n",
        "  - **Learning Curve**: ¿El modelo presenta algún problema?\n",
        "\n",
        "  [4 puntos]"
      ]
    },
    {
      "cell_type": "markdown",
      "metadata": {
        "id": "qY85nrViYROF"
      },
      "source": [
        "**Respuesta**"
      ]
    },
    {
      "cell_type": "markdown",
      "metadata": {
        "id": "I4_mGJFRrGfk"
      },
      "source": [
        "Extra Trees('et'): Es un algoritmo de conjunto similar a Random Forest pero más aleatorizado. Lo que hace es dividir los datos seleccionando divisiones de forma completamente aleatoria, lo que lo hace rápido y eficiente.\n",
        "Random Forest('rf'): También es un método de conjunto que crea múltiples árboles de decisión, pero este modelo utiliza solo una selección aleatoria de características y puntos de división, lo que mejora la generalización.\n",
        "Árbol de decisión('dt'): Este modelo corresponde a un árbol de decisión simple que toma decisiones basadas en divisiones de los datos en función de las características más importantes."
      ]
    },
    {
      "cell_type": "code",
      "execution_count": 80,
      "metadata": {
        "id": "kUCjOjsEYUXL",
        "colab": {
          "base_uri": "https://localhost:8080/",
          "height": 1000,
          "referenced_widgets": [
            "c41143cc13e54a319433dbc518385134",
            "986a3b9c921b475c9de021dcc347bbad",
            "10d0c3ef516f481288f0ad4c1942b6f9",
            "e50f0f4ae32448e19a00fb50c72cf346",
            "13f406e45940455fab9377e619983e31",
            "a04bffe9a68b4b46a87b094dd7600aed",
            "b8123cedf95e4b6088adcaec0719e99c",
            "3e25d8cfbffd49acb3e0b13330bcfe09",
            "fda72085d8b740dba5467f58f440abc7",
            "a43b8219960b448cbb44b3cc7d971ccd",
            "78f00d595c5a4de6976299dac49fa708",
            "5fdb40774eac48359c4e3e0ca173126f",
            "774336db9dee4cd7afb29cf1d2807224",
            "b3608c7cffd5495ab96231c8bb437526",
            "1b77795978104c3c8ee78c2c4401d915",
            "2a4a1324dbee4c06acc27b0488647b36",
            "a634519edc9144989ef653912f87b3f8",
            "7be71051b9834b2d8b5382d4ad1fbca6"
          ]
        },
        "outputId": "c30ab210-a8b8-4bc4-b4ec-5eebc6ed261d"
      },
      "outputs": [
        {
          "output_type": "stream",
          "name": "stdout",
          "text": [
            "Requirement already satisfied: pycaret[full] in /usr/local/lib/python3.10/dist-packages (3.3.2)\n",
            "Requirement already satisfied: ipython>=5.5.0 in /usr/local/lib/python3.10/dist-packages (from pycaret[full]) (7.34.0)\n",
            "Requirement already satisfied: ipywidgets>=7.6.5 in /usr/local/lib/python3.10/dist-packages (from pycaret[full]) (7.7.1)\n",
            "Requirement already satisfied: tqdm>=4.62.0 in /usr/local/lib/python3.10/dist-packages (from pycaret[full]) (4.66.5)\n",
            "Requirement already satisfied: numpy<1.27,>=1.21 in /usr/local/lib/python3.10/dist-packages (from pycaret[full]) (1.26.4)\n",
            "Requirement already satisfied: pandas<2.2.0 in /usr/local/lib/python3.10/dist-packages (from pycaret[full]) (2.1.4)\n",
            "Requirement already satisfied: jinja2>=3 in /usr/local/lib/python3.10/dist-packages (from pycaret[full]) (3.1.4)\n",
            "Requirement already satisfied: scipy<=1.11.4,>=1.6.1 in /usr/local/lib/python3.10/dist-packages (from pycaret[full]) (1.11.4)\n",
            "Requirement already satisfied: joblib<1.4,>=1.2.0 in /usr/local/lib/python3.10/dist-packages (from pycaret[full]) (1.3.2)\n",
            "Requirement already satisfied: scikit-learn>1.4.0 in /usr/local/lib/python3.10/dist-packages (from pycaret[full]) (1.4.2)\n",
            "Requirement already satisfied: pyod>=1.1.3 in /usr/local/lib/python3.10/dist-packages (from pycaret[full]) (2.0.2)\n",
            "Requirement already satisfied: imbalanced-learn>=0.12.0 in /usr/local/lib/python3.10/dist-packages (from pycaret[full]) (0.12.4)\n",
            "Requirement already satisfied: category-encoders>=2.4.0 in /usr/local/lib/python3.10/dist-packages (from pycaret[full]) (2.6.4)\n",
            "Requirement already satisfied: lightgbm>=3.0.0 in /usr/local/lib/python3.10/dist-packages (from pycaret[full]) (4.5.0)\n",
            "Requirement already satisfied: numba>=0.55.0 in /usr/local/lib/python3.10/dist-packages (from pycaret[full]) (0.60.0)\n",
            "Requirement already satisfied: requests>=2.27.1 in /usr/local/lib/python3.10/dist-packages (from pycaret[full]) (2.32.3)\n",
            "Requirement already satisfied: psutil>=5.9.0 in /usr/local/lib/python3.10/dist-packages (from pycaret[full]) (5.9.5)\n",
            "Requirement already satisfied: markupsafe>=2.0.1 in /usr/local/lib/python3.10/dist-packages (from pycaret[full]) (2.1.5)\n",
            "Requirement already satisfied: importlib-metadata>=4.12.0 in /usr/local/lib/python3.10/dist-packages (from pycaret[full]) (8.4.0)\n",
            "Requirement already satisfied: nbformat>=4.2.0 in /usr/local/lib/python3.10/dist-packages (from pycaret[full]) (5.10.4)\n",
            "Requirement already satisfied: cloudpickle in /usr/local/lib/python3.10/dist-packages (from pycaret[full]) (2.2.1)\n",
            "Requirement already satisfied: deprecation>=2.1.0 in /usr/local/lib/python3.10/dist-packages (from pycaret[full]) (2.1.0)\n",
            "Requirement already satisfied: xxhash in /usr/local/lib/python3.10/dist-packages (from pycaret[full]) (3.5.0)\n",
            "Requirement already satisfied: matplotlib<3.8.0 in /usr/local/lib/python3.10/dist-packages (from pycaret[full]) (3.7.1)\n",
            "Requirement already satisfied: scikit-plot>=0.3.7 in /usr/local/lib/python3.10/dist-packages (from pycaret[full]) (0.3.7)\n",
            "Requirement already satisfied: yellowbrick>=1.4 in /usr/local/lib/python3.10/dist-packages (from pycaret[full]) (1.5)\n",
            "Requirement already satisfied: plotly>=5.14.0 in /usr/local/lib/python3.10/dist-packages (from pycaret[full]) (5.24.1)\n",
            "Requirement already satisfied: kaleido>=0.2.1 in /usr/local/lib/python3.10/dist-packages (from pycaret[full]) (0.2.1)\n",
            "Requirement already satisfied: schemdraw==0.15 in /usr/local/lib/python3.10/dist-packages (from pycaret[full]) (0.15)\n",
            "Requirement already satisfied: plotly-resampler>=0.8.3.1 in /usr/local/lib/python3.10/dist-packages (from pycaret[full]) (0.10.0)\n",
            "Requirement already satisfied: statsmodels>=0.12.1 in /usr/local/lib/python3.10/dist-packages (from pycaret[full]) (0.14.4)\n",
            "Requirement already satisfied: sktime==0.26.0 in /usr/local/lib/python3.10/dist-packages (from pycaret[full]) (0.26.0)\n",
            "Requirement already satisfied: tbats>=1.1.3 in /usr/local/lib/python3.10/dist-packages (from pycaret[full]) (1.1.3)\n",
            "Requirement already satisfied: pmdarima>=2.0.4 in /usr/local/lib/python3.10/dist-packages (from pycaret[full]) (2.0.4)\n",
            "Requirement already satisfied: wurlitzer in /usr/local/lib/python3.10/dist-packages (from pycaret[full]) (3.1.1)\n",
            "Requirement already satisfied: shap~=0.44.0 in /usr/local/lib/python3.10/dist-packages (from pycaret[full]) (0.44.1)\n",
            "Requirement already satisfied: interpret>=0.2.7 in /usr/local/lib/python3.10/dist-packages (from pycaret[full]) (0.6.4)\n",
            "Requirement already satisfied: umap-learn>=0.5.2 in /usr/local/lib/python3.10/dist-packages (from pycaret[full]) (0.5.6)\n",
            "Requirement already satisfied: pyyaml in /usr/local/lib/python3.10/dist-packages (from pycaret[full]) (6.0.2)\n",
            "Requirement already satisfied: ydata-profiling>=4.3.1 in /usr/local/lib/python3.10/dist-packages (from pycaret[full]) (4.10.0)\n",
            "Requirement already satisfied: explainerdashboard>=0.3.8 in /usr/local/lib/python3.10/dist-packages (from pycaret[full]) (0.4.7)\n",
            "Requirement already satisfied: fairlearn==0.7.0 in /usr/local/lib/python3.10/dist-packages (from pycaret[full]) (0.7.0)\n",
            "Requirement already satisfied: kmodes>=0.11.1 in /usr/local/lib/python3.10/dist-packages (from pycaret[full]) (0.12.2)\n",
            "Requirement already satisfied: mlxtend>=0.19.0 in /usr/local/lib/python3.10/dist-packages (from pycaret[full]) (0.23.1)\n",
            "Requirement already satisfied: statsforecast<1.6.0,>=0.5.5 in /usr/local/lib/python3.10/dist-packages (from pycaret[full]) (1.5.0)\n",
            "Requirement already satisfied: hyperopt>=0.2.7 in /usr/local/lib/python3.10/dist-packages (from pycaret[full]) (0.2.7)\n",
            "Requirement already satisfied: optuna>=3.0.0 in /usr/local/lib/python3.10/dist-packages (from pycaret[full]) (4.0.0)\n",
            "Requirement already satisfied: optuna-integration in /usr/local/lib/python3.10/dist-packages (from pycaret[full]) (4.0.0)\n",
            "Requirement already satisfied: scikit-optimize>=0.9.0 in /usr/local/lib/python3.10/dist-packages (from pycaret[full]) (0.10.2)\n",
            "Requirement already satisfied: mlflow>=2.0.0 in /usr/local/lib/python3.10/dist-packages (from pycaret[full]) (2.16.2)\n",
            "Requirement already satisfied: gradio>=3.50.2 in /usr/local/lib/python3.10/dist-packages (from pycaret[full]) (5.0.2)\n",
            "Requirement already satisfied: boto3>=1.24.56 in /usr/local/lib/python3.10/dist-packages (from pycaret[full]) (1.35.39)\n",
            "Requirement already satisfied: fastapi in /usr/local/lib/python3.10/dist-packages (from pycaret[full]) (0.115.0)\n",
            "Requirement already satisfied: uvicorn>=0.17.6 in /usr/local/lib/python3.10/dist-packages (from pycaret[full]) (0.31.1)\n",
            "Requirement already satisfied: m2cgen>=0.9.0 in /usr/local/lib/python3.10/dist-packages (from pycaret[full]) (0.10.0)\n",
            "Requirement already satisfied: evidently~=0.4.16 in /usr/local/lib/python3.10/dist-packages (from pycaret[full]) (0.4.38)\n",
            "Requirement already satisfied: dask>=2024.4.1 in /usr/local/lib/python3.10/dist-packages (from pycaret[full]) (2024.8.0)\n",
            "Requirement already satisfied: distributed>=2024.4.1 in /usr/local/lib/python3.10/dist-packages (from pycaret[full]) (2024.8.0)\n",
            "Requirement already satisfied: fugue~=0.8.0 in /usr/local/lib/python3.10/dist-packages (from pycaret[full]) (0.8.7)\n",
            "Requirement already satisfied: flask in /usr/local/lib/python3.10/dist-packages (from pycaret[full]) (2.2.5)\n",
            "Requirement already satisfied: Werkzeug<3.0,>=2.2 in /usr/local/lib/python3.10/dist-packages (from pycaret[full]) (2.3.8)\n",
            "Requirement already satisfied: pytest<8.0.0 in /usr/local/lib/python3.10/dist-packages (from pycaret[full]) (7.4.4)\n",
            "Requirement already satisfied: moto<5.0.0 in /usr/local/lib/python3.10/dist-packages (from pycaret[full]) (4.2.14)\n",
            "Requirement already satisfied: dash[testing] in /usr/local/lib/python3.10/dist-packages (from pycaret[full]) (2.18.1)\n",
            "Requirement already satisfied: scikit-learn-intelex>=2023.0.1 in /usr/local/lib/python3.10/dist-packages (from pycaret[full]) (2024.7.0)\n",
            "Requirement already satisfied: catboost>=0.23.2 in /usr/local/lib/python3.10/dist-packages (from pycaret[full]) (1.2.7)\n",
            "Requirement already satisfied: tune-sklearn>=0.2.1 in /usr/local/lib/python3.10/dist-packages (from pycaret[full]) (0.5.0)\n",
            "Requirement already satisfied: ray>=1.0.0 in /usr/local/lib/python3.10/dist-packages (from ray[tune]>=1.0.0; (python_version != \"3.11\" and platform_system != \"Windows\") and extra == \"full\"->pycaret[full]) (2.37.0)\n",
            "Requirement already satisfied: xgboost>=1.1.0 in /usr/local/lib/python3.10/dist-packages (from pycaret[full]) (2.1.1)\n",
            "Requirement already satisfied: packaging in /usr/local/lib/python3.10/dist-packages (from sktime==0.26.0->pycaret[full]) (24.1)\n",
            "Requirement already satisfied: scikit-base<0.8.0 in /usr/local/lib/python3.10/dist-packages (from sktime==0.26.0->pycaret[full]) (0.7.8)\n",
            "Requirement already satisfied: botocore<1.36.0,>=1.35.39 in /usr/local/lib/python3.10/dist-packages (from boto3>=1.24.56->pycaret[full]) (1.35.39)\n",
            "Requirement already satisfied: jmespath<2.0.0,>=0.7.1 in /usr/local/lib/python3.10/dist-packages (from boto3>=1.24.56->pycaret[full]) (1.0.1)\n",
            "Requirement already satisfied: s3transfer<0.11.0,>=0.10.0 in /usr/local/lib/python3.10/dist-packages (from boto3>=1.24.56->pycaret[full]) (0.10.3)\n",
            "Requirement already satisfied: graphviz in /usr/local/lib/python3.10/dist-packages (from catboost>=0.23.2->pycaret[full]) (0.20.3)\n",
            "Requirement already satisfied: six in /usr/local/lib/python3.10/dist-packages (from catboost>=0.23.2->pycaret[full]) (1.16.0)\n",
            "Requirement already satisfied: patsy>=0.5.1 in /usr/local/lib/python3.10/dist-packages (from category-encoders>=2.4.0->pycaret[full]) (0.5.6)\n",
            "Requirement already satisfied: click>=8.1 in /usr/local/lib/python3.10/dist-packages (from dask>=2024.4.1->pycaret[full]) (8.1.7)\n",
            "Requirement already satisfied: fsspec>=2021.09.0 in /usr/local/lib/python3.10/dist-packages (from dask>=2024.4.1->pycaret[full]) (2024.6.1)\n",
            "Requirement already satisfied: partd>=1.4.0 in /usr/local/lib/python3.10/dist-packages (from dask>=2024.4.1->pycaret[full]) (1.4.2)\n",
            "Requirement already satisfied: toolz>=0.10.0 in /usr/local/lib/python3.10/dist-packages (from dask>=2024.4.1->pycaret[full]) (0.12.1)\n",
            "Requirement already satisfied: locket>=1.0.0 in /usr/local/lib/python3.10/dist-packages (from distributed>=2024.4.1->pycaret[full]) (1.0.0)\n",
            "Requirement already satisfied: msgpack>=1.0.0 in /usr/local/lib/python3.10/dist-packages (from distributed>=2024.4.1->pycaret[full]) (1.0.8)\n",
            "Requirement already satisfied: sortedcontainers>=2.0.5 in /usr/local/lib/python3.10/dist-packages (from distributed>=2024.4.1->pycaret[full]) (2.4.0)\n",
            "Requirement already satisfied: tblib>=1.6.0 in /usr/local/lib/python3.10/dist-packages (from distributed>=2024.4.1->pycaret[full]) (3.0.0)\n",
            "Requirement already satisfied: tornado>=6.0.4 in /usr/local/lib/python3.10/dist-packages (from distributed>=2024.4.1->pycaret[full]) (6.3.3)\n",
            "Requirement already satisfied: urllib3>=1.24.3 in /usr/local/lib/python3.10/dist-packages (from distributed>=2024.4.1->pycaret[full]) (1.26.20)\n",
            "Requirement already satisfied: zict>=3.0.0 in /usr/local/lib/python3.10/dist-packages (from distributed>=2024.4.1->pycaret[full]) (3.0.0)\n",
            "Requirement already satisfied: nltk>=3.6.7 in /usr/local/lib/python3.10/dist-packages (from evidently~=0.4.16->pycaret[full]) (3.8.1)\n",
            "Requirement already satisfied: pydantic>=1.10.13 in /usr/local/lib/python3.10/dist-packages (from evidently~=0.4.16->pycaret[full]) (2.9.2)\n",
            "Requirement already satisfied: litestar>=2.8.3 in /usr/local/lib/python3.10/dist-packages (from evidently~=0.4.16->pycaret[full]) (2.12.1)\n",
            "Requirement already satisfied: typing-inspect>=0.9.0 in /usr/local/lib/python3.10/dist-packages (from evidently~=0.4.16->pycaret[full]) (0.9.0)\n",
            "Requirement already satisfied: watchdog>=3.0.0 in /usr/local/lib/python3.10/dist-packages (from evidently~=0.4.16->pycaret[full]) (5.0.3)\n",
            "Requirement already satisfied: typer>=0.3 in /usr/local/lib/python3.10/dist-packages (from evidently~=0.4.16->pycaret[full]) (0.12.5)\n",
            "Requirement already satisfied: rich>=13 in /usr/local/lib/python3.10/dist-packages (from evidently~=0.4.16->pycaret[full]) (13.9.2)\n",
            "Requirement already satisfied: iterative-telemetry>=0.0.5 in /usr/local/lib/python3.10/dist-packages (from evidently~=0.4.16->pycaret[full]) (0.0.9)\n",
            "Requirement already satisfied: dynaconf>=3.2.4 in /usr/local/lib/python3.10/dist-packages (from evidently~=0.4.16->pycaret[full]) (3.2.6)\n",
            "Requirement already satisfied: certifi>=2024.7.4 in /usr/local/lib/python3.10/dist-packages (from evidently~=0.4.16->pycaret[full]) (2024.8.30)\n",
            "Requirement already satisfied: ujson>=5.4.0 in /usr/local/lib/python3.10/dist-packages (from evidently~=0.4.16->pycaret[full]) (5.10.0)\n",
            "Requirement already satisfied: uuid6>=2024.7.10 in /usr/local/lib/python3.10/dist-packages (from evidently~=0.4.16->pycaret[full]) (2024.7.10)\n",
            "Requirement already satisfied: cryptography>=43.0.1 in /usr/local/lib/python3.10/dist-packages (from evidently~=0.4.16->pycaret[full]) (43.0.1)\n",
            "Requirement already satisfied: dash-auth in /usr/local/lib/python3.10/dist-packages (from explainerdashboard>=0.3.8->pycaret[full]) (2.3.0)\n",
            "Requirement already satisfied: dash-bootstrap-components>=1 in /usr/local/lib/python3.10/dist-packages (from explainerdashboard>=0.3.8->pycaret[full]) (1.6.0)\n",
            "Requirement already satisfied: dtreeviz>=2.1 in /usr/local/lib/python3.10/dist-packages (from explainerdashboard>=0.3.8->pycaret[full]) (2.2.2)\n",
            "Requirement already satisfied: flask-simplelogin in /usr/local/lib/python3.10/dist-packages (from explainerdashboard>=0.3.8->pycaret[full]) (0.1.3)\n",
            "Requirement already satisfied: Flask-WTF>=1.1 in /usr/local/lib/python3.10/dist-packages (from explainerdashboard>=0.3.8->pycaret[full]) (1.2.1)\n",
            "Requirement already satisfied: jupyter-dash>=0.4.1 in /usr/local/lib/python3.10/dist-packages (from explainerdashboard>=0.3.8->pycaret[full]) (0.4.2)\n",
            "Requirement already satisfied: oyaml in /usr/local/lib/python3.10/dist-packages (from explainerdashboard>=0.3.8->pycaret[full]) (1.0)\n",
            "Requirement already satisfied: waitress in /usr/local/lib/python3.10/dist-packages (from explainerdashboard>=0.3.8->pycaret[full]) (3.0.0)\n",
            "Requirement already satisfied: triad>=0.9.3 in /usr/local/lib/python3.10/dist-packages (from fugue~=0.8.0->pycaret[full]) (0.9.8)\n",
            "Requirement already satisfied: adagio>=0.2.4 in /usr/local/lib/python3.10/dist-packages (from fugue~=0.8.0->pycaret[full]) (0.2.6)\n",
            "Requirement already satisfied: qpd>=0.4.4 in /usr/local/lib/python3.10/dist-packages (from fugue~=0.8.0->pycaret[full]) (0.4.4)\n",
            "Requirement already satisfied: fugue-sql-antlr>=0.1.6 in /usr/local/lib/python3.10/dist-packages (from fugue~=0.8.0->pycaret[full]) (0.2.2)\n",
            "Requirement already satisfied: sqlglot in /usr/local/lib/python3.10/dist-packages (from fugue~=0.8.0->pycaret[full]) (25.1.0)\n",
            "Requirement already satisfied: aiofiles<24.0,>=22.0 in /usr/local/lib/python3.10/dist-packages (from gradio>=3.50.2->pycaret[full]) (23.2.1)\n",
            "Requirement already satisfied: anyio<5.0,>=3.0 in /usr/local/lib/python3.10/dist-packages (from gradio>=3.50.2->pycaret[full]) (3.7.1)\n",
            "Requirement already satisfied: ffmpy in /usr/local/lib/python3.10/dist-packages (from gradio>=3.50.2->pycaret[full]) (0.4.0)\n",
            "Requirement already satisfied: gradio-client==1.4.0 in /usr/local/lib/python3.10/dist-packages (from gradio>=3.50.2->pycaret[full]) (1.4.0)\n",
            "Requirement already satisfied: httpx>=0.24.1 in /usr/local/lib/python3.10/dist-packages (from gradio>=3.50.2->pycaret[full]) (0.27.2)\n",
            "Requirement already satisfied: huggingface-hub>=0.25.1 in /usr/local/lib/python3.10/dist-packages (from gradio>=3.50.2->pycaret[full]) (0.25.2)\n",
            "Requirement already satisfied: orjson~=3.0 in /usr/local/lib/python3.10/dist-packages (from gradio>=3.50.2->pycaret[full]) (3.10.7)\n",
            "Requirement already satisfied: pillow<11.0,>=8.0 in /usr/local/lib/python3.10/dist-packages (from gradio>=3.50.2->pycaret[full]) (10.4.0)\n",
            "Requirement already satisfied: pydub in /usr/local/lib/python3.10/dist-packages (from gradio>=3.50.2->pycaret[full]) (0.25.1)\n",
            "Requirement already satisfied: python-multipart>=0.0.9 in /usr/local/lib/python3.10/dist-packages (from gradio>=3.50.2->pycaret[full]) (0.0.12)\n",
            "Requirement already satisfied: ruff>=0.2.2 in /usr/local/lib/python3.10/dist-packages (from gradio>=3.50.2->pycaret[full]) (0.6.9)\n",
            "Requirement already satisfied: semantic-version~=2.0 in /usr/local/lib/python3.10/dist-packages (from gradio>=3.50.2->pycaret[full]) (2.10.0)\n",
            "Requirement already satisfied: tomlkit==0.12.0 in /usr/local/lib/python3.10/dist-packages (from gradio>=3.50.2->pycaret[full]) (0.12.0)\n",
            "Requirement already satisfied: typing-extensions~=4.0 in /usr/local/lib/python3.10/dist-packages (from gradio>=3.50.2->pycaret[full]) (4.12.2)\n",
            "Requirement already satisfied: websockets<13.0,>=10.0 in /usr/local/lib/python3.10/dist-packages (from gradio-client==1.4.0->gradio>=3.50.2->pycaret[full]) (12.0)\n",
            "Requirement already satisfied: starlette<0.39.0,>=0.37.2 in /usr/local/lib/python3.10/dist-packages (from fastapi->pycaret[full]) (0.38.6)\n",
            "Requirement already satisfied: networkx>=2.2 in /usr/local/lib/python3.10/dist-packages (from hyperopt>=0.2.7->pycaret[full]) (3.3)\n",
            "Requirement already satisfied: future in /usr/local/lib/python3.10/dist-packages (from hyperopt>=0.2.7->pycaret[full]) (1.0.0)\n",
            "Requirement already satisfied: py4j in /usr/local/lib/python3.10/dist-packages (from hyperopt>=0.2.7->pycaret[full]) (0.10.9.7)\n",
            "Requirement already satisfied: threadpoolctl>=2.0.0 in /usr/local/lib/python3.10/dist-packages (from imbalanced-learn>=0.12.0->pycaret[full]) (3.5.0)\n",
            "Requirement already satisfied: zipp>=0.5 in /usr/local/lib/python3.10/dist-packages (from importlib-metadata>=4.12.0->pycaret[full]) (3.20.2)\n",
            "Requirement already satisfied: interpret-core==0.6.4 in /usr/local/lib/python3.10/dist-packages (from interpret-core[aplr,dash,debug,linear,notebook,plotly,sensitivity,shap]==0.6.4->interpret>=0.2.7->pycaret[full]) (0.6.4)\n",
            "Requirement already satisfied: dash-core-components>=1.0.0 in /usr/local/lib/python3.10/dist-packages (from interpret-core[aplr,dash,debug,linear,notebook,plotly,sensitivity,shap]==0.6.4->interpret>=0.2.7->pycaret[full]) (2.0.0)\n",
            "Requirement already satisfied: dash-html-components>=1.0.0 in /usr/local/lib/python3.10/dist-packages (from interpret-core[aplr,dash,debug,linear,notebook,plotly,sensitivity,shap]==0.6.4->interpret>=0.2.7->pycaret[full]) (2.0.0)\n",
            "Requirement already satisfied: dash-table>=4.1.0 in /usr/local/lib/python3.10/dist-packages (from interpret-core[aplr,dash,debug,linear,notebook,plotly,sensitivity,shap]==0.6.4->interpret>=0.2.7->pycaret[full]) (5.0.0)\n",
            "Requirement already satisfied: dash-cytoscape>=0.1.1 in /usr/local/lib/python3.10/dist-packages (from interpret-core[aplr,dash,debug,linear,notebook,plotly,sensitivity,shap]==0.6.4->interpret>=0.2.7->pycaret[full]) (1.0.2)\n",
            "Requirement already satisfied: gevent>=1.3.6 in /usr/local/lib/python3.10/dist-packages (from interpret-core[aplr,dash,debug,linear,notebook,plotly,sensitivity,shap]==0.6.4->interpret>=0.2.7->pycaret[full]) (24.10.2)\n",
            "Requirement already satisfied: dill>=0.2.5 in /usr/local/lib/python3.10/dist-packages (from interpret-core[aplr,dash,debug,linear,notebook,plotly,sensitivity,shap]==0.6.4->interpret>=0.2.7->pycaret[full]) (0.3.9)\n",
            "Requirement already satisfied: SALib>=1.3.3 in /usr/local/lib/python3.10/dist-packages (from interpret-core[aplr,dash,debug,linear,notebook,plotly,sensitivity,shap]==0.6.4->interpret>=0.2.7->pycaret[full]) (1.5.1)\n",
            "Requirement already satisfied: ipykernel>=4.10.0 in /usr/local/lib/python3.10/dist-packages (from interpret-core[aplr,dash,debug,linear,notebook,plotly,sensitivity,shap]==0.6.4->interpret>=0.2.7->pycaret[full]) (5.5.6)\n",
            "Requirement already satisfied: aplr>=10.6.1 in /usr/local/lib/python3.10/dist-packages (from interpret-core[aplr,dash,debug,linear,notebook,plotly,sensitivity,shap]==0.6.4->interpret>=0.2.7->pycaret[full]) (10.6.3)\n",
            "Requirement already satisfied: setuptools>=18.5 in /usr/local/lib/python3.10/dist-packages (from ipython>=5.5.0->pycaret[full]) (71.0.4)\n",
            "Requirement already satisfied: jedi>=0.16 in /usr/local/lib/python3.10/dist-packages (from ipython>=5.5.0->pycaret[full]) (0.19.1)\n",
            "Requirement already satisfied: decorator in /usr/local/lib/python3.10/dist-packages (from ipython>=5.5.0->pycaret[full]) (4.4.2)\n",
            "Requirement already satisfied: pickleshare in /usr/local/lib/python3.10/dist-packages (from ipython>=5.5.0->pycaret[full]) (0.7.5)\n",
            "Requirement already satisfied: traitlets>=4.2 in /usr/local/lib/python3.10/dist-packages (from ipython>=5.5.0->pycaret[full]) (5.7.1)\n",
            "Requirement already satisfied: prompt-toolkit!=3.0.0,!=3.0.1,<3.1.0,>=2.0.0 in /usr/local/lib/python3.10/dist-packages (from ipython>=5.5.0->pycaret[full]) (3.0.48)\n",
            "Requirement already satisfied: pygments in /usr/local/lib/python3.10/dist-packages (from ipython>=5.5.0->pycaret[full]) (2.18.0)\n",
            "Requirement already satisfied: backcall in /usr/local/lib/python3.10/dist-packages (from ipython>=5.5.0->pycaret[full]) (0.2.0)\n",
            "Requirement already satisfied: matplotlib-inline in /usr/local/lib/python3.10/dist-packages (from ipython>=5.5.0->pycaret[full]) (0.1.7)\n",
            "Requirement already satisfied: pexpect>4.3 in /usr/local/lib/python3.10/dist-packages (from ipython>=5.5.0->pycaret[full]) (4.9.0)\n",
            "Requirement already satisfied: ipython-genutils~=0.2.0 in /usr/local/lib/python3.10/dist-packages (from ipywidgets>=7.6.5->pycaret[full]) (0.2.0)\n",
            "Requirement already satisfied: widgetsnbextension~=3.6.0 in /usr/local/lib/python3.10/dist-packages (from ipywidgets>=7.6.5->pycaret[full]) (3.6.9)\n",
            "Requirement already satisfied: jupyterlab-widgets>=1.0.0 in /usr/local/lib/python3.10/dist-packages (from ipywidgets>=7.6.5->pycaret[full]) (3.0.13)\n",
            "Requirement already satisfied: contourpy>=1.0.1 in /usr/local/lib/python3.10/dist-packages (from matplotlib<3.8.0->pycaret[full]) (1.3.0)\n",
            "Requirement already satisfied: cycler>=0.10 in /usr/local/lib/python3.10/dist-packages (from matplotlib<3.8.0->pycaret[full]) (0.12.1)\n",
            "Requirement already satisfied: fonttools>=4.22.0 in /usr/local/lib/python3.10/dist-packages (from matplotlib<3.8.0->pycaret[full]) (4.54.1)\n",
            "Requirement already satisfied: kiwisolver>=1.0.1 in /usr/local/lib/python3.10/dist-packages (from matplotlib<3.8.0->pycaret[full]) (1.4.7)\n",
            "Requirement already satisfied: pyparsing>=2.3.1 in /usr/local/lib/python3.10/dist-packages (from matplotlib<3.8.0->pycaret[full]) (3.1.4)\n",
            "Requirement already satisfied: python-dateutil>=2.7 in /usr/local/lib/python3.10/dist-packages (from matplotlib<3.8.0->pycaret[full]) (2.8.2)\n",
            "Requirement already satisfied: mlflow-skinny==2.16.2 in /usr/local/lib/python3.10/dist-packages (from mlflow>=2.0.0->pycaret[full]) (2.16.2)\n",
            "Requirement already satisfied: alembic!=1.10.0,<2 in /usr/local/lib/python3.10/dist-packages (from mlflow>=2.0.0->pycaret[full]) (1.13.3)\n",
            "Requirement already satisfied: docker<8,>=4.0.0 in /usr/local/lib/python3.10/dist-packages (from mlflow>=2.0.0->pycaret[full]) (7.1.0)\n",
            "Requirement already satisfied: graphene<4 in /usr/local/lib/python3.10/dist-packages (from mlflow>=2.0.0->pycaret[full]) (3.3)\n",
            "Requirement already satisfied: markdown<4,>=3.3 in /usr/local/lib/python3.10/dist-packages (from mlflow>=2.0.0->pycaret[full]) (3.7)\n",
            "Requirement already satisfied: pyarrow<18,>=4.0.0 in /usr/local/lib/python3.10/dist-packages (from mlflow>=2.0.0->pycaret[full]) (16.1.0)\n",
            "Requirement already satisfied: sqlalchemy<3,>=1.4.0 in /usr/local/lib/python3.10/dist-packages (from mlflow>=2.0.0->pycaret[full]) (2.0.35)\n",
            "Requirement already satisfied: gunicorn<24 in /usr/local/lib/python3.10/dist-packages (from mlflow>=2.0.0->pycaret[full]) (23.0.0)\n",
            "Requirement already satisfied: cachetools<6,>=5.0.0 in /usr/local/lib/python3.10/dist-packages (from mlflow-skinny==2.16.2->mlflow>=2.0.0->pycaret[full]) (5.5.0)\n",
            "Requirement already satisfied: databricks-sdk<1,>=0.20.0 in /usr/local/lib/python3.10/dist-packages (from mlflow-skinny==2.16.2->mlflow>=2.0.0->pycaret[full]) (0.34.0)\n",
            "Requirement already satisfied: gitpython<4,>=3.1.9 in /usr/local/lib/python3.10/dist-packages (from mlflow-skinny==2.16.2->mlflow>=2.0.0->pycaret[full]) (3.1.43)\n",
            "Requirement already satisfied: opentelemetry-api<3,>=1.9.0 in /usr/local/lib/python3.10/dist-packages (from mlflow-skinny==2.16.2->mlflow>=2.0.0->pycaret[full]) (1.27.0)\n",
            "Requirement already satisfied: opentelemetry-sdk<3,>=1.9.0 in /usr/local/lib/python3.10/dist-packages (from mlflow-skinny==2.16.2->mlflow>=2.0.0->pycaret[full]) (1.27.0)\n",
            "Requirement already satisfied: protobuf<6,>=3.12.0 in /usr/local/lib/python3.10/dist-packages (from mlflow-skinny==2.16.2->mlflow>=2.0.0->pycaret[full]) (3.20.3)\n",
            "Requirement already satisfied: sqlparse<1,>=0.4.0 in /usr/local/lib/python3.10/dist-packages (from mlflow-skinny==2.16.2->mlflow>=2.0.0->pycaret[full]) (0.5.1)\n",
            "Requirement already satisfied: itsdangerous>=2.0 in /usr/local/lib/python3.10/dist-packages (from flask->pycaret[full]) (2.2.0)\n",
            "Requirement already satisfied: xmltodict in /usr/local/lib/python3.10/dist-packages (from moto<5.0.0->pycaret[full]) (0.14.1)\n",
            "Requirement already satisfied: responses>=0.13.0 in /usr/local/lib/python3.10/dist-packages (from moto<5.0.0->pycaret[full]) (0.25.3)\n",
            "Requirement already satisfied: fastjsonschema>=2.15 in /usr/local/lib/python3.10/dist-packages (from nbformat>=4.2.0->pycaret[full]) (2.20.0)\n",
            "Requirement already satisfied: jsonschema>=2.6 in /usr/local/lib/python3.10/dist-packages (from nbformat>=4.2.0->pycaret[full]) (4.23.0)\n",
            "Requirement already satisfied: jupyter-core!=5.0.*,>=4.12 in /usr/local/lib/python3.10/dist-packages (from nbformat>=4.2.0->pycaret[full]) (5.7.2)\n",
            "Requirement already satisfied: llvmlite<0.44,>=0.43.0dev0 in /usr/local/lib/python3.10/dist-packages (from numba>=0.55.0->pycaret[full]) (0.43.0)\n",
            "Requirement already satisfied: colorlog in /usr/local/lib/python3.10/dist-packages (from optuna>=3.0.0->pycaret[full]) (6.8.2)\n",
            "Requirement already satisfied: pytz>=2020.1 in /usr/local/lib/python3.10/dist-packages (from pandas<2.2.0->pycaret[full]) (2024.2)\n",
            "Requirement already satisfied: tzdata>=2022.1 in /usr/local/lib/python3.10/dist-packages (from pandas<2.2.0->pycaret[full]) (2024.2)\n",
            "Requirement already satisfied: tenacity>=6.2.0 in /usr/local/lib/python3.10/dist-packages (from plotly>=5.14.0->pycaret[full]) (9.0.0)\n",
            "Requirement already satisfied: tsdownsample>=0.1.3 in /usr/local/lib/python3.10/dist-packages (from plotly-resampler>=0.8.3.1->pycaret[full]) (0.1.3)\n",
            "Requirement already satisfied: Cython!=0.29.18,!=0.29.31,>=0.29 in /usr/local/lib/python3.10/dist-packages (from pmdarima>=2.0.4->pycaret[full]) (3.0.11)\n",
            "Requirement already satisfied: iniconfig in /usr/local/lib/python3.10/dist-packages (from pytest<8.0.0->pycaret[full]) (2.0.0)\n",
            "Requirement already satisfied: pluggy<2.0,>=0.12 in /usr/local/lib/python3.10/dist-packages (from pytest<8.0.0->pycaret[full]) (1.5.0)\n",
            "Requirement already satisfied: exceptiongroup>=1.0.0rc8 in /usr/local/lib/python3.10/dist-packages (from pytest<8.0.0->pycaret[full]) (1.2.2)\n",
            "Requirement already satisfied: tomli>=1.0.0 in /usr/local/lib/python3.10/dist-packages (from pytest<8.0.0->pycaret[full]) (2.0.2)\n",
            "Requirement already satisfied: filelock in /usr/local/lib/python3.10/dist-packages (from ray>=1.0.0->ray[tune]>=1.0.0; (python_version != \"3.11\" and platform_system != \"Windows\") and extra == \"full\"->pycaret[full]) (3.16.1)\n",
            "Requirement already satisfied: aiosignal in /usr/local/lib/python3.10/dist-packages (from ray>=1.0.0->ray[tune]>=1.0.0; (python_version != \"3.11\" and platform_system != \"Windows\") and extra == \"full\"->pycaret[full]) (1.3.1)\n",
            "Requirement already satisfied: frozenlist in /usr/local/lib/python3.10/dist-packages (from ray>=1.0.0->ray[tune]>=1.0.0; (python_version != \"3.11\" and platform_system != \"Windows\") and extra == \"full\"->pycaret[full]) (1.4.1)\n",
            "Requirement already satisfied: tensorboardX>=1.9 in /usr/local/lib/python3.10/dist-packages (from ray[tune]>=1.0.0; (python_version != \"3.11\" and platform_system != \"Windows\") and extra == \"full\"->pycaret[full]) (2.6.2.2)\n",
            "Requirement already satisfied: charset-normalizer<4,>=2 in /usr/local/lib/python3.10/dist-packages (from requests>=2.27.1->pycaret[full]) (3.3.2)\n",
            "Requirement already satisfied: idna<4,>=2.5 in /usr/local/lib/python3.10/dist-packages (from requests>=2.27.1->pycaret[full]) (3.10)\n",
            "Requirement already satisfied: daal4py==2024.7.0 in /usr/local/lib/python3.10/dist-packages (from scikit-learn-intelex>=2023.0.1->pycaret[full]) (2024.7.0)\n",
            "Requirement already satisfied: daal==2024.7.0 in /usr/local/lib/python3.10/dist-packages (from daal4py==2024.7.0->scikit-learn-intelex>=2023.0.1->pycaret[full]) (2024.7.0)\n",
            "Requirement already satisfied: tbb==2021.* in /usr/local/lib/python3.10/dist-packages (from daal==2024.7.0->daal4py==2024.7.0->scikit-learn-intelex>=2023.0.1->pycaret[full]) (2021.13.1)\n",
            "Requirement already satisfied: pyaml>=16.9 in /usr/local/lib/python3.10/dist-packages (from scikit-optimize>=0.9.0->pycaret[full]) (24.9.0)\n",
            "Requirement already satisfied: slicer==0.0.7 in /usr/local/lib/python3.10/dist-packages (from shap~=0.44.0->pycaret[full]) (0.0.7)\n",
            "Requirement already satisfied: pynndescent>=0.5 in /usr/local/lib/python3.10/dist-packages (from umap-learn>=0.5.2->pycaret[full]) (0.5.13)\n",
            "Requirement already satisfied: h11>=0.8 in /usr/local/lib/python3.10/dist-packages (from uvicorn>=0.17.6->pycaret[full]) (0.14.0)\n",
            "Requirement already satisfied: nvidia-nccl-cu12 in /usr/local/lib/python3.10/dist-packages (from xgboost>=1.1.0->pycaret[full]) (2.23.4)\n",
            "Requirement already satisfied: visions<0.7.7,>=0.7.5 in /usr/local/lib/python3.10/dist-packages (from visions[type_image_path]<0.7.7,>=0.7.5->ydata-profiling>=4.3.1->pycaret[full]) (0.7.6)\n",
            "Requirement already satisfied: htmlmin==0.1.12 in /usr/local/lib/python3.10/dist-packages (from ydata-profiling>=4.3.1->pycaret[full]) (0.1.12)\n",
            "Requirement already satisfied: phik<0.13,>=0.11.1 in /usr/local/lib/python3.10/dist-packages (from ydata-profiling>=4.3.1->pycaret[full]) (0.12.4)\n",
            "Requirement already satisfied: seaborn<0.14,>=0.10.1 in /usr/local/lib/python3.10/dist-packages (from ydata-profiling>=4.3.1->pycaret[full]) (0.13.2)\n",
            "Requirement already satisfied: multimethod<2,>=1.4 in /usr/local/lib/python3.10/dist-packages (from ydata-profiling>=4.3.1->pycaret[full]) (1.12)\n",
            "Requirement already satisfied: typeguard<5,>=3 in /usr/local/lib/python3.10/dist-packages (from ydata-profiling>=4.3.1->pycaret[full]) (4.3.0)\n",
            "Requirement already satisfied: imagehash==4.3.1 in /usr/local/lib/python3.10/dist-packages (from ydata-profiling>=4.3.1->pycaret[full]) (4.3.1)\n",
            "Requirement already satisfied: wordcloud>=1.9.3 in /usr/local/lib/python3.10/dist-packages (from ydata-profiling>=4.3.1->pycaret[full]) (1.9.3)\n",
            "Requirement already satisfied: dacite>=1.8 in /usr/local/lib/python3.10/dist-packages (from ydata-profiling>=4.3.1->pycaret[full]) (1.8.1)\n",
            "Requirement already satisfied: PyWavelets in /usr/local/lib/python3.10/dist-packages (from imagehash==4.3.1->ydata-profiling>=4.3.1->pycaret[full]) (1.7.0)\n",
            "Requirement already satisfied: retrying in /usr/local/lib/python3.10/dist-packages (from dash[testing]; extra == \"full\"->pycaret[full]) (1.3.4)\n",
            "Requirement already satisfied: nest-asyncio in /usr/local/lib/python3.10/dist-packages (from dash[testing]; extra == \"full\"->pycaret[full]) (1.6.0)\n",
            "Requirement already satisfied: beautifulsoup4>=4.8.2 in /usr/local/lib/python3.10/dist-packages (from dash[testing]; extra == \"full\"->pycaret[full]) (4.12.3)\n",
            "Requirement already satisfied: lxml>=4.6.2 in /usr/local/lib/python3.10/dist-packages (from dash[testing]; extra == \"full\"->pycaret[full]) (4.9.4)\n",
            "Requirement already satisfied: percy>=2.0.2 in /usr/local/lib/python3.10/dist-packages (from dash[testing]; extra == \"full\"->pycaret[full]) (2.0.2)\n",
            "Requirement already satisfied: selenium<=4.2.0,>=3.141.0 in /usr/local/lib/python3.10/dist-packages (from dash[testing]; extra == \"full\"->pycaret[full]) (4.2.0)\n",
            "Requirement already satisfied: multiprocess>=0.70.12 in /usr/local/lib/python3.10/dist-packages (from dash[testing]; extra == \"full\"->pycaret[full]) (0.70.17)\n",
            "Requirement already satisfied: dash-testing-stub>=0.0.2 in /usr/local/lib/python3.10/dist-packages (from dash[testing]; extra == \"full\"->pycaret[full]) (0.0.2)\n",
            "Requirement already satisfied: Mako in /usr/local/lib/python3.10/dist-packages (from alembic!=1.10.0,<2->mlflow>=2.0.0->pycaret[full]) (1.3.5)\n",
            "Requirement already satisfied: sniffio>=1.1 in /usr/local/lib/python3.10/dist-packages (from anyio<5.0,>=3.0->gradio>=3.50.2->pycaret[full]) (1.3.1)\n",
            "Requirement already satisfied: soupsieve>1.2 in /usr/local/lib/python3.10/dist-packages (from beautifulsoup4>=4.8.2->dash[testing]; extra == \"full\"->pycaret[full]) (2.6)\n",
            "Requirement already satisfied: cffi>=1.12 in /usr/local/lib/python3.10/dist-packages (from cryptography>=43.0.1->evidently~=0.4.16->pycaret[full]) (1.17.1)\n",
            "Requirement already satisfied: dask-expr<1.2,>=1.1 in /usr/local/lib/python3.10/dist-packages (from dask[dataframe,distributed]>=2023.5.0; extra == \"dask\"->fugue[dask]; extra == \"full\"->pycaret[full]) (1.1.10)\n",
            "Requirement already satisfied: colour in /usr/local/lib/python3.10/dist-packages (from dtreeviz>=2.1->explainerdashboard>=0.3.8->pycaret[full]) (0.1.5)\n",
            "Requirement already satisfied: wtforms in /usr/local/lib/python3.10/dist-packages (from Flask-WTF>=1.1->explainerdashboard>=0.3.8->pycaret[full]) (3.1.2)\n",
            "Requirement already satisfied: antlr4-python3-runtime<4.12 in /usr/local/lib/python3.10/dist-packages (from fugue-sql-antlr>=0.1.6->fugue~=0.8.0->pycaret[full]) (4.11.1)\n",
            "Requirement already satisfied: graphql-core<3.3,>=3.1 in /usr/local/lib/python3.10/dist-packages (from graphene<4->mlflow>=2.0.0->pycaret[full]) (3.2.4)\n",
            "Requirement already satisfied: graphql-relay<3.3,>=3.1 in /usr/local/lib/python3.10/dist-packages (from graphene<4->mlflow>=2.0.0->pycaret[full]) (3.2.0)\n",
            "Requirement already satisfied: aniso8601<10,>=8 in /usr/local/lib/python3.10/dist-packages (from graphene<4->mlflow>=2.0.0->pycaret[full]) (9.0.1)\n",
            "Requirement already satisfied: httpcore==1.* in /usr/local/lib/python3.10/dist-packages (from httpx>=0.24.1->gradio>=3.50.2->pycaret[full]) (1.0.6)\n",
            "Requirement already satisfied: jupyter-client in /usr/local/lib/python3.10/dist-packages (from ipykernel>=4.10.0->interpret-core[aplr,dash,debug,linear,notebook,plotly,sensitivity,shap]==0.6.4->interpret>=0.2.7->pycaret[full]) (6.1.12)\n",
            "Requirement already satisfied: appdirs in /usr/local/lib/python3.10/dist-packages (from iterative-telemetry>=0.0.5->evidently~=0.4.16->pycaret[full]) (1.4.4)\n",
            "Requirement already satisfied: distro in /usr/lib/python3/dist-packages (from iterative-telemetry>=0.0.5->evidently~=0.4.16->pycaret[full]) (1.7.0)\n",
            "Requirement already satisfied: parso<0.9.0,>=0.8.3 in /usr/local/lib/python3.10/dist-packages (from jedi>=0.16->ipython>=5.5.0->pycaret[full]) (0.8.4)\n",
            "Requirement already satisfied: attrs>=22.2.0 in /usr/local/lib/python3.10/dist-packages (from jsonschema>=2.6->nbformat>=4.2.0->pycaret[full]) (24.2.0)\n",
            "Requirement already satisfied: jsonschema-specifications>=2023.03.6 in /usr/local/lib/python3.10/dist-packages (from jsonschema>=2.6->nbformat>=4.2.0->pycaret[full]) (2023.12.1)\n",
            "Requirement already satisfied: referencing>=0.28.4 in /usr/local/lib/python3.10/dist-packages (from jsonschema>=2.6->nbformat>=4.2.0->pycaret[full]) (0.35.1)\n",
            "Requirement already satisfied: rpds-py>=0.7.1 in /usr/local/lib/python3.10/dist-packages (from jsonschema>=2.6->nbformat>=4.2.0->pycaret[full]) (0.20.0)\n",
            "Requirement already satisfied: platformdirs>=2.5 in /usr/local/lib/python3.10/dist-packages (from jupyter-core!=5.0.*,>=4.12->nbformat>=4.2.0->pycaret[full]) (4.3.6)\n",
            "Requirement already satisfied: ansi2html in /usr/local/lib/python3.10/dist-packages (from jupyter-dash>=0.4.1->explainerdashboard>=0.3.8->pycaret[full]) (1.9.2)\n",
            "Requirement already satisfied: msgspec>=0.18.2 in /usr/local/lib/python3.10/dist-packages (from litestar>=2.8.3->evidently~=0.4.16->pycaret[full]) (0.18.6)\n",
            "Requirement already satisfied: multidict>=6.0.2 in /usr/local/lib/python3.10/dist-packages (from litestar>=2.8.3->evidently~=0.4.16->pycaret[full]) (6.1.0)\n",
            "Requirement already satisfied: polyfactory>=2.6.3 in /usr/local/lib/python3.10/dist-packages (from litestar>=2.8.3->evidently~=0.4.16->pycaret[full]) (2.17.0)\n",
            "Requirement already satisfied: rich-click in /usr/local/lib/python3.10/dist-packages (from litestar>=2.8.3->evidently~=0.4.16->pycaret[full]) (1.8.3)\n",
            "Requirement already satisfied: regex>=2021.8.3 in /usr/local/lib/python3.10/dist-packages (from nltk>=3.6.7->evidently~=0.4.16->pycaret[full]) (2024.9.11)\n",
            "Requirement already satisfied: ptyprocess>=0.5 in /usr/local/lib/python3.10/dist-packages (from pexpect>4.3->ipython>=5.5.0->pycaret[full]) (0.7.0)\n",
            "Requirement already satisfied: wcwidth in /usr/local/lib/python3.10/dist-packages (from prompt-toolkit!=3.0.0,!=3.0.1,<3.1.0,>=2.0.0->ipython>=5.5.0->pycaret[full]) (0.2.13)\n",
            "Requirement already satisfied: annotated-types>=0.6.0 in /usr/local/lib/python3.10/dist-packages (from pydantic>=1.10.13->evidently~=0.4.16->pycaret[full]) (0.7.0)\n",
            "Requirement already satisfied: pydantic-core==2.23.4 in /usr/local/lib/python3.10/dist-packages (from pydantic>=1.10.13->evidently~=0.4.16->pycaret[full]) (2.23.4)\n",
            "Requirement already satisfied: markdown-it-py>=2.2.0 in /usr/local/lib/python3.10/dist-packages (from rich>=13->evidently~=0.4.16->pycaret[full]) (3.0.0)\n",
            "Requirement already satisfied: trio~=0.17 in /usr/local/lib/python3.10/dist-packages (from selenium<=4.2.0,>=3.141.0->dash[testing]; extra == \"full\"->pycaret[full]) (0.26.2)\n",
            "Requirement already satisfied: trio-websocket~=0.9 in /usr/local/lib/python3.10/dist-packages (from selenium<=4.2.0,>=3.141.0->dash[testing]; extra == \"full\"->pycaret[full]) (0.11.1)\n",
            "Requirement already satisfied: greenlet!=0.4.17 in /usr/local/lib/python3.10/dist-packages (from sqlalchemy<3,>=1.4.0->mlflow>=2.0.0->pycaret[full]) (3.1.1)\n",
            "Requirement already satisfied: fs in /usr/local/lib/python3.10/dist-packages (from triad>=0.9.3->fugue~=0.8.0->pycaret[full]) (2.4.16)\n",
            "Requirement already satisfied: shellingham>=1.3.0 in /usr/local/lib/python3.10/dist-packages (from typer>=0.3->evidently~=0.4.16->pycaret[full]) (1.5.4)\n",
            "Requirement already satisfied: mypy-extensions>=0.3.0 in /usr/local/lib/python3.10/dist-packages (from typing-inspect>=0.9.0->evidently~=0.4.16->pycaret[full]) (1.0.0)\n",
            "Requirement already satisfied: httptools>=0.5.0 in /usr/local/lib/python3.10/dist-packages (from uvicorn[standard]>=0.22.0->evidently~=0.4.16->pycaret[full]) (0.6.1)\n",
            "Requirement already satisfied: python-dotenv>=0.13 in /usr/local/lib/python3.10/dist-packages (from uvicorn[standard]>=0.22.0->evidently~=0.4.16->pycaret[full]) (1.0.1)\n",
            "Requirement already satisfied: uvloop!=0.15.0,!=0.15.1,>=0.14.0 in /usr/local/lib/python3.10/dist-packages (from uvicorn[standard]>=0.22.0->evidently~=0.4.16->pycaret[full]) (0.20.0)\n",
            "Requirement already satisfied: watchfiles>=0.13 in /usr/local/lib/python3.10/dist-packages (from uvicorn[standard]>=0.22.0->evidently~=0.4.16->pycaret[full]) (0.24.0)\n",
            "Requirement already satisfied: notebook>=4.4.1 in /usr/local/lib/python3.10/dist-packages (from widgetsnbextension~=3.6.0->ipywidgets>=7.6.5->pycaret[full]) (6.5.5)\n",
            "Requirement already satisfied: pycparser in /usr/local/lib/python3.10/dist-packages (from cffi>=1.12->cryptography>=43.0.1->evidently~=0.4.16->pycaret[full]) (2.22)\n",
            "Requirement already satisfied: google-auth~=2.0 in /usr/local/lib/python3.10/dist-packages (from databricks-sdk<1,>=0.20.0->mlflow-skinny==2.16.2->mlflow>=2.0.0->pycaret[full]) (2.27.0)\n",
            "Requirement already satisfied: zope.event in /usr/local/lib/python3.10/dist-packages (from gevent>=1.3.6->interpret-core[aplr,dash,debug,linear,notebook,plotly,sensitivity,shap]==0.6.4->interpret>=0.2.7->pycaret[full]) (5.0)\n",
            "Requirement already satisfied: zope.interface in /usr/local/lib/python3.10/dist-packages (from gevent>=1.3.6->interpret-core[aplr,dash,debug,linear,notebook,plotly,sensitivity,shap]==0.6.4->interpret>=0.2.7->pycaret[full]) (7.1.0)\n",
            "Requirement already satisfied: gitdb<5,>=4.0.1 in /usr/local/lib/python3.10/dist-packages (from gitpython<4,>=3.1.9->mlflow-skinny==2.16.2->mlflow>=2.0.0->pycaret[full]) (4.0.11)\n",
            "Requirement already satisfied: mdurl~=0.1 in /usr/local/lib/python3.10/dist-packages (from markdown-it-py>=2.2.0->rich>=13->evidently~=0.4.16->pycaret[full]) (0.1.2)\n",
            "Requirement already satisfied: pyzmq<25,>=17 in /usr/local/lib/python3.10/dist-packages (from notebook>=4.4.1->widgetsnbextension~=3.6.0->ipywidgets>=7.6.5->pycaret[full]) (24.0.1)\n",
            "Requirement already satisfied: argon2-cffi in /usr/local/lib/python3.10/dist-packages (from notebook>=4.4.1->widgetsnbextension~=3.6.0->ipywidgets>=7.6.5->pycaret[full]) (23.1.0)\n",
            "Requirement already satisfied: nbconvert>=5 in /usr/local/lib/python3.10/dist-packages (from notebook>=4.4.1->widgetsnbextension~=3.6.0->ipywidgets>=7.6.5->pycaret[full]) (6.5.4)\n",
            "Requirement already satisfied: Send2Trash>=1.8.0 in /usr/local/lib/python3.10/dist-packages (from notebook>=4.4.1->widgetsnbextension~=3.6.0->ipywidgets>=7.6.5->pycaret[full]) (1.8.3)\n",
            "Requirement already satisfied: terminado>=0.8.3 in /usr/local/lib/python3.10/dist-packages (from notebook>=4.4.1->widgetsnbextension~=3.6.0->ipywidgets>=7.6.5->pycaret[full]) (0.18.1)\n",
            "Requirement already satisfied: prometheus-client in /usr/local/lib/python3.10/dist-packages (from notebook>=4.4.1->widgetsnbextension~=3.6.0->ipywidgets>=7.6.5->pycaret[full]) (0.21.0)\n",
            "Requirement already satisfied: nbclassic>=0.4.7 in /usr/local/lib/python3.10/dist-packages (from notebook>=4.4.1->widgetsnbextension~=3.6.0->ipywidgets>=7.6.5->pycaret[full]) (1.1.0)\n",
            "Requirement already satisfied: deprecated>=1.2.6 in /usr/local/lib/python3.10/dist-packages (from opentelemetry-api<3,>=1.9.0->mlflow-skinny==2.16.2->mlflow>=2.0.0->pycaret[full]) (1.2.14)\n",
            "Requirement already satisfied: opentelemetry-semantic-conventions==0.48b0 in /usr/local/lib/python3.10/dist-packages (from opentelemetry-sdk<3,>=1.9.0->mlflow-skinny==2.16.2->mlflow>=2.0.0->pycaret[full]) (0.48b0)\n",
            "Requirement already satisfied: faker in /usr/local/lib/python3.10/dist-packages (from polyfactory>=2.6.3->litestar>=2.8.3->evidently~=0.4.16->pycaret[full]) (30.3.0)\n",
            "Requirement already satisfied: outcome in /usr/local/lib/python3.10/dist-packages (from trio~=0.17->selenium<=4.2.0,>=3.141.0->dash[testing]; extra == \"full\"->pycaret[full]) (1.3.0.post0)\n",
            "Requirement already satisfied: wsproto>=0.14 in /usr/local/lib/python3.10/dist-packages (from trio-websocket~=0.9->selenium<=4.2.0,>=3.141.0->dash[testing]; extra == \"full\"->pycaret[full]) (1.2.0)\n",
            "Requirement already satisfied: PySocks!=1.5.7,<2.0,>=1.5.6 in /usr/local/lib/python3.10/dist-packages (from urllib3[secure,socks]~=1.26->selenium<=4.2.0,>=3.141.0->dash[testing]; extra == \"full\"->pycaret[full]) (1.7.1)\n",
            "Requirement already satisfied: pyOpenSSL>=0.14 in /usr/local/lib/python3.10/dist-packages (from urllib3[secure,socks]~=1.26->selenium<=4.2.0,>=3.141.0->dash[testing]; extra == \"full\"->pycaret[full]) (24.2.1)\n",
            "Requirement already satisfied: urllib3-secure-extra in /usr/local/lib/python3.10/dist-packages (from urllib3[secure,socks]~=1.26->selenium<=4.2.0,>=3.141.0->dash[testing]; extra == \"full\"->pycaret[full]) (0.1.0)\n",
            "Requirement already satisfied: wrapt<2,>=1.10 in /usr/local/lib/python3.10/dist-packages (from deprecated>=1.2.6->opentelemetry-api<3,>=1.9.0->mlflow-skinny==2.16.2->mlflow>=2.0.0->pycaret[full]) (1.16.0)\n",
            "Requirement already satisfied: smmap<6,>=3.0.1 in /usr/local/lib/python3.10/dist-packages (from gitdb<5,>=4.0.1->gitpython<4,>=3.1.9->mlflow-skinny==2.16.2->mlflow>=2.0.0->pycaret[full]) (5.0.1)\n",
            "Requirement already satisfied: pyasn1-modules>=0.2.1 in /usr/local/lib/python3.10/dist-packages (from google-auth~=2.0->databricks-sdk<1,>=0.20.0->mlflow-skinny==2.16.2->mlflow>=2.0.0->pycaret[full]) (0.4.1)\n",
            "Requirement already satisfied: rsa<5,>=3.1.4 in /usr/local/lib/python3.10/dist-packages (from google-auth~=2.0->databricks-sdk<1,>=0.20.0->mlflow-skinny==2.16.2->mlflow>=2.0.0->pycaret[full]) (4.9)\n",
            "Requirement already satisfied: notebook-shim>=0.2.3 in /usr/local/lib/python3.10/dist-packages (from nbclassic>=0.4.7->notebook>=4.4.1->widgetsnbextension~=3.6.0->ipywidgets>=7.6.5->pycaret[full]) (0.2.4)\n",
            "Requirement already satisfied: bleach in /usr/local/lib/python3.10/dist-packages (from nbconvert>=5->notebook>=4.4.1->widgetsnbextension~=3.6.0->ipywidgets>=7.6.5->pycaret[full]) (6.1.0)\n",
            "Requirement already satisfied: defusedxml in /usr/local/lib/python3.10/dist-packages (from nbconvert>=5->notebook>=4.4.1->widgetsnbextension~=3.6.0->ipywidgets>=7.6.5->pycaret[full]) (0.7.1)\n",
            "Requirement already satisfied: entrypoints>=0.2.2 in /usr/local/lib/python3.10/dist-packages (from nbconvert>=5->notebook>=4.4.1->widgetsnbextension~=3.6.0->ipywidgets>=7.6.5->pycaret[full]) (0.4)\n",
            "Requirement already satisfied: jupyterlab-pygments in /usr/local/lib/python3.10/dist-packages (from nbconvert>=5->notebook>=4.4.1->widgetsnbextension~=3.6.0->ipywidgets>=7.6.5->pycaret[full]) (0.3.0)\n",
            "Requirement already satisfied: mistune<2,>=0.8.1 in /usr/local/lib/python3.10/dist-packages (from nbconvert>=5->notebook>=4.4.1->widgetsnbextension~=3.6.0->ipywidgets>=7.6.5->pycaret[full]) (0.8.4)\n",
            "Requirement already satisfied: nbclient>=0.5.0 in /usr/local/lib/python3.10/dist-packages (from nbconvert>=5->notebook>=4.4.1->widgetsnbextension~=3.6.0->ipywidgets>=7.6.5->pycaret[full]) (0.10.0)\n",
            "Requirement already satisfied: pandocfilters>=1.4.1 in /usr/local/lib/python3.10/dist-packages (from nbconvert>=5->notebook>=4.4.1->widgetsnbextension~=3.6.0->ipywidgets>=7.6.5->pycaret[full]) (1.5.1)\n",
            "Requirement already satisfied: tinycss2 in /usr/local/lib/python3.10/dist-packages (from nbconvert>=5->notebook>=4.4.1->widgetsnbextension~=3.6.0->ipywidgets>=7.6.5->pycaret[full]) (1.3.0)\n",
            "Requirement already satisfied: argon2-cffi-bindings in /usr/local/lib/python3.10/dist-packages (from argon2-cffi->notebook>=4.4.1->widgetsnbextension~=3.6.0->ipywidgets>=7.6.5->pycaret[full]) (21.2.0)\n",
            "Requirement already satisfied: jupyter-server<3,>=1.8 in /usr/local/lib/python3.10/dist-packages (from notebook-shim>=0.2.3->nbclassic>=0.4.7->notebook>=4.4.1->widgetsnbextension~=3.6.0->ipywidgets>=7.6.5->pycaret[full]) (1.24.0)\n",
            "Requirement already satisfied: pyasn1<0.7.0,>=0.4.6 in /usr/local/lib/python3.10/dist-packages (from pyasn1-modules>=0.2.1->google-auth~=2.0->databricks-sdk<1,>=0.20.0->mlflow-skinny==2.16.2->mlflow>=2.0.0->pycaret[full]) (0.6.1)\n",
            "Requirement already satisfied: webencodings in /usr/local/lib/python3.10/dist-packages (from bleach->nbconvert>=5->notebook>=4.4.1->widgetsnbextension~=3.6.0->ipywidgets>=7.6.5->pycaret[full]) (0.5.1)\n",
            "Requirement already satisfied: websocket-client in /usr/local/lib/python3.10/dist-packages (from jupyter-server<3,>=1.8->notebook-shim>=0.2.3->nbclassic>=0.4.7->notebook>=4.4.1->widgetsnbextension~=3.6.0->ipywidgets>=7.6.5->pycaret[full]) (1.8.0)\n"
          ]
        },
        {
          "output_type": "display_data",
          "data": {
            "text/plain": [
              "<pandas.io.formats.style.Styler at 0x7da45e0a1b70>"
            ],
            "text/html": [
              "<style type=\"text/css\">\n",
              "#T_f006a_row10_col1 {\n",
              "  background-color: lightgreen;\n",
              "}\n",
              "</style>\n",
              "<table id=\"T_f006a\" class=\"dataframe\">\n",
              "  <thead>\n",
              "    <tr>\n",
              "      <th class=\"blank level0\" >&nbsp;</th>\n",
              "      <th id=\"T_f006a_level0_col0\" class=\"col_heading level0 col0\" >Description</th>\n",
              "      <th id=\"T_f006a_level0_col1\" class=\"col_heading level0 col1\" >Value</th>\n",
              "    </tr>\n",
              "  </thead>\n",
              "  <tbody>\n",
              "    <tr>\n",
              "      <th id=\"T_f006a_level0_row0\" class=\"row_heading level0 row0\" >0</th>\n",
              "      <td id=\"T_f006a_row0_col0\" class=\"data row0 col0\" >Session id</td>\n",
              "      <td id=\"T_f006a_row0_col1\" class=\"data row0 col1\" >319</td>\n",
              "    </tr>\n",
              "    <tr>\n",
              "      <th id=\"T_f006a_level0_row1\" class=\"row_heading level0 row1\" >1</th>\n",
              "      <td id=\"T_f006a_row1_col0\" class=\"data row1 col0\" >Target</td>\n",
              "      <td id=\"T_f006a_row1_col1\" class=\"data row1 col1\" >label</td>\n",
              "    </tr>\n",
              "    <tr>\n",
              "      <th id=\"T_f006a_level0_row2\" class=\"row_heading level0 row2\" >2</th>\n",
              "      <td id=\"T_f006a_row2_col0\" class=\"data row2 col0\" >Target type</td>\n",
              "      <td id=\"T_f006a_row2_col1\" class=\"data row2 col1\" >Binary</td>\n",
              "    </tr>\n",
              "    <tr>\n",
              "      <th id=\"T_f006a_level0_row3\" class=\"row_heading level0 row3\" >3</th>\n",
              "      <td id=\"T_f006a_row3_col0\" class=\"data row3 col0\" >Original data shape</td>\n",
              "      <td id=\"T_f006a_row3_col1\" class=\"data row3 col1\" >(17588, 40)</td>\n",
              "    </tr>\n",
              "    <tr>\n",
              "      <th id=\"T_f006a_level0_row4\" class=\"row_heading level0 row4\" >4</th>\n",
              "      <td id=\"T_f006a_row4_col0\" class=\"data row4 col0\" >Transformed data shape</td>\n",
              "      <td id=\"T_f006a_row4_col1\" class=\"data row4 col1\" >(17588, 48)</td>\n",
              "    </tr>\n",
              "    <tr>\n",
              "      <th id=\"T_f006a_level0_row5\" class=\"row_heading level0 row5\" >5</th>\n",
              "      <td id=\"T_f006a_row5_col0\" class=\"data row5 col0\" >Transformed train set shape</td>\n",
              "      <td id=\"T_f006a_row5_col1\" class=\"data row5 col1\" >(12311, 48)</td>\n",
              "    </tr>\n",
              "    <tr>\n",
              "      <th id=\"T_f006a_level0_row6\" class=\"row_heading level0 row6\" >6</th>\n",
              "      <td id=\"T_f006a_row6_col0\" class=\"data row6 col0\" >Transformed test set shape</td>\n",
              "      <td id=\"T_f006a_row6_col1\" class=\"data row6 col1\" >(5277, 48)</td>\n",
              "    </tr>\n",
              "    <tr>\n",
              "      <th id=\"T_f006a_level0_row7\" class=\"row_heading level0 row7\" >7</th>\n",
              "      <td id=\"T_f006a_row7_col0\" class=\"data row7 col0\" >Numeric features</td>\n",
              "      <td id=\"T_f006a_row7_col1\" class=\"data row7 col1\" >33</td>\n",
              "    </tr>\n",
              "    <tr>\n",
              "      <th id=\"T_f006a_level0_row8\" class=\"row_heading level0 row8\" >8</th>\n",
              "      <td id=\"T_f006a_row8_col0\" class=\"data row8 col0\" >Categorical features</td>\n",
              "      <td id=\"T_f006a_row8_col1\" class=\"data row8 col1\" >6</td>\n",
              "    </tr>\n",
              "    <tr>\n",
              "      <th id=\"T_f006a_level0_row9\" class=\"row_heading level0 row9\" >9</th>\n",
              "      <td id=\"T_f006a_row9_col0\" class=\"data row9 col0\" >Rows with missing values</td>\n",
              "      <td id=\"T_f006a_row9_col1\" class=\"data row9 col1\" >93.9%</td>\n",
              "    </tr>\n",
              "    <tr>\n",
              "      <th id=\"T_f006a_level0_row10\" class=\"row_heading level0 row10\" >10</th>\n",
              "      <td id=\"T_f006a_row10_col0\" class=\"data row10 col0\" >Preprocess</td>\n",
              "      <td id=\"T_f006a_row10_col1\" class=\"data row10 col1\" >True</td>\n",
              "    </tr>\n",
              "    <tr>\n",
              "      <th id=\"T_f006a_level0_row11\" class=\"row_heading level0 row11\" >11</th>\n",
              "      <td id=\"T_f006a_row11_col0\" class=\"data row11 col0\" >Imputation type</td>\n",
              "      <td id=\"T_f006a_row11_col1\" class=\"data row11 col1\" >simple</td>\n",
              "    </tr>\n",
              "    <tr>\n",
              "      <th id=\"T_f006a_level0_row12\" class=\"row_heading level0 row12\" >12</th>\n",
              "      <td id=\"T_f006a_row12_col0\" class=\"data row12 col0\" >Numeric imputation</td>\n",
              "      <td id=\"T_f006a_row12_col1\" class=\"data row12 col1\" >mean</td>\n",
              "    </tr>\n",
              "    <tr>\n",
              "      <th id=\"T_f006a_level0_row13\" class=\"row_heading level0 row13\" >13</th>\n",
              "      <td id=\"T_f006a_row13_col0\" class=\"data row13 col0\" >Categorical imputation</td>\n",
              "      <td id=\"T_f006a_row13_col1\" class=\"data row13 col1\" >mode</td>\n",
              "    </tr>\n",
              "    <tr>\n",
              "      <th id=\"T_f006a_level0_row14\" class=\"row_heading level0 row14\" >14</th>\n",
              "      <td id=\"T_f006a_row14_col0\" class=\"data row14 col0\" >Maximum one-hot encoding</td>\n",
              "      <td id=\"T_f006a_row14_col1\" class=\"data row14 col1\" >25</td>\n",
              "    </tr>\n",
              "    <tr>\n",
              "      <th id=\"T_f006a_level0_row15\" class=\"row_heading level0 row15\" >15</th>\n",
              "      <td id=\"T_f006a_row15_col0\" class=\"data row15 col0\" >Encoding method</td>\n",
              "      <td id=\"T_f006a_row15_col1\" class=\"data row15 col1\" >None</td>\n",
              "    </tr>\n",
              "    <tr>\n",
              "      <th id=\"T_f006a_level0_row16\" class=\"row_heading level0 row16\" >16</th>\n",
              "      <td id=\"T_f006a_row16_col0\" class=\"data row16 col0\" >Fold Generator</td>\n",
              "      <td id=\"T_f006a_row16_col1\" class=\"data row16 col1\" >StratifiedKFold</td>\n",
              "    </tr>\n",
              "    <tr>\n",
              "      <th id=\"T_f006a_level0_row17\" class=\"row_heading level0 row17\" >17</th>\n",
              "      <td id=\"T_f006a_row17_col0\" class=\"data row17 col0\" >Fold Number</td>\n",
              "      <td id=\"T_f006a_row17_col1\" class=\"data row17 col1\" >5</td>\n",
              "    </tr>\n",
              "    <tr>\n",
              "      <th id=\"T_f006a_level0_row18\" class=\"row_heading level0 row18\" >18</th>\n",
              "      <td id=\"T_f006a_row18_col0\" class=\"data row18 col0\" >CPU Jobs</td>\n",
              "      <td id=\"T_f006a_row18_col1\" class=\"data row18 col1\" >-1</td>\n",
              "    </tr>\n",
              "    <tr>\n",
              "      <th id=\"T_f006a_level0_row19\" class=\"row_heading level0 row19\" >19</th>\n",
              "      <td id=\"T_f006a_row19_col0\" class=\"data row19 col0\" >Use GPU</td>\n",
              "      <td id=\"T_f006a_row19_col1\" class=\"data row19 col1\" >False</td>\n",
              "    </tr>\n",
              "    <tr>\n",
              "      <th id=\"T_f006a_level0_row20\" class=\"row_heading level0 row20\" >20</th>\n",
              "      <td id=\"T_f006a_row20_col0\" class=\"data row20 col0\" >Log Experiment</td>\n",
              "      <td id=\"T_f006a_row20_col1\" class=\"data row20 col1\" >False</td>\n",
              "    </tr>\n",
              "    <tr>\n",
              "      <th id=\"T_f006a_level0_row21\" class=\"row_heading level0 row21\" >21</th>\n",
              "      <td id=\"T_f006a_row21_col0\" class=\"data row21 col0\" >Experiment Name</td>\n",
              "      <td id=\"T_f006a_row21_col1\" class=\"data row21 col1\" >clf-default-name</td>\n",
              "    </tr>\n",
              "    <tr>\n",
              "      <th id=\"T_f006a_level0_row22\" class=\"row_heading level0 row22\" >22</th>\n",
              "      <td id=\"T_f006a_row22_col0\" class=\"data row22 col0\" >USI</td>\n",
              "      <td id=\"T_f006a_row22_col1\" class=\"data row22 col1\" >1345</td>\n",
              "    </tr>\n",
              "  </tbody>\n",
              "</table>\n"
            ]
          },
          "metadata": {}
        },
        {
          "output_type": "display_data",
          "data": {
            "text/plain": [
              "<IPython.core.display.HTML object>"
            ],
            "text/html": []
          },
          "metadata": {}
        },
        {
          "output_type": "display_data",
          "data": {
            "text/plain": [
              "<pandas.io.formats.style.Styler at 0x7da45decdb10>"
            ],
            "text/html": [
              "<style type=\"text/css\">\n",
              "#T_a8654 th {\n",
              "  text-align: left;\n",
              "}\n",
              "#T_a8654_row0_col0, #T_a8654_row0_col2, #T_a8654_row0_col4, #T_a8654_row1_col0, #T_a8654_row1_col1, #T_a8654_row1_col2, #T_a8654_row1_col3, #T_a8654_row1_col5, #T_a8654_row1_col6, #T_a8654_row1_col7, #T_a8654_row2_col0, #T_a8654_row2_col1, #T_a8654_row2_col3, #T_a8654_row2_col4, #T_a8654_row2_col5, #T_a8654_row2_col6, #T_a8654_row2_col7, #T_a8654_row3_col0, #T_a8654_row3_col1, #T_a8654_row3_col2, #T_a8654_row3_col3, #T_a8654_row3_col4, #T_a8654_row3_col5, #T_a8654_row3_col6, #T_a8654_row3_col7, #T_a8654_row4_col0, #T_a8654_row4_col1, #T_a8654_row4_col2, #T_a8654_row4_col3, #T_a8654_row4_col4, #T_a8654_row4_col5, #T_a8654_row4_col6, #T_a8654_row4_col7, #T_a8654_row5_col0, #T_a8654_row5_col1, #T_a8654_row5_col2, #T_a8654_row5_col3, #T_a8654_row5_col4, #T_a8654_row5_col5, #T_a8654_row5_col6, #T_a8654_row5_col7 {\n",
              "  text-align: left;\n",
              "}\n",
              "#T_a8654_row0_col1, #T_a8654_row0_col3, #T_a8654_row0_col5, #T_a8654_row0_col6, #T_a8654_row0_col7, #T_a8654_row1_col4, #T_a8654_row2_col2 {\n",
              "  text-align: left;\n",
              "  background-color: yellow;\n",
              "}\n",
              "#T_a8654_row0_col8 {\n",
              "  text-align: left;\n",
              "  background-color: yellow;\n",
              "  background-color: lightgrey;\n",
              "}\n",
              "#T_a8654_row1_col8, #T_a8654_row2_col8, #T_a8654_row3_col8, #T_a8654_row4_col8, #T_a8654_row5_col8 {\n",
              "  text-align: left;\n",
              "  background-color: lightgrey;\n",
              "}\n",
              "</style>\n",
              "<table id=\"T_a8654\" class=\"dataframe\">\n",
              "  <thead>\n",
              "    <tr>\n",
              "      <th class=\"blank level0\" >&nbsp;</th>\n",
              "      <th id=\"T_a8654_level0_col0\" class=\"col_heading level0 col0\" >Model</th>\n",
              "      <th id=\"T_a8654_level0_col1\" class=\"col_heading level0 col1\" >Accuracy</th>\n",
              "      <th id=\"T_a8654_level0_col2\" class=\"col_heading level0 col2\" >AUC</th>\n",
              "      <th id=\"T_a8654_level0_col3\" class=\"col_heading level0 col3\" >Recall</th>\n",
              "      <th id=\"T_a8654_level0_col4\" class=\"col_heading level0 col4\" >Prec.</th>\n",
              "      <th id=\"T_a8654_level0_col5\" class=\"col_heading level0 col5\" >F1</th>\n",
              "      <th id=\"T_a8654_level0_col6\" class=\"col_heading level0 col6\" >Kappa</th>\n",
              "      <th id=\"T_a8654_level0_col7\" class=\"col_heading level0 col7\" >MCC</th>\n",
              "      <th id=\"T_a8654_level0_col8\" class=\"col_heading level0 col8\" >TT (Sec)</th>\n",
              "    </tr>\n",
              "  </thead>\n",
              "  <tbody>\n",
              "    <tr>\n",
              "      <th id=\"T_a8654_level0_row0\" class=\"row_heading level0 row0\" >dt</th>\n",
              "      <td id=\"T_a8654_row0_col0\" class=\"data row0 col0\" >Decision Tree Classifier</td>\n",
              "      <td id=\"T_a8654_row0_col1\" class=\"data row0 col1\" >0.9546</td>\n",
              "      <td id=\"T_a8654_row0_col2\" class=\"data row0 col2\" >0.6340</td>\n",
              "      <td id=\"T_a8654_row0_col3\" class=\"data row0 col3\" >0.2688</td>\n",
              "      <td id=\"T_a8654_row0_col4\" class=\"data row0 col4\" >0.7771</td>\n",
              "      <td id=\"T_a8654_row0_col5\" class=\"data row0 col5\" >0.3982</td>\n",
              "      <td id=\"T_a8654_row0_col6\" class=\"data row0 col6\" >0.3848</td>\n",
              "      <td id=\"T_a8654_row0_col7\" class=\"data row0 col7\" >0.4441</td>\n",
              "      <td id=\"T_a8654_row0_col8\" class=\"data row0 col8\" >0.2980</td>\n",
              "    </tr>\n",
              "    <tr>\n",
              "      <th id=\"T_a8654_level0_row1\" class=\"row_heading level0 row1\" >et</th>\n",
              "      <td id=\"T_a8654_row1_col0\" class=\"data row1 col0\" >Extra Trees Classifier</td>\n",
              "      <td id=\"T_a8654_row1_col1\" class=\"data row1 col1\" >0.9449</td>\n",
              "      <td id=\"T_a8654_row1_col2\" class=\"data row1 col2\" >0.9172</td>\n",
              "      <td id=\"T_a8654_row1_col3\" class=\"data row1 col3\" >0.1104</td>\n",
              "      <td id=\"T_a8654_row1_col4\" class=\"data row1 col4\" >0.9053</td>\n",
              "      <td id=\"T_a8654_row1_col5\" class=\"data row1 col5\" >0.1964</td>\n",
              "      <td id=\"T_a8654_row1_col6\" class=\"data row1 col6\" >0.1856</td>\n",
              "      <td id=\"T_a8654_row1_col7\" class=\"data row1 col7\" >0.3046</td>\n",
              "      <td id=\"T_a8654_row1_col8\" class=\"data row1 col8\" >2.2960</td>\n",
              "    </tr>\n",
              "    <tr>\n",
              "      <th id=\"T_a8654_level0_row2\" class=\"row_heading level0 row2\" >rf</th>\n",
              "      <td id=\"T_a8654_row2_col0\" class=\"data row2 col0\" >Random Forest Classifier</td>\n",
              "      <td id=\"T_a8654_row2_col1\" class=\"data row2 col1\" >0.9441</td>\n",
              "      <td id=\"T_a8654_row2_col2\" class=\"data row2 col2\" >0.9385</td>\n",
              "      <td id=\"T_a8654_row2_col3\" class=\"data row2 col3\" >0.0971</td>\n",
              "      <td id=\"T_a8654_row2_col4\" class=\"data row2 col4\" >0.8877</td>\n",
              "      <td id=\"T_a8654_row2_col5\" class=\"data row2 col5\" >0.1744</td>\n",
              "      <td id=\"T_a8654_row2_col6\" class=\"data row2 col6\" >0.1645</td>\n",
              "      <td id=\"T_a8654_row2_col7\" class=\"data row2 col7\" >0.2816</td>\n",
              "      <td id=\"T_a8654_row2_col8\" class=\"data row2 col8\" >1.7340</td>\n",
              "    </tr>\n",
              "    <tr>\n",
              "      <th id=\"T_a8654_level0_row3\" class=\"row_heading level0 row3\" >xgboost</th>\n",
              "      <td id=\"T_a8654_row3_col0\" class=\"data row3 col0\" >Extreme Gradient Boosting</td>\n",
              "      <td id=\"T_a8654_row3_col1\" class=\"data row3 col1\" >0.9382</td>\n",
              "      <td id=\"T_a8654_row3_col2\" class=\"data row3 col2\" >0.8729</td>\n",
              "      <td id=\"T_a8654_row3_col3\" class=\"data row3 col3\" >0.0000</td>\n",
              "      <td id=\"T_a8654_row3_col4\" class=\"data row3 col4\" >0.0000</td>\n",
              "      <td id=\"T_a8654_row3_col5\" class=\"data row3 col5\" >0.0000</td>\n",
              "      <td id=\"T_a8654_row3_col6\" class=\"data row3 col6\" >-0.0014</td>\n",
              "      <td id=\"T_a8654_row3_col7\" class=\"data row3 col7\" >-0.0060</td>\n",
              "      <td id=\"T_a8654_row3_col8\" class=\"data row3 col8\" >0.4860</td>\n",
              "    </tr>\n",
              "    <tr>\n",
              "      <th id=\"T_a8654_level0_row4\" class=\"row_heading level0 row4\" >lightgbm</th>\n",
              "      <td id=\"T_a8654_row4_col0\" class=\"data row4 col0\" >Light Gradient Boosting Machine</td>\n",
              "      <td id=\"T_a8654_row4_col1\" class=\"data row4 col1\" >0.9382</td>\n",
              "      <td id=\"T_a8654_row4_col2\" class=\"data row4 col2\" >0.5665</td>\n",
              "      <td id=\"T_a8654_row4_col3\" class=\"data row4 col3\" >0.0000</td>\n",
              "      <td id=\"T_a8654_row4_col4\" class=\"data row4 col4\" >0.0000</td>\n",
              "      <td id=\"T_a8654_row4_col5\" class=\"data row4 col5\" >0.0000</td>\n",
              "      <td id=\"T_a8654_row4_col6\" class=\"data row4 col6\" >-0.0014</td>\n",
              "      <td id=\"T_a8654_row4_col7\" class=\"data row4 col7\" >-0.0060</td>\n",
              "      <td id=\"T_a8654_row4_col8\" class=\"data row4 col8\" >0.7980</td>\n",
              "    </tr>\n",
              "    <tr>\n",
              "      <th id=\"T_a8654_level0_row5\" class=\"row_heading level0 row5\" >catboost</th>\n",
              "      <td id=\"T_a8654_row5_col0\" class=\"data row5 col0\" >CatBoost Classifier</td>\n",
              "      <td id=\"T_a8654_row5_col1\" class=\"data row5 col1\" >0.9382</td>\n",
              "      <td id=\"T_a8654_row5_col2\" class=\"data row5 col2\" >0.9242</td>\n",
              "      <td id=\"T_a8654_row5_col3\" class=\"data row5 col3\" >0.0000</td>\n",
              "      <td id=\"T_a8654_row5_col4\" class=\"data row5 col4\" >0.0000</td>\n",
              "      <td id=\"T_a8654_row5_col5\" class=\"data row5 col5\" >0.0000</td>\n",
              "      <td id=\"T_a8654_row5_col6\" class=\"data row5 col6\" >-0.0014</td>\n",
              "      <td id=\"T_a8654_row5_col7\" class=\"data row5 col7\" >-0.0060</td>\n",
              "      <td id=\"T_a8654_row5_col8\" class=\"data row5 col8\" >11.8160</td>\n",
              "    </tr>\n",
              "  </tbody>\n",
              "</table>\n"
            ]
          },
          "metadata": {}
        },
        {
          "output_type": "display_data",
          "data": {
            "text/plain": [
              "Processing:   0%|          | 0/29 [00:00<?, ?it/s]"
            ],
            "application/vnd.jupyter.widget-view+json": {
              "version_major": 2,
              "version_minor": 0,
              "model_id": "c41143cc13e54a319433dbc518385134"
            }
          },
          "metadata": {
            "application/vnd.jupyter.widget-view+json": {
              "colab": {
                "custom_widget_manager": {
                  "url": "https://ssl.gstatic.com/colaboratory-static/widgets/colab-cdn-widget-manager/2b70e893a8ba7c0f/manager.min.js"
                }
              }
            }
          }
        },
        {
          "output_type": "display_data",
          "data": {
            "text/plain": [
              "<IPython.core.display.HTML object>"
            ],
            "text/html": []
          },
          "metadata": {}
        },
        {
          "output_type": "display_data",
          "data": {
            "text/plain": [
              "interactive(children=(ToggleButtons(description='Plot Type:', icons=('',), options=(('Pipeline Plot', 'pipelin…"
            ],
            "application/vnd.jupyter.widget-view+json": {
              "version_major": 2,
              "version_minor": 0,
              "model_id": "2a4a1324dbee4c06acc27b0488647b36"
            }
          },
          "metadata": {
            "application/vnd.jupyter.widget-view+json": {
              "colab": {
                "custom_widget_manager": {
                  "url": "https://ssl.gstatic.com/colaboratory-static/widgets/colab-cdn-widget-manager/2b70e893a8ba7c0f/manager.min.js"
                }
              }
            }
          }
        },
        {
          "output_type": "stream",
          "name": "stdout",
          "text": [
            "DecisionTreeClassifier(ccp_alpha=0.0, class_weight=None, criterion='gini',\n",
            "                       max_depth=None, max_features=None, max_leaf_nodes=None,\n",
            "                       min_impurity_decrease=0.0, min_samples_leaf=1,\n",
            "                       min_samples_split=2, min_weight_fraction_leaf=0.0,\n",
            "                       monotonic_cst=None, random_state=319, splitter='best')\n"
          ]
        }
      ],
      "source": [
        "!pip install pycaret[full]\n",
        "from pycaret.datasets import get_data\n",
        "from pycaret.classification import *\n",
        "import os\n",
        "\n",
        "os.environ[\"PYCARET_CUSTOM_LOGGING_LEVEL\"] = \"CRITICAL\"\n",
        "\n",
        "#Continuar código aquí\n",
        "\n",
        "# Configuramos entorno de PyCaret para clasificación\n",
        "clf = setup(data, target='label', fold=5)\n",
        "\n",
        "# Comparar los modelos de árbol\n",
        "best_model = compare_models(include=['et', 'rf', 'dt', 'xgboost', 'lightgbm', 'catboost'])\n",
        "\n",
        "# Evaluar el mejor modelo\n",
        "evaluate_model(best_model)\n",
        "\n",
        "# Obtener las métricas más detalladas\n",
        "print(best_model)\n"
      ]
    },
    {
      "cell_type": "markdown",
      "metadata": {
        "id": "eoEH56WtrGfl"
      },
      "source": [
        "En términos de reducir la cantidad de falsos positivos, notamos que el modelo que muestra un mejor rendimiento en este aspecto es el modelo 'Random Forest Classifier' con un Precision de 0.93 (métrica quemide qué proporción de las predicciones positivas hechas por el modelo son verdaderamente correctas). además de ser el modelo con mejor rendimiento en términos de velocidad (TT(sec) = 0.17), por lo que Decision Tree Classifier sería el modelo de árbol más adecuado.Además, es el cuarto modelo con mejor rendimiento en términos de velocidad (TT(sec) = 0.45), por lo que rf sería el modelo de árbol más adecuado.\n",
        "\n"
      ]
    },
    {
      "cell_type": "code",
      "execution_count": 81,
      "metadata": {
        "colab": {
          "base_uri": "https://localhost:8080/",
          "height": 834,
          "referenced_widgets": [
            "d6f7f15508494f9d98f57bb974ca90f3",
            "e7f4dde7e05d49e7a2bdc49e07142357",
            "ac39864e15f8418085265c55a7a8ffa5",
            "4aa538ce8c2a40d99e147c86143b488c",
            "8af7c6a599b940dcafe0458da1227eba",
            "997ded220bfa48e98847b588201f2f86",
            "71fd19624b5840ca85bf209a1e88eb7b",
            "65ea5c0a84154d59bb85bf3ab06ca271",
            "9d29544edf0c4a2ab63b282e3cb21dc1",
            "4b985ff603904997869ddb3fecbad927",
            "218db11fdef349b6a5a8b691fdbb62a3"
          ]
        },
        "id": "YafqrYYerGfl",
        "outputId": "3c4eea91-ddad-44ef-b275-d7e7967d9887"
      },
      "outputs": [
        {
          "output_type": "display_data",
          "data": {
            "text/plain": [
              "<IPython.core.display.HTML object>"
            ],
            "text/html": []
          },
          "metadata": {}
        },
        {
          "output_type": "display_data",
          "data": {
            "text/plain": [
              "<pandas.io.formats.style.Styler at 0x7da476d0c1c0>"
            ],
            "text/html": [
              "<style type=\"text/css\">\n",
              "#T_a4aca_row5_col0, #T_a4aca_row5_col1, #T_a4aca_row5_col2, #T_a4aca_row5_col3, #T_a4aca_row5_col4, #T_a4aca_row5_col5, #T_a4aca_row5_col6 {\n",
              "  background: yellow;\n",
              "}\n",
              "</style>\n",
              "<table id=\"T_a4aca\" class=\"dataframe\">\n",
              "  <thead>\n",
              "    <tr>\n",
              "      <th class=\"blank level0\" >&nbsp;</th>\n",
              "      <th id=\"T_a4aca_level0_col0\" class=\"col_heading level0 col0\" >Accuracy</th>\n",
              "      <th id=\"T_a4aca_level0_col1\" class=\"col_heading level0 col1\" >AUC</th>\n",
              "      <th id=\"T_a4aca_level0_col2\" class=\"col_heading level0 col2\" >Recall</th>\n",
              "      <th id=\"T_a4aca_level0_col3\" class=\"col_heading level0 col3\" >Prec.</th>\n",
              "      <th id=\"T_a4aca_level0_col4\" class=\"col_heading level0 col4\" >F1</th>\n",
              "      <th id=\"T_a4aca_level0_col5\" class=\"col_heading level0 col5\" >Kappa</th>\n",
              "      <th id=\"T_a4aca_level0_col6\" class=\"col_heading level0 col6\" >MCC</th>\n",
              "    </tr>\n",
              "    <tr>\n",
              "      <th class=\"index_name level0\" >Fold</th>\n",
              "      <th class=\"blank col0\" >&nbsp;</th>\n",
              "      <th class=\"blank col1\" >&nbsp;</th>\n",
              "      <th class=\"blank col2\" >&nbsp;</th>\n",
              "      <th class=\"blank col3\" >&nbsp;</th>\n",
              "      <th class=\"blank col4\" >&nbsp;</th>\n",
              "      <th class=\"blank col5\" >&nbsp;</th>\n",
              "      <th class=\"blank col6\" >&nbsp;</th>\n",
              "    </tr>\n",
              "  </thead>\n",
              "  <tbody>\n",
              "    <tr>\n",
              "      <th id=\"T_a4aca_level0_row0\" class=\"row_heading level0 row0\" >0</th>\n",
              "      <td id=\"T_a4aca_row0_col0\" class=\"data row0 col0\" >0.9415</td>\n",
              "      <td id=\"T_a4aca_row0_col1\" class=\"data row0 col1\" >0.9399</td>\n",
              "      <td id=\"T_a4aca_row0_col2\" class=\"data row0 col2\" >0.0662</td>\n",
              "      <td id=\"T_a4aca_row0_col3\" class=\"data row0 col3\" >0.7692</td>\n",
              "      <td id=\"T_a4aca_row0_col4\" class=\"data row0 col4\" >0.1220</td>\n",
              "      <td id=\"T_a4aca_row0_col5\" class=\"data row0 col5\" >0.1133</td>\n",
              "      <td id=\"T_a4aca_row0_col6\" class=\"data row0 col6\" >0.2150</td>\n",
              "    </tr>\n",
              "    <tr>\n",
              "      <th id=\"T_a4aca_level0_row1\" class=\"row_heading level0 row1\" >1</th>\n",
              "      <td id=\"T_a4aca_row1_col0\" class=\"data row1 col0\" >0.9431</td>\n",
              "      <td id=\"T_a4aca_row1_col1\" class=\"data row1 col1\" >0.9284</td>\n",
              "      <td id=\"T_a4aca_row1_col2\" class=\"data row1 col2\" >0.0861</td>\n",
              "      <td id=\"T_a4aca_row1_col3\" class=\"data row1 col3\" >0.8667</td>\n",
              "      <td id=\"T_a4aca_row1_col4\" class=\"data row1 col4\" >0.1566</td>\n",
              "      <td id=\"T_a4aca_row1_col5\" class=\"data row1 col5\" >0.1472</td>\n",
              "      <td id=\"T_a4aca_row1_col6\" class=\"data row1 col6\" >0.2628</td>\n",
              "    </tr>\n",
              "    <tr>\n",
              "      <th id=\"T_a4aca_level0_row2\" class=\"row_heading level0 row2\" >2</th>\n",
              "      <td id=\"T_a4aca_row2_col0\" class=\"data row2 col0\" >0.9448</td>\n",
              "      <td id=\"T_a4aca_row2_col1\" class=\"data row2 col1\" >0.9482</td>\n",
              "      <td id=\"T_a4aca_row2_col2\" class=\"data row2 col2\" >0.1133</td>\n",
              "      <td id=\"T_a4aca_row2_col3\" class=\"data row2 col3\" >0.8500</td>\n",
              "      <td id=\"T_a4aca_row2_col4\" class=\"data row2 col4\" >0.2000</td>\n",
              "      <td id=\"T_a4aca_row2_col5\" class=\"data row2 col5\" >0.1884</td>\n",
              "      <td id=\"T_a4aca_row2_col6\" class=\"data row2 col6\" >0.2985</td>\n",
              "    </tr>\n",
              "    <tr>\n",
              "      <th id=\"T_a4aca_level0_row3\" class=\"row_heading level0 row3\" >3</th>\n",
              "      <td id=\"T_a4aca_row3_col0\" class=\"data row3 col0\" >0.9444</td>\n",
              "      <td id=\"T_a4aca_row3_col1\" class=\"data row3 col1\" >0.9510</td>\n",
              "      <td id=\"T_a4aca_row3_col2\" class=\"data row3 col2\" >0.0867</td>\n",
              "      <td id=\"T_a4aca_row3_col3\" class=\"data row3 col3\" >1.0000</td>\n",
              "      <td id=\"T_a4aca_row3_col4\" class=\"data row3 col4\" >0.1595</td>\n",
              "      <td id=\"T_a4aca_row3_col5\" class=\"data row3 col5\" >0.1513</td>\n",
              "      <td id=\"T_a4aca_row3_col6\" class=\"data row3 col6\" >0.2860</td>\n",
              "    </tr>\n",
              "    <tr>\n",
              "      <th id=\"T_a4aca_level0_row4\" class=\"row_heading level0 row4\" >4</th>\n",
              "      <td id=\"T_a4aca_row4_col0\" class=\"data row4 col0\" >0.9468</td>\n",
              "      <td id=\"T_a4aca_row4_col1\" class=\"data row4 col1\" >0.9252</td>\n",
              "      <td id=\"T_a4aca_row4_col2\" class=\"data row4 col2\" >0.1333</td>\n",
              "      <td id=\"T_a4aca_row4_col3\" class=\"data row4 col3\" >0.9524</td>\n",
              "      <td id=\"T_a4aca_row4_col4\" class=\"data row4 col4\" >0.2339</td>\n",
              "      <td id=\"T_a4aca_row4_col5\" class=\"data row4 col5\" >0.2223</td>\n",
              "      <td id=\"T_a4aca_row4_col6\" class=\"data row4 col6\" >0.3457</td>\n",
              "    </tr>\n",
              "    <tr>\n",
              "      <th id=\"T_a4aca_level0_row5\" class=\"row_heading level0 row5\" >Mean</th>\n",
              "      <td id=\"T_a4aca_row5_col0\" class=\"data row5 col0\" >0.9441</td>\n",
              "      <td id=\"T_a4aca_row5_col1\" class=\"data row5 col1\" >0.9385</td>\n",
              "      <td id=\"T_a4aca_row5_col2\" class=\"data row5 col2\" >0.0971</td>\n",
              "      <td id=\"T_a4aca_row5_col3\" class=\"data row5 col3\" >0.8877</td>\n",
              "      <td id=\"T_a4aca_row5_col4\" class=\"data row5 col4\" >0.1744</td>\n",
              "      <td id=\"T_a4aca_row5_col5\" class=\"data row5 col5\" >0.1645</td>\n",
              "      <td id=\"T_a4aca_row5_col6\" class=\"data row5 col6\" >0.2816</td>\n",
              "    </tr>\n",
              "    <tr>\n",
              "      <th id=\"T_a4aca_level0_row6\" class=\"row_heading level0 row6\" >Std</th>\n",
              "      <td id=\"T_a4aca_row6_col0\" class=\"data row6 col0\" >0.0017</td>\n",
              "      <td id=\"T_a4aca_row6_col1\" class=\"data row6 col1\" >0.0103</td>\n",
              "      <td id=\"T_a4aca_row6_col2\" class=\"data row6 col2\" >0.0235</td>\n",
              "      <td id=\"T_a4aca_row6_col3\" class=\"data row6 col3\" >0.0809</td>\n",
              "      <td id=\"T_a4aca_row6_col4\" class=\"data row6 col4\" >0.0387</td>\n",
              "      <td id=\"T_a4aca_row6_col5\" class=\"data row6 col5\" >0.0374</td>\n",
              "      <td id=\"T_a4aca_row6_col6\" class=\"data row6 col6\" >0.0429</td>\n",
              "    </tr>\n",
              "  </tbody>\n",
              "</table>\n"
            ]
          },
          "metadata": {}
        },
        {
          "output_type": "display_data",
          "data": {
            "text/plain": [
              "Processing:   0%|          | 0/4 [00:00<?, ?it/s]"
            ],
            "application/vnd.jupyter.widget-view+json": {
              "version_major": 2,
              "version_minor": 0,
              "model_id": "d6f7f15508494f9d98f57bb974ca90f3"
            }
          },
          "metadata": {
            "application/vnd.jupyter.widget-view+json": {
              "colab": {
                "custom_widget_manager": {
                  "url": "https://ssl.gstatic.com/colaboratory-static/widgets/colab-cdn-widget-manager/2b70e893a8ba7c0f/manager.min.js"
                }
              }
            }
          }
        },
        {
          "output_type": "display_data",
          "data": {
            "text/plain": [
              "<IPython.core.display.HTML object>"
            ],
            "text/html": []
          },
          "metadata": {}
        },
        {
          "output_type": "display_data",
          "data": {
            "text/plain": [
              "<IPython.core.display.HTML object>"
            ],
            "text/html": []
          },
          "metadata": {}
        },
        {
          "output_type": "display_data",
          "data": {
            "text/plain": [
              "<Figure size 800x550 with 1 Axes>"
            ],
            "image/png": "[encoded data removed]"
          },
          "metadata": {}
        }
      ],
      "source": [
        "rf = create_model('rf')\n",
        "plot_model(rf, plot='confusion_matrix')\n"
      ]
    },
    {
      "cell_type": "markdown",
      "metadata": {
        "id": "3OImWfgfrGfl"
      },
      "source": [
        "Al observar la matriz, vemos que la cantidad de verdadeos negativos es la cantidad predicha más alta de todas, lo cual indica la eficiencia del modelo a la hora de reducir los falsos positivos, sin embargo, notamos que con respecto a los verdaderos positivos, el modelo no es tan eficiente ya que existen muchos más falsos negativos que verdaderos positivos."
      ]
    },
    {
      "cell_type": "code",
      "execution_count": 82,
      "metadata": {
        "colab": {
          "base_uri": "https://localhost:8080/",
          "height": 524
        },
        "id": "hGSHCPOwrGfl",
        "outputId": "c531778f-424a-46f9-f3d9-49b50501dee8"
      },
      "outputs": [
        {
          "output_type": "display_data",
          "data": {
            "text/plain": [
              "<IPython.core.display.HTML object>"
            ],
            "text/html": []
          },
          "metadata": {}
        },
        {
          "output_type": "display_data",
          "data": {
            "text/plain": [
              "<Figure size 800x550 with 1 Axes>"
            ],
            "image/png": "[encoded data removed]"
          },
          "metadata": {}
        }
      ],
      "source": [
        "plot_model(rf, plot='threshold')\n"
      ]
    },
    {
      "cell_type": "markdown",
      "metadata": {
        "id": "o8rLVG05rGfm"
      },
      "source": [
        "Notamos que el umbral por defecto muestra buenos resultados con respecto a las métricas del modelo rf."
      ]
    },
    {
      "cell_type": "code",
      "execution_count": 83,
      "metadata": {
        "colab": {
          "base_uri": "https://localhost:8080/",
          "height": 485
        },
        "id": "ROpaA4GMrGfm",
        "outputId": "adb50ba2-ba79-40a6-e80f-8b25f8c6d2b8"
      },
      "outputs": [
        {
          "output_type": "display_data",
          "data": {
            "text/plain": [
              "<IPython.core.display.HTML object>"
            ],
            "text/html": []
          },
          "metadata": {}
        },
        {
          "output_type": "display_data",
          "data": {
            "text/plain": [
              "<Figure size 800x500 with 1 Axes>"
            ],
            "image/png": "[encoded data removed]"
          },
          "metadata": {}
        }
      ],
      "source": [
        "plot_model(rf, plot='feature')\n"
      ]
    },
    {
      "cell_type": "markdown",
      "metadata": {
        "id": "PQ37Y2LCrGfm"
      },
      "source": [
        "Notamos que las variables 'Name', 'National_Position' y 'Nationality' son las variables que el modelo a tomado para tomar decisiones.\n",
        "Con respecto a la variable 'Name' debemos de tener cuidado ya que al no estar transformada en un identificador, el modelo podría estar aprendiendo patrones erroneos en los nombres.Por otro lado, tanto 'National_Position' como 'Nationality' son variables que en este contexto tienen un fuerte poder predictivo, ya que el este deporte, la posición y la nacionalidad pueden ser indicativos de estilo de juego, formación recibida,etc."
      ]
    },
    {
      "cell_type": "code",
      "execution_count": 84,
      "metadata": {
        "colab": {
          "base_uri": "https://localhost:8080/",
          "height": 524
        },
        "id": "u_BLVL5wrGfm",
        "outputId": "e40a7ff9-b8d9-42e3-fb28-8cc5c923224f"
      },
      "outputs": [
        {
          "output_type": "display_data",
          "data": {
            "text/plain": [
              "<IPython.core.display.HTML object>"
            ],
            "text/html": []
          },
          "metadata": {}
        },
        {
          "output_type": "display_data",
          "data": {
            "text/plain": [
              "<Figure size 800x550 with 1 Axes>"
            ],
            "image/png": "[encoded data removed]"
          },
          "metadata": {}
        }
      ],
      "source": [
        "plot_model(rf, plot='learning')\n"
      ]
    },
    {
      "cell_type": "markdown",
      "metadata": {
        "id": "vOdmbOA3rGfm"
      },
      "source": [
        "Al visualizar la curva de aprendizaje notamos que, a medida que aumentas la cantidad de datos utilizados, se obtienen mejores resultados en el conjunto de testeo, sin embargo, notamos que las curvas no tienden al mismo punto (considerar que las visualizaciones cambian cada vez que se corre el código nuevamente),la curva de rendimiento del cross validation se queda por debajo de la curva de training, esto significa que el modelo no esta siendo capaz de ajustarse y predecir correctamente la totalidad de los registros para testing, esto se debe a un claro desbalance de clases, donde ya vimos que la proporción de la clase positiva respecto a clase negativa es de 0.065.Sin ambargo, la diferencia es mínima entre la curva de training y de test, por lo que podemos decir, que si bien, el rendimiento en testing no es perfecto, si es bastante aceptable"
      ]
    },
    {
      "cell_type": "markdown",
      "metadata": {
        "id": "K8DSS3u1xMpB"
      },
      "source": [
        "### 2.2 Reducción de dimensionalidad [14 puntos]"
      ]
    },
    {
      "cell_type": "markdown",
      "metadata": {
        "id": "RLu0543p876P"
      },
      "source": [
        "<center>\n",
        "<img src='https://i.kym-cdn.com/photos/images/original/002/258/560/668.gif' width=400 />"
      ]
    },
    {
      "cell_type": "markdown",
      "metadata": {
        "id": "QT-bxJ0txwNF"
      },
      "source": [
        "A pesar de los resultados obtenidos previamente, el manager de Jere ha solicitado el entrenamiento de un modelo de XGBoost utilizando los datos disponibles. Además, se debe proceder a realizar una reducción de dimensionalidad basada en la importancia de las características.\n",
        "\n",
        "Para llevar a cabo esta tarea:\n",
        "\n",
        "1. Inicie entrenando un modelo XGBoost con todas las características disponibles. [2 puntos]\n",
        "\n",
        "2. Una vez el modelo esté entrenado, evalúe y clasifique las características según su importancia de forma descendente. [2 puntos]\n",
        "\n",
        "3. Utilice esta clasificación para ejecutar una búsqueda recursiva de eliminación de características, eliminando progresivamente las menos importantes y evaluando el impacto en el desempeño del modelo hasta identificar las N características más críticas. [2 puntos]\n",
        "\n",
        "4. Con este conjunto reducido de características, entrene un nuevo modelo y evalúe su rendimiento. [2 puntos]\n",
        "\n",
        "5. Posteriormente, responda a las siguientes preguntas para una comprensión más profunda de los cambios y beneficios:\n",
        "\n",
        "  - ¿El rendimiento del modelo con las características seleccionadas es similar al del modelo original? ¿Cómo se comparan en términos de precisión y robustez? [2 puntos]\n",
        "  - ¿Cuáles son los beneficios potenciales de eliminar variables del modelo? Considere factores como la simplificación del modelo, reducción del tiempo de entrenamiento, y mejora en la capacidad de generalización. [2 puntos]\n",
        "  - Comente si el modelo con menor dimensionalidad es más sencillo de explicar. Explique brevemente por qué la eliminación de ciertas características puede facilitar la comprensión y la explicación del comportamiento del modelo. [2 puntos]\n",
        "\n",
        "Notar que con esta metodologia buscamos encontrar un punto entermedio entre número de festures y desempeño. por esto, si observa que al aumentar festires el aumento es despreciable, puede no considerar agregar más features a su modelo."
      ]
    },
    {
      "cell_type": "markdown",
      "metadata": {
        "id": "NHfmK63TuDOS"
      },
      "source": [
        "**Respuesta**"
      ]
    },
    {
      "cell_type": "code",
      "source": [
        "feature_importances = xgb_model.feature_importances_\n",
        "\n",
        "# Mostrar el ranking de las características más importantes\n",
        "print(feature_importances)"
      ],
      "metadata": {
        "colab": {
          "base_uri": "https://localhost:8080/"
        },
        "id": "1MPbxLa6I31R",
        "outputId": "6a335abc-4106-4e78-d966-9ea0e23d2b8d"
      },
      "execution_count": 85,
      "outputs": [
        {
          "output_type": "stream",
          "name": "stdout",
          "text": [
            "[0.         0.         0.00382552 0.         0.         0.01594102\n",
            " 0.         0.         0.00832953 0.00287963 0.         0.\n",
            " 0.         0.00357068 0.         0.         0.         0.02513966\n",
            " 0.00375503 0.01987886 0.02164631 0.         0.01325148 0.01874956\n",
            " 0.         0.         0.         0.01713002 0.02770719 0.\n",
            " 0.00681685 0.         0.         0.00193031 0.00661182 0.\n",
            " 0.         0.         0.02014684 0.00334    0.00695788 0.\n",
            " 0.01895777 0.02814121 0.         0.01376006 0.         0.\n",
            " 0.         0.         0.         0.0159015  0.01297322 0.\n",
            " 0.         0.         0.01250627 0.00564821 0.         0.01724606\n",
            " 0.         0.         0.         0.00211151 0.         0.\n",
            " 0.         0.         0.01924414 0.00240866 0.02629889 0.\n",
            " 0.         0.         0.0128678  0.02157273 0.         0.01000178\n",
            " 0.         0.         0.         0.00626447 0.         0.\n",
            " 0.         0.         0.         0.         0.         0.\n",
            " 0.         0.         0.         0.00182482 0.         0.\n",
            " 0.         0.00329139 0.         0.         0.         0.00425134\n",
            " 0.         0.00401444 0.         0.         0.00473289 0.01368894\n",
            " 0.00782615 0.         0.         0.         0.         0.\n",
            " 0.01630896 0.02439624 0.         0.00250407 0.00489362 0.\n",
            " 0.         0.00785451 0.01498441 0.00381781 0.         0.00614667\n",
            " 0.00982258 0.00648062 0.00718206 0.         0.00269149 0.01807247\n",
            " 0.         0.02109695 0.01398888 0.         0.         0.\n",
            " 0.         0.01200097 0.         0.         0.         0.\n",
            " 0.         0.         0.         0.00421338 0.         0.00340085\n",
            " 0.00392    0.00196388 0.         0.02138067 0.01371787 0.\n",
            " 0.         0.         0.         0.         0.         0.\n",
            " 0.00133458 0.         0.00071305 0.         0.         0.0028123\n",
            " 0.         0.00343236 0.         0.         0.00374627 0.\n",
            " 0.00182146 0.00220331 0.00330754 0.         0.         0.\n",
            " 0.         0.00442701 0.         0.01436101 0.00470552 0.01451791\n",
            " 0.00257046 0.         0.0033451  0.         0.00254809 0.\n",
            " 0.         0.         0.00058191 0.00331874 0.00067371 0.00397256\n",
            " 0.00544323 0.00733177 0.00478769 0.00368324 0.00544445 0.00927232\n",
            " 0.0068274  0.00742963 0.00877676 0.00491903 0.03579819 0.00490521\n",
            " 0.00552584 0.01268559 0.00588464 0.00706971 0.00413453 0.00594103\n",
            " 0.00646086 0.00775722 0.00579902 0.0025889  0.00381203 0.00373495\n",
            " 0.00587515 0.00561873 0.00492116 0.00415829 0.00446538 0.00360695\n",
            " 0.00302537 0.00394131]\n"
          ]
        }
      ]
    },
    {
      "cell_type": "code",
      "source": [
        "# RFE para eliminación recursiva de características\n",
        "rfe = RFE(estimator=xgb_model, n_features_to_select=13, step=1)\n",
        "pipeline_rfe = Pipeline([\n",
        "    ('Column_Transformer', col_transformer),\n",
        "    ('RFE', rfe),\n",
        "    ('xgb_classifier', xgb_model)\n",
        "])\n",
        "\n",
        "# Entrenar con eliminación de características\n",
        "pipeline_rfe.fit(X_train, y_train)\n",
        "\n",
        "# Predicción y evaluación\n",
        "y_pred_rfe = pipeline_rfe.predict(X_test)\n",
        "print(classification_report(y_test, y_pred_rfe))\n",
        "\n",
        "# Importancia de características\n",
        "importances = xgb_model.feature_importances_"
      ],
      "metadata": {
        "collapsed": true,
        "id": "ZlTfhQhND1Pc"
      },
      "execution_count": 86,
      "outputs": []
    },
    {
      "cell_type": "code",
      "source": [
        "# RFE para eliminación recursiva de características\n",
        "rfe = RFE(estimator=xgb_model, n_features_to_select=14, step=1)\n",
        "pipeline_rfe = Pipeline([\n",
        "    ('Column_Transformer', col_transformer),\n",
        "    ('RFE', rfe),\n",
        "    ('xgb_classifier', xgb_model)\n",
        "])\n",
        "\n",
        "# Entrenar con eliminación de características\n",
        "pipeline_rfe.fit(X_train, y_train)\n",
        "\n",
        "# Predicción y evaluación\n",
        "y_pred_rfe = pipeline_rfe.predict(X_test)\n",
        "print(classification_report(y_test, y_pred_rfe))\n",
        "\n",
        "# Importancia de características\n",
        "importances = xgb_model.feature_importances_"
      ],
      "metadata": {
        "collapsed": true,
        "id": "hX9vpXdZD2Cj"
      },
      "execution_count": 87,
      "outputs": []
    },
    {
      "cell_type": "code",
      "source": [
        "# RFE para eliminación recursiva de características\n",
        "rfe = RFE(estimator=xgb_model, n_features_to_select=15, step=1)\n",
        "pipeline_rfe = Pipeline([\n",
        "    ('Column_Transformer', col_transformer),\n",
        "    ('RFE', rfe),\n",
        "    ('xgb_classifier', xgb_model)\n",
        "])\n",
        "\n",
        "# Entrenar con eliminación de características\n",
        "pipeline_rfe.fit(X_train, y_train)\n",
        "\n",
        "# Predicción y evaluación\n",
        "y_pred_rfe = pipeline_rfe.predict(X_test)\n",
        "print(classification_report(y_test, y_pred_rfe))\n",
        "\n",
        "# Importancia de características\n",
        "importances = xgb_model.feature_importances_"
      ],
      "metadata": {
        "colab": {
          "base_uri": "https://localhost:8080/"
        },
        "collapsed": true,
        "id": "FdpwA2IOBjp0",
        "outputId": "c7f68905-5549-4c7d-c7eb-1ed9990b4c75"
      },
      "execution_count": 88,
      "outputs": [
        {
          "output_type": "stream",
          "name": "stdout",
          "text": [
            "              precision    recall  f1-score   support\n",
            "\n",
            "           0       0.95      0.99      0.97      3303\n",
            "           1       0.52      0.13      0.21       215\n",
            "\n",
            "    accuracy                           0.94      3518\n",
            "   macro avg       0.73      0.56      0.59      3518\n",
            "weighted avg       0.92      0.94      0.92      3518\n",
            "\n"
          ]
        }
      ]
    },
    {
      "cell_type": "markdown",
      "source": [
        "***5***\n",
        "\n",
        "- Luego de iterar varias veces el algorirtmo de selección de características y evaluar el rendimiento del modelo con las vasriables seleccionadas, notamos que a partir de las 14 variables más importantes seleccionadas, el rendimiento del modelo se 'estanca' y no mejora al agregar más variables.\n",
        "\n",
        "Además este numero de variables calza con el número de variables rescatadas de feature_importances_ que corresponde al ranking de las variables más importantes.\n",
        "\n",
        "En comparación con el modelo entrenado con todas las características disponibles, el modelo reducido posee un peor rendimiento en términos de precisión y robustez, sobre todo para predecir la clase positiva. Esto se logra deducir debido a la menor precision y recall para la clase positiva lo que se traduce en una menor robustez del modelo.\n",
        "\n",
        "Decidimos analizar el modelo con 14 variables debido a que existe un notable desbalance de clases, por lo que al pasar, por ejemplo, de 13 a 14 variables, aunque la mejora de rendimiento es pequeña en algunas métricas de desempeño, la consideramos relevante debido al desbalance de clases.\n",
        "\n",
        "- Por otro lado, reducir el número de variables hace que el modelo sea más simple, lo cual facilita su entrenamiento, interpretación y comprensión.\n",
        "\n",
        "- Con respecto al tiempo de entrenamiento, tener menos variables implica realizar menos cálculos y, por lo tanto, el modelo se entrena más rápido, especialmente en algoritmos como XGBoost, que realizan operaciones repetitivas en los datos.\n",
        "\n",
        "- También sabemos que menos variables pueden ayudar a evitar el overfitting, ya que al reducir el número de variables, el modelo se enfoca en las características más relevantes y es más probable que generalice mejor cuando se enfrenta a datos nuevos.\n",
        "\n",
        "- Otro beneficio que tiene el eliminar variables, es que algunas características pueden estar generando ruido, es decir, información irrelevante que perjudica el desempeño del modelo.\n",
        "\n",
        "Finalmente también sabemos que un modelo con menor dimensionalidad es más sencillo de explicar, ya que tenemos más control sobre aquellas variables que están influyendo en las predicciones del modelo y podemos deshacernos de aquellas variables que pueden ser poco intuitivas y que dificultan la interpretación de los resultados del modelo.\n",
        "\n"
      ],
      "metadata": {
        "id": "D6FYy_bhGTXl"
      }
    },
    {
      "cell_type": "markdown",
      "metadata": {
        "id": "PTG5cH9r3M9g"
      },
      "source": [
        "### 2.3 Calibración Probabilistica [6 puntos]"
      ]
    },
    {
      "cell_type": "markdown",
      "metadata": {
        "id": "CDL0VqjR7yvb"
      },
      "source": [
        "<center>\n",
        "<img src='https://media2.giphy.com/media/l2Je4Ku0Cx292KWv6/200w.gif?cid=6c09b952y0sihtq9tb6sz8j2023x3zxxp3qx1ocgonkpkblj&ep=v1_gifs_search&rid=200w.gif&ct=g' width=400 />"
      ]
    },
    {
      "cell_type": "markdown",
      "metadata": {
        "id": "qmOKxhAw3sic"
      },
      "source": [
        "Para lograr modelos más modulares, se recomienda realizar una calibración del modelo entrenado anteriormente, con el objetivo de obtener salidas que reflejen mayor modularidad.\n",
        "\n",
        "1. Se solicita que utilice un método de calibración que asegure que las probabilidades generadas incrementen de manera monótona. Una métrica ampliamente utilizada para evaluar la precisión de la calibración de un modelo es el Brier Score. Calcule el Brier Score para el modelo tanto antes como después de la calibración. Esto le permitirá realizar una comparación cuantitativa y determinar si la calibración ha mejorado el rendimiento del modelo. Para más información sobre el Brier Score, puede consultar el siguiente enlace: [Scikit-Learn - Brier Score Loss](https://scikit-learn.org/stable/modules/generated/sklearn.metrics.brier_score_loss.html). [3 puntos]\n",
        "\n",
        "2. Tras la calibración, examine y comente los resultados obtenidos. A su análisis añada una comparación visual de las ideales versus las salidas del modelo original (sin calibrar) y del modelo calibrado. [3 puntos]"
      ]
    },
    {
      "cell_type": "markdown",
      "metadata": {
        "id": "QIiYz_qLuD19"
      },
      "source": [
        "**Respuesta**"
      ]
    },
    {
      "cell_type": "code",
      "source": [
        "from sklearn.calibration import CalibratedClassifierCV\n",
        "from sklearn.metrics import brier_score_loss, classification_report\n",
        "\n",
        "# RFE para eliminación de características\n",
        "rfe = RFE(estimator=xgb_model, n_features_to_select=15, step=1)\n",
        "\n",
        "# Pipeline de preprocesamiento, selección de características y modelo XGBoost\n",
        "pipeline_rfe = Pipeline([\n",
        "    ('Column_Transformer', col_transformer),\n",
        "    ('RFE', rfe),\n",
        "    ('xgb_classifier', xgb_model)\n",
        "])\n",
        "\n",
        "# Entrenamos el pipeline sin calibración\n",
        "pipeline_rfe.fit(X_train, y_train)\n",
        "\n",
        "# Transformamos los datos de entrenamiento y prueba con el pipeline\n",
        "X_train_transformed = pipeline_rfe.named_steps['Column_Transformer'].transform(X_train)\n",
        "X_test_transformed = pipeline_rfe.named_steps['Column_Transformer'].transform(X_test)\n",
        "\n",
        "# Aplicamos RFE a los datos transformados\n",
        "X_train_selected = pipeline_rfe.named_steps['RFE'].transform(X_train_transformed)\n",
        "X_test_selected = pipeline_rfe.named_steps['RFE'].transform(X_test_transformed)\n",
        "\n",
        "# Hacemos predicciones sin calibrar\n",
        "y_pred_prob = pipeline_rfe.predict_proba(X_test)[:, 1]\n",
        "y_pred = pipeline_rfe.predict(X_test)\n",
        "\n",
        "# Calculamos el Brier Score sin calibrar\n",
        "brier_score_antes = brier_score_loss(y_test, y_pred_prob)\n",
        "\n",
        "# Calibramos el modelo con los datos transformados y seleccionados\n",
        "calibrated_model = CalibratedClassifierCV(estimator=pipeline_rfe.named_steps['xgb_classifier'], method='isotonic', cv='prefit')\n",
        "calibrated_model.fit(X_train_selected, y_train)\n",
        "\n",
        "# Hacemos predicciones sin calibrar\n",
        "\n",
        "\n",
        "# Calculamos el Brier Score sin calibrar\n",
        "\n",
        "\n",
        "# Hacemos predicciones calibradas\n",
        "y_pred_calib_prob = calibrated_model.predict_proba(X_test_selected)[:, 1]\n",
        "y_pred_calib = calibrated_model.predict(X_test_selected)\n",
        "\n",
        "# Calculamos el Brier Score después de la calibración\n",
        "brier_score_despues = brier_score_loss(y_test, y_pred_calib_prob)\n",
        "\n",
        "print(f\"Brier Score antes de la calibración: {brier_score_antes}\")\n",
        "print(f\"Brier Score después de la calibración: {brier_score_despues}\")\n",
        "print(\"\\nClasificación antes de la calibración:\\n\", classification_report(y_test, y_pred))\n",
        "print(\"\\nClasificación después de la calibración:\\n\", classification_report(y_test, y_pred_calib))\n",
        "\n",
        "# Comparación visual de probabilidades\n",
        "plt.figure(figsize=(10, 6))\n",
        "plt.hist(y_pred_prob, bins=50, alpha=0.5, label='Sin calibrar')\n",
        "plt.hist(y_pred_calib_prob, bins=50, alpha=0.5, label='Calibrado')\n",
        "plt.xlabel('Probabilidad Predicha')\n",
        "plt.ylabel('Frecuencia')\n",
        "plt.title('Comparación de Probabilidades - Sin Calibrar vs Calibrado')\n",
        "plt.legend()\n",
        "plt.show()\n"
      ],
      "metadata": {
        "colab": {
          "base_uri": "https://localhost:8080/",
          "height": 1000
        },
        "id": "rQz0U3dZkmgG",
        "outputId": "6f9ffc4d-8be1-4e9c-cf12-42193a90d5f9"
      },
      "execution_count": 91,
      "outputs": [
        {
          "output_type": "stream",
          "name": "stdout",
          "text": [
            "Brier Score antes de la calibración: 0.054040727890519204\n",
            "Brier Score después de la calibración: 0.054037959156021546\n",
            "\n",
            "Clasificación antes de la calibración:\n",
            "               precision    recall  f1-score   support\n",
            "\n",
            "           0       0.95      0.99      0.97      3303\n",
            "           1       0.52      0.13      0.21       215\n",
            "\n",
            "    accuracy                           0.94      3518\n",
            "   macro avg       0.73      0.56      0.59      3518\n",
            "weighted avg       0.92      0.94      0.92      3518\n",
            "\n",
            "\n",
            "Clasificación después de la calibración:\n",
            "               precision    recall  f1-score   support\n",
            "\n",
            "           0       0.95      0.99      0.97      3303\n",
            "           1       0.52      0.13      0.21       215\n",
            "\n",
            "    accuracy                           0.94      3518\n",
            "   macro avg       0.73      0.56      0.59      3518\n",
            "weighted avg       0.92      0.94      0.92      3518\n",
            "\n"
          ]
        },
        {
          "output_type": "display_data",
          "data": {
            "text/plain": [
              "<Figure size 1000x600 with 1 Axes>"
            ],
            "image/png": "[encoded data removed]"
          },
          "metadata": {}
        }
      ]
    },
    {
      "cell_type": "markdown",
      "source": [
        " El Brier Score Loss mide la diferencia media cuadrática entre la probabilidad prevista y el resultado real, luego, el rendimiento del modelo es mejor cuanto menor sea el Brier Score Loss.\n",
        " Al comparar esta métrica antes y después de la calibración vemos que no hay mejoras significativas, por lo que podemos decir que la calibración no afectó al rendimiento del modelo."
      ],
      "metadata": {
        "id": "6lPmKN-pnDdi"
      }
    }
  ],
  "metadata": {
    "colab": {
      "provenance": []
    },
    "kernelspec": {
      "display_name": "env",
      "language": "python",
      "name": "python3"
    },
    "language_info": {
      "codemirror_mode": {
        "name": "ipython",
        "version": 3
      },
      "file_extension": ".py",
      "mimetype": "text/x-python",
      "name": "python",
      "nbconvert_exporter": "python",
      "pygments_lexer": "ipython3",
      "version": "3.10.2"
    },
    "widgets": {
      "application/vnd.jupyter.widget-state+json": {
        "c41143cc13e54a319433dbc518385134": {
          "model_module": "@jupyter-widgets/controls",
          "model_name": "HBoxModel",
          "model_module_version": "1.5.0",
          "state": {
            "_dom_classes": [],
            "_model_module": "@jupyter-widgets/controls",
            "_model_module_version": "1.5.0",
            "_model_name": "HBoxModel",
            "_view_count": null,
            "_view_module": "@jupyter-widgets/controls",
            "_view_module_version": "1.5.0",
            "_view_name": "HBoxView",
            "box_style": "",
            "children": [
              "IPY_MODEL_986a3b9c921b475c9de021dcc347bbad",
              "IPY_MODEL_10d0c3ef516f481288f0ad4c1942b6f9",
              "IPY_MODEL_e50f0f4ae32448e19a00fb50c72cf346"
            ],
            "layout": "IPY_MODEL_13f406e45940455fab9377e619983e31"
          }
        },
        "986a3b9c921b475c9de021dcc347bbad": {
          "model_module": "@jupyter-widgets/controls",
          "model_name": "HTMLModel",
          "model_module_version": "1.5.0",
          "state": {
            "_dom_classes": [],
            "_model_module": "@jupyter-widgets/controls",
            "_model_module_version": "1.5.0",
            "_model_name": "HTMLModel",
            "_view_count": null,
            "_view_module": "@jupyter-widgets/controls",
            "_view_module_version": "1.5.0",
            "_view_name": "HTMLView",
            "description": "",
            "description_tooltip": null,
            "layout": "IPY_MODEL_a04bffe9a68b4b46a87b094dd7600aed",
            "placeholder": "​",
            "style": "IPY_MODEL_b8123cedf95e4b6088adcaec0719e99c",
            "value": "Processing: 100%"
          }
        },
        "10d0c3ef516f481288f0ad4c1942b6f9": {
          "model_module": "@jupyter-widgets/controls",
          "model_name": "FloatProgressModel",
          "model_module_version": "1.5.0",
          "state": {
            "_dom_classes": [],
            "_model_module": "@jupyter-widgets/controls",
            "_model_module_version": "1.5.0",
            "_model_name": "FloatProgressModel",
            "_view_count": null,
            "_view_module": "@jupyter-widgets/controls",
            "_view_module_version": "1.5.0",
            "_view_name": "ProgressView",
            "bar_style": "",
            "description": "",
            "description_tooltip": null,
            "layout": "IPY_MODEL_3e25d8cfbffd49acb3e0b13330bcfe09",
            "max": 29,
            "min": 0,
            "orientation": "horizontal",
            "style": "IPY_MODEL_fda72085d8b740dba5467f58f440abc7",
            "value": 29
          }
        },
        "e50f0f4ae32448e19a00fb50c72cf346": {
          "model_module": "@jupyter-widgets/controls",
          "model_name": "HTMLModel",
          "model_module_version": "1.5.0",
          "state": {
            "_dom_classes": [],
            "_model_module": "@jupyter-widgets/controls",
            "_model_module_version": "1.5.0",
            "_model_name": "HTMLModel",
            "_view_count": null,
            "_view_module": "@jupyter-widgets/controls",
            "_view_module_version": "1.5.0",
            "_view_name": "HTMLView",
            "description": "",
            "description_tooltip": null,
            "layout": "IPY_MODEL_a43b8219960b448cbb44b3cc7d971ccd",
            "placeholder": "​",
            "style": "IPY_MODEL_78f00d595c5a4de6976299dac49fa708",
            "value": " 29/29 [01:30&lt;00:00,  4.77s/it]"
          }
        },
        "13f406e45940455fab9377e619983e31": {
          "model_module": "@jupyter-widgets/base",
          "model_name": "LayoutModel",
          "model_module_version": "1.2.0",
          "state": {
            "_model_module": "@jupyter-widgets/base",
            "_model_module_version": "1.2.0",
            "_model_name": "LayoutModel",
            "_view_count": null,
            "_view_module": "@jupyter-widgets/base",
            "_view_module_version": "1.2.0",
            "_view_name": "LayoutView",
            "align_content": null,
            "align_items": null,
            "align_self": null,
            "border": null,
            "bottom": null,
            "display": null,
            "flex": null,
            "flex_flow": null,
            "grid_area": null,
            "grid_auto_columns": null,
            "grid_auto_flow": null,
            "grid_auto_rows": null,
            "grid_column": null,
            "grid_gap": null,
            "grid_row": null,
            "grid_template_areas": null,
            "grid_template_columns": null,
            "grid_template_rows": null,
            "height": null,
            "justify_content": null,
            "justify_items": null,
            "left": null,
            "margin": null,
            "max_height": null,
            "max_width": null,
            "min_height": null,
            "min_width": null,
            "object_fit": null,
            "object_position": null,
            "order": null,
            "overflow": null,
            "overflow_x": null,
            "overflow_y": null,
            "padding": null,
            "right": null,
            "top": null,
            "visibility": "hidden",
            "width": null
          }
        },
        "a04bffe9a68b4b46a87b094dd7600aed": {
          "model_module": "@jupyter-widgets/base",
          "model_name": "LayoutModel",
          "model_module_version": "1.2.0",
          "state": {
            "_model_module": "@jupyter-widgets/base",
            "_model_module_version": "1.2.0",
            "_model_name": "LayoutModel",
            "_view_count": null,
            "_view_module": "@jupyter-widgets/base",
            "_view_module_version": "1.2.0",
            "_view_name": "LayoutView",
            "align_content": null,
            "align_items": null,
            "align_self": null,
            "border": null,
            "bottom": null,
            "display": null,
            "flex": null,
            "flex_flow": null,
            "grid_area": null,
            "grid_auto_columns": null,
            "grid_auto_flow": null,
            "grid_auto_rows": null,
            "grid_column": null,
            "grid_gap": null,
            "grid_row": null,
            "grid_template_areas": null,
            "grid_template_columns": null,
            "grid_template_rows": null,
            "height": null,
            "justify_content": null,
            "justify_items": null,
            "left": null,
            "margin": null,
            "max_height": null,
            "max_width": null,
            "min_height": null,
            "min_width": null,
            "object_fit": null,
            "object_position": null,
            "order": null,
            "overflow": null,
            "overflow_x": null,
            "overflow_y": null,
            "padding": null,
            "right": null,
            "top": null,
            "visibility": null,
            "width": null
          }
        },
        "b8123cedf95e4b6088adcaec0719e99c": {
          "model_module": "@jupyter-widgets/controls",
          "model_name": "DescriptionStyleModel",
          "model_module_version": "1.5.0",
          "state": {
            "_model_module": "@jupyter-widgets/controls",
            "_model_module_version": "1.5.0",
            "_model_name": "DescriptionStyleModel",
            "_view_count": null,
            "_view_module": "@jupyter-widgets/base",
            "_view_module_version": "1.2.0",
            "_view_name": "StyleView",
            "description_width": ""
          }
        },
        "3e25d8cfbffd49acb3e0b13330bcfe09": {
          "model_module": "@jupyter-widgets/base",
          "model_name": "LayoutModel",
          "model_module_version": "1.2.0",
          "state": {
            "_model_module": "@jupyter-widgets/base",
            "_model_module_version": "1.2.0",
            "_model_name": "LayoutModel",
            "_view_count": null,
            "_view_module": "@jupyter-widgets/base",
            "_view_module_version": "1.2.0",
            "_view_name": "LayoutView",
            "align_content": null,
            "align_items": null,
            "align_self": null,
            "border": null,
            "bottom": null,
            "display": null,
            "flex": null,
            "flex_flow": null,
            "grid_area": null,
            "grid_auto_columns": null,
            "grid_auto_flow": null,
            "grid_auto_rows": null,
            "grid_column": null,
            "grid_gap": null,
            "grid_row": null,
            "grid_template_areas": null,
            "grid_template_columns": null,
            "grid_template_rows": null,
            "height": null,
            "justify_content": null,
            "justify_items": null,
            "left": null,
            "margin": null,
            "max_height": null,
            "max_width": null,
            "min_height": null,
            "min_width": null,
            "object_fit": null,
            "object_position": null,
            "order": null,
            "overflow": null,
            "overflow_x": null,
            "overflow_y": null,
            "padding": null,
            "right": null,
            "top": null,
            "visibility": null,
            "width": null
          }
        },
        "fda72085d8b740dba5467f58f440abc7": {
          "model_module": "@jupyter-widgets/controls",
          "model_name": "ProgressStyleModel",
          "model_module_version": "1.5.0",
          "state": {
            "_model_module": "@jupyter-widgets/controls",
            "_model_module_version": "1.5.0",
            "_model_name": "ProgressStyleModel",
            "_view_count": null,
            "_view_module": "@jupyter-widgets/base",
            "_view_module_version": "1.2.0",
            "_view_name": "StyleView",
            "bar_color": null,
            "description_width": ""
          }
        },
        "a43b8219960b448cbb44b3cc7d971ccd": {
          "model_module": "@jupyter-widgets/base",
          "model_name": "LayoutModel",
          "model_module_version": "1.2.0",
          "state": {
            "_model_module": "@jupyter-widgets/base",
            "_model_module_version": "1.2.0",
            "_model_name": "LayoutModel",
            "_view_count": null,
            "_view_module": "@jupyter-widgets/base",
            "_view_module_version": "1.2.0",
            "_view_name": "LayoutView",
            "align_content": null,
            "align_items": null,
            "align_self": null,
            "border": null,
            "bottom": null,
            "display": null,
            "flex": null,
            "flex_flow": null,
            "grid_area": null,
            "grid_auto_columns": null,
            "grid_auto_flow": null,
            "grid_auto_rows": null,
            "grid_column": null,
            "grid_gap": null,
            "grid_row": null,
            "grid_template_areas": null,
            "grid_template_columns": null,
            "grid_template_rows": null,
            "height": null,
            "justify_content": null,
            "justify_items": null,
            "left": null,
            "margin": null,
            "max_height": null,
            "max_width": null,
            "min_height": null,
            "min_width": null,
            "object_fit": null,
            "object_position": null,
            "order": null,
            "overflow": null,
            "overflow_x": null,
            "overflow_y": null,
            "padding": null,
            "right": null,
            "top": null,
            "visibility": null,
            "width": null
          }
        },
        "78f00d595c5a4de6976299dac49fa708": {
          "model_module": "@jupyter-widgets/controls",
          "model_name": "DescriptionStyleModel",
          "model_module_version": "1.5.0",
          "state": {
            "_model_module": "@jupyter-widgets/controls",
            "_model_module_version": "1.5.0",
            "_model_name": "DescriptionStyleModel",
            "_view_count": null,
            "_view_module": "@jupyter-widgets/base",
            "_view_module_version": "1.2.0",
            "_view_name": "StyleView",
            "description_width": ""
          }
        },
        "5fdb40774eac48359c4e3e0ca173126f": {
          "model_module": "@jupyter-widgets/base",
          "model_name": "LayoutModel",
          "model_module_version": "1.2.0",
          "state": {
            "_model_module": "@jupyter-widgets/base",
            "_model_module_version": "1.2.0",
            "_model_name": "LayoutModel",
            "_view_count": null,
            "_view_module": "@jupyter-widgets/base",
            "_view_module_version": "1.2.0",
            "_view_name": "LayoutView",
            "align_content": null,
            "align_items": null,
            "align_self": null,
            "border": null,
            "bottom": null,
            "display": null,
            "flex": null,
            "flex_flow": null,
            "grid_area": null,
            "grid_auto_columns": null,
            "grid_auto_flow": null,
            "grid_auto_rows": null,
            "grid_column": null,
            "grid_gap": null,
            "grid_row": null,
            "grid_template_areas": null,
            "grid_template_columns": null,
            "grid_template_rows": null,
            "height": null,
            "justify_content": null,
            "justify_items": null,
            "left": null,
            "margin": null,
            "max_height": null,
            "max_width": null,
            "min_height": null,
            "min_width": null,
            "object_fit": null,
            "object_position": null,
            "order": null,
            "overflow": null,
            "overflow_x": null,
            "overflow_y": null,
            "padding": null,
            "right": null,
            "top": null,
            "visibility": null,
            "width": null
          }
        },
        "774336db9dee4cd7afb29cf1d2807224": {
          "model_module": "@jupyter-widgets/controls",
          "model_name": "ToggleButtonsStyleModel",
          "model_module_version": "1.5.0",
          "state": {
            "_model_module": "@jupyter-widgets/controls",
            "_model_module_version": "1.5.0",
            "_model_name": "ToggleButtonsStyleModel",
            "_view_count": null,
            "_view_module": "@jupyter-widgets/base",
            "_view_module_version": "1.2.0",
            "_view_name": "StyleView",
            "button_width": "",
            "description_width": "",
            "font_weight": ""
          }
        },
        "b3608c7cffd5495ab96231c8bb437526": {
          "model_module": "@jupyter-widgets/base",
          "model_name": "LayoutModel",
          "model_module_version": "1.2.0",
          "state": {
            "_model_module": "@jupyter-widgets/base",
            "_model_module_version": "1.2.0",
            "_model_name": "LayoutModel",
            "_view_count": null,
            "_view_module": "@jupyter-widgets/base",
            "_view_module_version": "1.2.0",
            "_view_name": "LayoutView",
            "align_content": null,
            "align_items": null,
            "align_self": null,
            "border": null,
            "bottom": null,
            "display": null,
            "flex": null,
            "flex_flow": null,
            "grid_area": null,
            "grid_auto_columns": null,
            "grid_auto_flow": null,
            "grid_auto_rows": null,
            "grid_column": null,
            "grid_gap": null,
            "grid_row": null,
            "grid_template_areas": null,
            "grid_template_columns": null,
            "grid_template_rows": null,
            "height": null,
            "justify_content": null,
            "justify_items": null,
            "left": null,
            "margin": null,
            "max_height": null,
            "max_width": null,
            "min_height": null,
            "min_width": null,
            "object_fit": null,
            "object_position": null,
            "order": null,
            "overflow": null,
            "overflow_x": null,
            "overflow_y": null,
            "padding": null,
            "right": null,
            "top": null,
            "visibility": null,
            "width": null
          }
        },
        "1b77795978104c3c8ee78c2c4401d915": {
          "model_module": "@jupyter-widgets/base",
          "model_name": "LayoutModel",
          "model_module_version": "1.2.0",
          "state": {
            "_model_module": "@jupyter-widgets/base",
            "_model_module_version": "1.2.0",
            "_model_name": "LayoutModel",
            "_view_count": null,
            "_view_module": "@jupyter-widgets/base",
            "_view_module_version": "1.2.0",
            "_view_name": "LayoutView",
            "align_content": null,
            "align_items": null,
            "align_self": null,
            "border": null,
            "bottom": null,
            "display": null,
            "flex": null,
            "flex_flow": null,
            "grid_area": null,
            "grid_auto_columns": null,
            "grid_auto_flow": null,
            "grid_auto_rows": null,
            "grid_column": null,
            "grid_gap": null,
            "grid_row": null,
            "grid_template_areas": null,
            "grid_template_columns": null,
            "grid_template_rows": null,
            "height": null,
            "justify_content": null,
            "justify_items": null,
            "left": null,
            "margin": null,
            "max_height": null,
            "max_width": null,
            "min_height": null,
            "min_width": null,
            "object_fit": null,
            "object_position": null,
            "order": null,
            "overflow": null,
            "overflow_x": null,
            "overflow_y": null,
            "padding": null,
            "right": null,
            "top": null,
            "visibility": null,
            "width": null
          }
        },
        "2a4a1324dbee4c06acc27b0488647b36": {
          "model_module": "@jupyter-widgets/controls",
          "model_name": "VBoxModel",
          "model_module_version": "1.5.0",
          "state": {
            "_dom_classes": [
              "widget-interact"
            ],
            "_model_module": "@jupyter-widgets/controls",
            "_model_module_version": "1.5.0",
            "_model_name": "VBoxModel",
            "_view_count": null,
            "_view_module": "@jupyter-widgets/controls",
            "_view_module_version": "1.5.0",
            "_view_name": "VBoxView",
            "box_style": "",
            "children": [
              "IPY_MODEL_a634519edc9144989ef653912f87b3f8",
              "IPY_MODEL_7be71051b9834b2d8b5382d4ad1fbca6"
            ],
            "layout": "IPY_MODEL_b3608c7cffd5495ab96231c8bb437526"
          }
        },
        "a634519edc9144989ef653912f87b3f8": {
          "model_module": "@jupyter-widgets/controls",
          "model_name": "ToggleButtonsModel",
          "model_module_version": "1.5.0",
          "state": {
            "_dom_classes": [],
            "_model_module": "@jupyter-widgets/controls",
            "_model_module_version": "1.5.0",
            "_model_name": "ToggleButtonsModel",
            "_options_labels": [
              "Pipeline Plot",
              "Hyperparameters",
              "AUC",
              "Confusion Matrix",
              "Threshold",
              "Precision Recall",
              "Prediction Error",
              "Class Report",
              "Feature Selection",
              "Learning Curve",
              "Manifold Learning",
              "Calibration Curve",
              "Validation Curve",
              "Dimensions",
              "Feature Importance",
              "Feature Importance (All)",
              "Decision Boundary",
              "Lift Chart",
              "Gain Chart",
              "Decision Tree",
              "KS Statistic Plot"
            ],
            "_view_count": null,
            "_view_module": "@jupyter-widgets/controls",
            "_view_module_version": "1.5.0",
            "_view_name": "ToggleButtonsView",
            "button_style": "",
            "description": "Plot Type:",
            "description_tooltip": null,
            "disabled": false,
            "icons": [
              ""
            ],
            "index": 0,
            "layout": "IPY_MODEL_5fdb40774eac48359c4e3e0ca173126f",
            "style": "IPY_MODEL_774336db9dee4cd7afb29cf1d2807224",
            "tooltips": []
          }
        },
        "7be71051b9834b2d8b5382d4ad1fbca6": {
          "model_module": "@jupyter-widgets/output",
          "model_name": "OutputModel",
          "model_module_version": "1.0.0",
          "state": {
            "_dom_classes": [],
            "_model_module": "@jupyter-widgets/output",
            "_model_module_version": "1.0.0",
            "_model_name": "OutputModel",
            "_view_count": null,
            "_view_module": "@jupyter-widgets/output",
            "_view_module_version": "1.0.0",
            "_view_name": "OutputView",
            "layout": "IPY_MODEL_1b77795978104c3c8ee78c2c4401d915",
            "msg_id": "",
            "outputs": [
              {
                "output_type": "display_data",
                "data": {
                  "text/plain": "<Figure size 2700x600 with 1 Axes>",
                  "image/png": "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\n"
                },
                "metadata": {}
              }
            ]
          }
        },
        "d6f7f15508494f9d98f57bb974ca90f3": {
          "model_module": "@jupyter-widgets/controls",
          "model_name": "HBoxModel",
          "model_module_version": "1.5.0",
          "state": {
            "_dom_classes": [],
            "_model_module": "@jupyter-widgets/controls",
            "_model_module_version": "1.5.0",
            "_model_name": "HBoxModel",
            "_view_count": null,
            "_view_module": "@jupyter-widgets/controls",
            "_view_module_version": "1.5.0",
            "_view_name": "HBoxView",
            "box_style": "",
            "children": [
              "IPY_MODEL_e7f4dde7e05d49e7a2bdc49e07142357",
              "IPY_MODEL_ac39864e15f8418085265c55a7a8ffa5",
              "IPY_MODEL_4aa538ce8c2a40d99e147c86143b488c"
            ],
            "layout": "IPY_MODEL_8af7c6a599b940dcafe0458da1227eba"
          }
        },
        "e7f4dde7e05d49e7a2bdc49e07142357": {
          "model_module": "@jupyter-widgets/controls",
          "model_name": "HTMLModel",
          "model_module_version": "1.5.0",
          "state": {
            "_dom_classes": [],
            "_model_module": "@jupyter-widgets/controls",
            "_model_module_version": "1.5.0",
            "_model_name": "HTMLModel",
            "_view_count": null,
            "_view_module": "@jupyter-widgets/controls",
            "_view_module_version": "1.5.0",
            "_view_name": "HTMLView",
            "description": "",
            "description_tooltip": null,
            "layout": "IPY_MODEL_997ded220bfa48e98847b588201f2f86",
            "placeholder": "​",
            "style": "IPY_MODEL_71fd19624b5840ca85bf209a1e88eb7b",
            "value": "Processing: 100%"
          }
        },
        "ac39864e15f8418085265c55a7a8ffa5": {
          "model_module": "@jupyter-widgets/controls",
          "model_name": "FloatProgressModel",
          "model_module_version": "1.5.0",
          "state": {
            "_dom_classes": [],
            "_model_module": "@jupyter-widgets/controls",
            "_model_module_version": "1.5.0",
            "_model_name": "FloatProgressModel",
            "_view_count": null,
            "_view_module": "@jupyter-widgets/controls",
            "_view_module_version": "1.5.0",
            "_view_name": "ProgressView",
            "bar_style": "",
            "description": "",
            "description_tooltip": null,
            "layout": "IPY_MODEL_65ea5c0a84154d59bb85bf3ab06ca271",
            "max": 4,
            "min": 0,
            "orientation": "horizontal",
            "style": "IPY_MODEL_9d29544edf0c4a2ab63b282e3cb21dc1",
            "value": 4
          }
        },
        "4aa538ce8c2a40d99e147c86143b488c": {
          "model_module": "@jupyter-widgets/controls",
          "model_name": "HTMLModel",
          "model_module_version": "1.5.0",
          "state": {
            "_dom_classes": [],
            "_model_module": "@jupyter-widgets/controls",
            "_model_module_version": "1.5.0",
            "_model_name": "HTMLModel",
            "_view_count": null,
            "_view_module": "@jupyter-widgets/controls",
            "_view_module_version": "1.5.0",
            "_view_name": "HTMLView",
            "description": "",
            "description_tooltip": null,
            "layout": "IPY_MODEL_4b985ff603904997869ddb3fecbad927",
            "placeholder": "​",
            "style": "IPY_MODEL_218db11fdef349b6a5a8b691fdbb62a3",
            "value": " 4/4 [00:18&lt;00:00,  4.51s/it]"
          }
        },
        "8af7c6a599b940dcafe0458da1227eba": {
          "model_module": "@jupyter-widgets/base",
          "model_name": "LayoutModel",
          "model_module_version": "1.2.0",
          "state": {
            "_model_module": "@jupyter-widgets/base",
            "_model_module_version": "1.2.0",
            "_model_name": "LayoutModel",
            "_view_count": null,
            "_view_module": "@jupyter-widgets/base",
            "_view_module_version": "1.2.0",
            "_view_name": "LayoutView",
            "align_content": null,
            "align_items": null,
            "align_self": null,
            "border": null,
            "bottom": null,
            "display": null,
            "flex": null,
            "flex_flow": null,
            "grid_area": null,
            "grid_auto_columns": null,
            "grid_auto_flow": null,
            "grid_auto_rows": null,
            "grid_column": null,
            "grid_gap": null,
            "grid_row": null,
            "grid_template_areas": null,
            "grid_template_columns": null,
            "grid_template_rows": null,
            "height": null,
            "justify_content": null,
            "justify_items": null,
            "left": null,
            "margin": null,
            "max_height": null,
            "max_width": null,
            "min_height": null,
            "min_width": null,
            "object_fit": null,
            "object_position": null,
            "order": null,
            "overflow": null,
            "overflow_x": null,
            "overflow_y": null,
            "padding": null,
            "right": null,
            "top": null,
            "visibility": "hidden",
            "width": null
          }
        },
        "997ded220bfa48e98847b588201f2f86": {
          "model_module": "@jupyter-widgets/base",
          "model_name": "LayoutModel",
          "model_module_version": "1.2.0",
          "state": {
            "_model_module": "@jupyter-widgets/base",
            "_model_module_version": "1.2.0",
            "_model_name": "LayoutModel",
            "_view_count": null,
            "_view_module": "@jupyter-widgets/base",
            "_view_module_version": "1.2.0",
            "_view_name": "LayoutView",
            "align_content": null,
            "align_items": null,
            "align_self": null,
            "border": null,
            "bottom": null,
            "display": null,
            "flex": null,
            "flex_flow": null,
            "grid_area": null,
            "grid_auto_columns": null,
            "grid_auto_flow": null,
            "grid_auto_rows": null,
            "grid_column": null,
            "grid_gap": null,
            "grid_row": null,
            "grid_template_areas": null,
            "grid_template_columns": null,
            "grid_template_rows": null,
            "height": null,
            "justify_content": null,
            "justify_items": null,
            "left": null,
            "margin": null,
            "max_height": null,
            "max_width": null,
            "min_height": null,
            "min_width": null,
            "object_fit": null,
            "object_position": null,
            "order": null,
            "overflow": null,
            "overflow_x": null,
            "overflow_y": null,
            "padding": null,
            "right": null,
            "top": null,
            "visibility": null,
            "width": null
          }
        },
        "71fd19624b5840ca85bf209a1e88eb7b": {
          "model_module": "@jupyter-widgets/controls",
          "model_name": "DescriptionStyleModel",
          "model_module_version": "1.5.0",
          "state": {
            "_model_module": "@jupyter-widgets/controls",
            "_model_module_version": "1.5.0",
            "_model_name": "DescriptionStyleModel",
            "_view_count": null,
            "_view_module": "@jupyter-widgets/base",
            "_view_module_version": "1.2.0",
            "_view_name": "StyleView",
            "description_width": ""
          }
        },
        "65ea5c0a84154d59bb85bf3ab06ca271": {
          "model_module": "@jupyter-widgets/base",
          "model_name": "LayoutModel",
          "model_module_version": "1.2.0",
          "state": {
            "_model_module": "@jupyter-widgets/base",
            "_model_module_version": "1.2.0",
            "_model_name": "LayoutModel",
            "_view_count": null,
            "_view_module": "@jupyter-widgets/base",
            "_view_module_version": "1.2.0",
            "_view_name": "LayoutView",
            "align_content": null,
            "align_items": null,
            "align_self": null,
            "border": null,
            "bottom": null,
            "display": null,
            "flex": null,
            "flex_flow": null,
            "grid_area": null,
            "grid_auto_columns": null,
            "grid_auto_flow": null,
            "grid_auto_rows": null,
            "grid_column": null,
            "grid_gap": null,
            "grid_row": null,
            "grid_template_areas": null,
            "grid_template_columns": null,
            "grid_template_rows": null,
            "height": null,
            "justify_content": null,
            "justify_items": null,
            "left": null,
            "margin": null,
            "max_height": null,
            "max_width": null,
            "min_height": null,
            "min_width": null,
            "object_fit": null,
            "object_position": null,
            "order": null,
            "overflow": null,
            "overflow_x": null,
            "overflow_y": null,
            "padding": null,
            "right": null,
            "top": null,
            "visibility": null,
            "width": null
          }
        },
        "9d29544edf0c4a2ab63b282e3cb21dc1": {
          "model_module": "@jupyter-widgets/controls",
          "model_name": "ProgressStyleModel",
          "model_module_version": "1.5.0",
          "state": {
            "_model_module": "@jupyter-widgets/controls",
            "_model_module_version": "1.5.0",
            "_model_name": "ProgressStyleModel",
            "_view_count": null,
            "_view_module": "@jupyter-widgets/base",
            "_view_module_version": "1.2.0",
            "_view_name": "StyleView",
            "bar_color": null,
            "description_width": ""
          }
        },
        "4b985ff603904997869ddb3fecbad927": {
          "model_module": "@jupyter-widgets/base",
          "model_name": "LayoutModel",
          "model_module_version": "1.2.0",
          "state": {
            "_model_module": "@jupyter-widgets/base",
            "_model_module_version": "1.2.0",
            "_model_name": "LayoutModel",
            "_view_count": null,
            "_view_module": "@jupyter-widgets/base",
            "_view_module_version": "1.2.0",
            "_view_name": "LayoutView",
            "align_content": null,
            "align_items": null,
            "align_self": null,
            "border": null,
            "bottom": null,
            "display": null,
            "flex": null,
            "flex_flow": null,
            "grid_area": null,
            "grid_auto_columns": null,
            "grid_auto_flow": null,
            "grid_auto_rows": null,
            "grid_column": null,
            "grid_gap": null,
            "grid_row": null,
            "grid_template_areas": null,
            "grid_template_columns": null,
            "grid_template_rows": null,
            "height": null,
            "justify_content": null,
            "justify_items": null,
            "left": null,
            "margin": null,
            "max_height": null,
            "max_width": null,
            "min_height": null,
            "min_width": null,
            "object_fit": null,
            "object_position": null,
            "order": null,
            "overflow": null,
            "overflow_x": null,
            "overflow_y": null,
            "padding": null,
            "right": null,
            "top": null,
            "visibility": null,
            "width": null
          }
        },
        "218db11fdef349b6a5a8b691fdbb62a3": {
          "model_module": "@jupyter-widgets/controls",
          "model_name": "DescriptionStyleModel",
          "model_module_version": "1.5.0",
          "state": {
            "_model_module": "@jupyter-widgets/controls",
            "_model_module_version": "1.5.0",
            "_model_name": "DescriptionStyleModel",
            "_view_count": null,
            "_view_module": "@jupyter-widgets/base",
            "_view_module_version": "1.2.0",
            "_view_name": "StyleView",
            "description_width": ""
          }
        }
      }
    }
  },
  "nbformat": 4,
  "nbformat_minor": 0
}