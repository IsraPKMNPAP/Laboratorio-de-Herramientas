{
  "cells": [
    {
      "cell_type": "markdown",
      "metadata": {
        "id": "_Tgm8mCA9Dp3"
      },
      "source": [
        "# Laboratorio 7: Clasificación 🤗\n",
        "\n",
        "<center><strong>MDS7202: Laboratorio de Programación Científica para Ciencia de Datos - Primavera 2024</strong></center>\n"
      ]
    },
    {
      "cell_type": "markdown",
      "metadata": {
        "id": "11Kc_ibM9GXH"
      },
      "source": [
        "### Cuerpo Docente:\n",
        "\n",
        "- Profesores: Ignacio Meza, Sebastián Tinoco\n",
        "- Auxiliar: Eduardo Moya\n",
        "- Ayudantes: Nicolás Ojeda, Melanie Peña, Valentina Rojas"
      ]
    },
    {
      "cell_type": "markdown",
      "metadata": {
        "id": "u9dUSltr9JrN"
      },
      "source": [
        "### Equipo: SUPER IMPORTANTE - notebooks sin nombre no serán revisados\n",
        "\n",
        "- Nombre de alumno 1: Luis Picón\n",
        "- Nombre de alumno 2: Israel Astudillo"
      ]
    },
    {
      "cell_type": "markdown",
      "metadata": {},
      "source": [
        "### **Link de repositorio de GitHub:** [Insertar Repositorio](https://github.com/IsraPKMNPAP/Laboratorio-de-Herramientas)"
      ]
    },
    {
      "cell_type": "markdown",
      "metadata": {
        "id": "YBa48PDF9OHw"
      },
      "source": [
        "### Temas a tratar\n",
        "- Clasificación en problemas desbalanceados\n",
        "- Lightgbm y xgboost\n",
        "- Pipelines"
      ]
    },
    {
      "cell_type": "markdown",
      "metadata": {
        "id": "mkhnnMx49Qrh"
      },
      "source": [
        "### Reglas:\n",
        "\n",
        "- **Grupos de 2 personas**\n",
        "- Cualquier duda fuera del horario de clases al foro. Mensajes al equipo docente serán respondidos por este medio.\n",
        "- Prohibidas las copias.\n",
        "- Pueden usar cualquer matrial del curso que estimen conveniente.\n",
        "- Código que no se pueda ejecutar, no será revisado."
      ]
    },
    {
      "cell_type": "markdown",
      "metadata": {
        "id": "sxzJ48Vv8quO"
      },
      "source": [
        "\n",
        "\n",
        "### Objetivos principales del laboratorio\n",
        "- Comprender cómo trabajar con problemas de clasificación con clases desbalanceadas.\n",
        "- Aplicar los modelos lightgbm y xgboost.\n",
        "- Practicar Pipelines"
      ]
    },
    {
      "cell_type": "markdown",
      "metadata": {
        "id": "k-ao0mOU64Ru"
      },
      "source": [
        "# Parte Teórica [12 puntos]\n",
        "\n",
        "\n"
      ]
    },
    {
      "cell_type": "markdown",
      "metadata": {
        "id": "ApXKwPDmxcEV"
      },
      "source": [
        "1. Explique cuál es la diferencia entre los datos de entrenamiento y validación. [1 punto]\n",
        "\n",
        "2. Explique cuál es el principal desafío al trabajar problemas de clasificación con data no supervisada. [1 punto]\n",
        "\n",
        "3. Explique en **sus palabras** qué es la matriz de confusión y para qué se utiliza. [1 puntos]\n",
        "\n",
        "4. Escriba la fórmula de las siguientes métricas y explique con **sus palabras** cómo se interpretan. [1 punto cada uno]\n",
        "\n",
        "  * Accuracy\n",
        "  * Precision\n",
        "  * Recall\n",
        "  * F1 score\n",
        "\n",
        "5. Explique qué métrica recomendaría para los siguientes contextos de clasificación. [1 punto cada uno]\n",
        "\n",
        "  * Mantenimiento predictivo de fallas de maquinaria pesada en la industria minera.  \n",
        "  * Detección de enfermedades altamente contagiosas.\n",
        "  * Aprobación de créditos de alto riesgo.\n",
        "  * Detección de crímenes.\n",
        "\n",
        "6. Explique qué es la calibración de modelos y para qué se usa. [1 punto]\n"
      ]
    },
    {
      "cell_type": "markdown",
      "metadata": {
        "id": "Yy4QMWD8-FPk"
      },
      "source": [
        "**Respuesta:**"
      ]
    },
    {
      "cell_type": "markdown",
      "metadata": {
        "id": "QYFdD1aK-ICa"
      },
      "source": [
        "1. Los datos de entrenamiento son el conjunto de datos disponibles que son utilizados por algún modelo de aprendizaje para extraer relaciones o patrones que describan alguna variable dependiente de interés. El modelo se basa en los datos de entrenamiento para generar predicciones de la variable de interés utilizando los patrones que encontró en los datos de entrenamiento. Por otro lado, los datos de validación son los utilizados para ajustar el modelo entrenado, sus hiperparámetros y revisar si cumple los estándares mínimos en primera instancia sobre un conjunto reducido de datos. El conjunto de testeo es un conjunto de datos sobre el cual el modelo ya entrenado y validado realiza predicciones de la variable dependiente, de forma de compararla luego con el valor real de esta variable y concluir sobre el desempeño general del modelo para predecir esta variable en base a métricas. Cabe destacar que estos conjuntos deben ser disjuntos entre sí para evitar sesgos dados por data leakage, es decir no queremos darle al modelo información de entrenamiento que se incluya en su testeo de forma de conocer el verdadero desempeño del modelo y caracterizar su capacidad de generalización.\n",
        "2. El principal desafío al trabajar con problemas de clasificación con datos no supervisados es que al buscar agrupar datos por similaridad en sus características, los grupos encontrados pueden no ser diferenciables, identificables o interpretables y por sobre todo no se sabe a priori cuántos grupos de datos existen realmente en la data, es decir se desconoce la cantidad de clases que caracterizan a la data y es este precisamente el problema que la clasificación no supervisada busca resolver.\n",
        "3. La matriz de confusión es una forma de organizar y ordenar las predicciones correctas e incorrectas que realiza un modelo. Muestra la cantidad de aciertos y desaciertos por clase, permitiendo visualizar posibles problemas tempranamente como desbalance de clases y permite caracterizar el comportamiento predicitivo del modelo en base a las predicciones que realiza. Se usa como base para construir las distintas métricas de evaluación de modelos que representan razones entre predicciones correctas o incorrectas por sobre las totales para cierta clase o en general, dependiendo de la métrica.\n",
        "4. Se considerará la fórmula para el caso de clasificación binaria por simplicidad, donde TP son los verdaderos positivos, TN los verdaderos negativos, FP los falsos positivos y FN los falsos negativos. El Accuracy que viene dado por: \n",
        "$$\\text{Accuracy}=\\frac{TP+TN}{TP+TN+FP+FN}$$\n",
        "Representa el porcentaje de aciertos que el modelo tuvo respecto al total de predicciones que realizó.\n",
        "\n",
        "El Precision viene dado por:\n",
        "$$\\text{Precision}=\\frac{TP}{TP+FP}$$\n",
        "Representa el porcentaje de aciertos positivos que el modelo realizó, es decir del total de positivos que predijo cuantos realmente eran positivos.\n",
        "\n",
        "El Recall viene dado por:\n",
        "$$\\text{Recall}=\\frac{TP}{TP+FN}$$\n",
        "Representa el porcentaje de clasificaciones positivas correctas del total de elementos con clase positiva. Es decir, de todos los elementos de clases positiva, cuantos identificó correctamente el modelo.\n",
        "\n",
        "El F1-Score viene dado por:\n",
        "$$\\text{F1-Score}=2\\cdot\\frac{\\text{Precision}\\cdot\\text{Recall}}{\\text{Precision}+\\text{Recall}}$$\n",
        "Representa una media armónica entre el Precision y Recall, de forma que enterega un equilibrio entre el desempeño del modelo para ambas de estas métricas.\n",
        "5. La métricas recomendadas para los casos mostrados son:\n",
        "- Considerando que el matenimiento predictivo de fallas en la maquinaria busca reducir el tiempo de inactividad operacional por fallas y suponiendo que prepararse para una falla y que no haya falla implica un menor costo que remendar la falla una vez ocurre, preferimos que hayan falsos positivos sobre falsos negativos. Es decir, preferimos que nuestro modelo sobre prediga fallas de forma que tienda a reportar más fallas de las que ocurren, de forma de minimizar las fallas imprevistas que son muy costosas. En este sentido la métrica recomendada es el recall que mide exactamente esto y penaliza por falsos negativos, es decir cuando el modelo dice que no hay falla pero realmente si hay.\n",
        "- Para la detección de enfermedades altamente contagiosas preferimos siempre estar lo más conscientes posibles de la cantidad de enfermos. Es decir, nos gustaría que nuestro modelo prediga más personas enfermas que no enfermas. Así es necesario exigir al modelo tener pocos falsos negativos, es decir pocos casos que el modelo dice que no están enfermos pero en realidad si lo estaban. Nuevamente la métrica que penaliza por falsos negativos y es recomendada es el Recall.\n",
        "- Para aprobar créditos de alto riesgo, nos gustaría maximizar la probabilidad de pago del crédito del cliente. Para este objetivo el modelo debe aprobar créditos cuando la probabilidad de pago es relativamente alta. En ese sentido, si el modelo no aprueba un crédito para un cliente con probabilidad alta de pago o realiza un falso negativo, la pérdida del banco en este caso no es tan alta dado que pierde principalmente la oportunidad de ofrecer el crédito. POr otro lado, si el modelo aprueba el crédito para un cliente muy riesgoso que finalmente incurre en impago, el costo para el banco de este error es el del valor del crédito y en definitiva es un costo mayor. En ese sentido nos gustaría un modelo que tenga pocos falsos positivos o que otorgue el crédito siendo que la persona no pagará. Una métrica adecuada que penaliza por este valor es el Precision, que es la métrica recomendada.\n",
        "- Para detectar crímines podemos nuevamente evaluar el costo de cometer errores de predicción, en este caso predecir que una persona realizó un crimen cuando no lo hizo tiene un costo alto o es una acusación grave de hacer, por otro lado predecir que una persona no realizó un crimen cuando si lo hizo deja en impunidad este crimen y es también algo de relevancia para el modelo. En este sentido, una métrica recomendable es el F1-Score que encuentra un balance entre Precision y Recall que sería este caso, donde no queremos priorizar una mala clasificación por sobre otra.\n",
        "6. La calibración de modelos se utiliza para ajustar la probabilidad de clases que entregan las predicciones del modelo de forma que se ajusten a la probabilidad de clases real que se observa en los datos. Se usa para regularizar la salida de modelos de aprendizaje en general, sobre la distribución de datos predichos como un conjunto. Muchos modelos no tienen este tipo de regularización agregada naturalmente como XGBoost, sin embargo hay otros que si tienen esta consideración como regresión logística."
      ]
    },
    {
      "cell_type": "markdown",
      "metadata": {
        "id": "Jg_9jBqtgRDO"
      },
      "source": [
        "# Parte práctica [48 puntos]"
      ]
    },
    {
      "cell_type": "markdown",
      "metadata": {
        "id": "slm6yRfdfZwS"
      },
      "source": [
        "<p align=\"center\">\n",
        "  <img src=\"https://i.ibb.co/61L8z0w/renacin-by-volframio-dcirf4l-fullview.jpg\"\n",
        "\" width=\"400\">\n",
        "</p>\n",
        "\n",
        "\n",
        "\n",
        "Tras el trágico despido de la mítica mascota de Maipú, Renacín decide adentrarse como consultor en el mercado futbolero, el cuál (para variar...) está cargado en especulaciones.\n",
        "\n",
        "Como su principal tarea será asesorar a los directivos de los clubes sobre cuál jugador comprar y cuál no, Renacín desea generar modelos predictivos que evaluén distintas características de los jugadores; todo con el fin de tomar decisiones concretas basadas en los datos.\n",
        "\n",
        "Sin embargo, su condición de corporeo le impidió tomar la versión anterior de MDS7202, por lo que este motivo Renacín contrata a su equipo para lograr su objetivo final. Dado que aún tiene fuertes vínculos con la dirección de deportes de la municipalidad, el corporeo le entrega base de datos con las estadísticas de cada jugador para que su equipo empieze a trabajar ya con un dataset listo para ser usado.\n"
      ]
    },
    {
      "cell_type": "markdown",
      "metadata": {
        "id": "jnbx7RwHfkue"
      },
      "source": [
        "**Los Datos**\n",
        "\n",
        "Para este laboratorio deberán trabajar con el csv `statsplayers.csv`, donde deberán aplicar algoritmos de aprendizaje supervisado de clasificación en base a características que describen de jugadores de fútbol.\n",
        "\n",
        "Para comenzar cargue el dataset señalado y a continuación vea el reporte **`Player_Stats_Report.html`** (adjunto en la carpeta del enunciado) que describe las características principales del `DataFrame`."
      ]
    },
    {
      "cell_type": "code",
      "execution_count": 54,
      "metadata": {
        "id": "mX6iwOWUfrp_"
      },
      "outputs": [
        {
          "name": "stdout",
          "output_type": "stream",
          "text": [
            "Ignorando conexión drive-colab\n"
          ]
        }
      ],
      "source": [
        "# Si usted está utilizando Colabolatory le puede ser útil este código para cargar los archivos.\n",
        "try:\n",
        "    from google.colab import drive\n",
        "    drive.mount(\"/content/drive\")\n",
        "    path = 'Dirección donde tiene los archivos en el Drive'\n",
        "except:\n",
        "    print('Ignorando conexión drive-colab')"
      ]
    },
    {
      "cell_type": "code",
      "execution_count": 55,
      "metadata": {},
      "outputs": [],
      "source": [
        "# Paquetes a utilizar\n",
        "# Clásicos\n",
        "import pandas as pd\n",
        "import numpy as np"
      ]
    },
    {
      "cell_type": "code",
      "execution_count": 56,
      "metadata": {},
      "outputs": [
        {
          "data": {
            "text/html": [
              "<div>\n",
              "<style scoped>\n",
              "    .dataframe tbody tr th:only-of-type {\n",
              "        vertical-align: middle;\n",
              "    }\n",
              "\n",
              "    .dataframe tbody tr th {\n",
              "        vertical-align: top;\n",
              "    }\n",
              "\n",
              "    .dataframe thead th {\n",
              "        text-align: right;\n",
              "    }\n",
              "</style>\n",
              "<table border=\"1\" class=\"dataframe\">\n",
              "  <thead>\n",
              "    <tr style=\"text-align: right;\">\n",
              "      <th></th>\n",
              "      <th>Name</th>\n",
              "      <th>Nationality</th>\n",
              "      <th>National_Position</th>\n",
              "      <th>Club_Position</th>\n",
              "      <th>Height</th>\n",
              "      <th>Weight</th>\n",
              "      <th>Preffered_Foot</th>\n",
              "      <th>Age</th>\n",
              "      <th>Work_Rate</th>\n",
              "      <th>Weak_foot</th>\n",
              "      <th>...</th>\n",
              "      <th>Agility</th>\n",
              "      <th>Jumping</th>\n",
              "      <th>Heading</th>\n",
              "      <th>Shot_Power</th>\n",
              "      <th>Finishing</th>\n",
              "      <th>Long_Shots</th>\n",
              "      <th>Curve</th>\n",
              "      <th>Freekick_Accuracy</th>\n",
              "      <th>Penalties</th>\n",
              "      <th>Volleys</th>\n",
              "    </tr>\n",
              "  </thead>\n",
              "  <tbody>\n",
              "    <tr>\n",
              "      <th>0</th>\n",
              "      <td>Cristiano Ronaldo</td>\n",
              "      <td>Portugal</td>\n",
              "      <td>LS</td>\n",
              "      <td>LW</td>\n",
              "      <td>185</td>\n",
              "      <td>80</td>\n",
              "      <td>Right</td>\n",
              "      <td>32</td>\n",
              "      <td>High / Low</td>\n",
              "      <td>4</td>\n",
              "      <td>...</td>\n",
              "      <td>90</td>\n",
              "      <td>95</td>\n",
              "      <td>85</td>\n",
              "      <td>92</td>\n",
              "      <td>93</td>\n",
              "      <td>90</td>\n",
              "      <td>81</td>\n",
              "      <td>76</td>\n",
              "      <td>85</td>\n",
              "      <td>88</td>\n",
              "    </tr>\n",
              "    <tr>\n",
              "      <th>1</th>\n",
              "      <td>Lionel Messi</td>\n",
              "      <td>Argentina</td>\n",
              "      <td>RW</td>\n",
              "      <td>RW</td>\n",
              "      <td>170</td>\n",
              "      <td>72</td>\n",
              "      <td>Left</td>\n",
              "      <td>29</td>\n",
              "      <td>Medium / Medium</td>\n",
              "      <td>4</td>\n",
              "      <td>...</td>\n",
              "      <td>90</td>\n",
              "      <td>68</td>\n",
              "      <td>71</td>\n",
              "      <td>85</td>\n",
              "      <td>95</td>\n",
              "      <td>88</td>\n",
              "      <td>89</td>\n",
              "      <td>90</td>\n",
              "      <td>74</td>\n",
              "      <td>85</td>\n",
              "    </tr>\n",
              "    <tr>\n",
              "      <th>2</th>\n",
              "      <td>Neymar</td>\n",
              "      <td>Brazil</td>\n",
              "      <td>LW</td>\n",
              "      <td>LW</td>\n",
              "      <td>174</td>\n",
              "      <td>68</td>\n",
              "      <td>Right</td>\n",
              "      <td>25</td>\n",
              "      <td>High / Medium</td>\n",
              "      <td>5</td>\n",
              "      <td>...</td>\n",
              "      <td>96</td>\n",
              "      <td>61</td>\n",
              "      <td>62</td>\n",
              "      <td>78</td>\n",
              "      <td>89</td>\n",
              "      <td>77</td>\n",
              "      <td>79</td>\n",
              "      <td>84</td>\n",
              "      <td>81</td>\n",
              "      <td>83</td>\n",
              "    </tr>\n",
              "    <tr>\n",
              "      <th>3</th>\n",
              "      <td>Luis Suárez</td>\n",
              "      <td>Uruguay</td>\n",
              "      <td>LS</td>\n",
              "      <td>ST</td>\n",
              "      <td>182</td>\n",
              "      <td>85</td>\n",
              "      <td>Right</td>\n",
              "      <td>30</td>\n",
              "      <td>High / Medium</td>\n",
              "      <td>4</td>\n",
              "      <td>...</td>\n",
              "      <td>86</td>\n",
              "      <td>69</td>\n",
              "      <td>77</td>\n",
              "      <td>87</td>\n",
              "      <td>94</td>\n",
              "      <td>86</td>\n",
              "      <td>86</td>\n",
              "      <td>84</td>\n",
              "      <td>85</td>\n",
              "      <td>88</td>\n",
              "    </tr>\n",
              "    <tr>\n",
              "      <th>4</th>\n",
              "      <td>Manuel Neuer</td>\n",
              "      <td>Germany</td>\n",
              "      <td>GK</td>\n",
              "      <td>GK</td>\n",
              "      <td>193</td>\n",
              "      <td>92</td>\n",
              "      <td>Right</td>\n",
              "      <td>31</td>\n",
              "      <td>Medium / Medium</td>\n",
              "      <td>4</td>\n",
              "      <td>...</td>\n",
              "      <td>52</td>\n",
              "      <td>78</td>\n",
              "      <td>25</td>\n",
              "      <td>25</td>\n",
              "      <td>13</td>\n",
              "      <td>16</td>\n",
              "      <td>14</td>\n",
              "      <td>11</td>\n",
              "      <td>47</td>\n",
              "      <td>11</td>\n",
              "    </tr>\n",
              "  </tbody>\n",
              "</table>\n",
              "<p>5 rows × 39 columns</p>\n",
              "</div>"
            ],
            "text/plain": [
              "                Name Nationality National_Position Club_Position  Height  \\\n",
              "0  Cristiano Ronaldo    Portugal                LS            LW     185   \n",
              "1       Lionel Messi   Argentina                RW            RW     170   \n",
              "2             Neymar      Brazil                LW            LW     174   \n",
              "3        Luis Suárez     Uruguay                LS            ST     182   \n",
              "4       Manuel Neuer     Germany                GK            GK     193   \n",
              "\n",
              "   Weight Preffered_Foot  Age        Work_Rate  Weak_foot  ...  Agility  \\\n",
              "0      80          Right   32       High / Low          4  ...       90   \n",
              "1      72           Left   29  Medium / Medium          4  ...       90   \n",
              "2      68          Right   25    High / Medium          5  ...       96   \n",
              "3      85          Right   30    High / Medium          4  ...       86   \n",
              "4      92          Right   31  Medium / Medium          4  ...       52   \n",
              "\n",
              "   Jumping  Heading  Shot_Power  Finishing  Long_Shots  Curve  \\\n",
              "0       95       85          92         93          90     81   \n",
              "1       68       71          85         95          88     89   \n",
              "2       61       62          78         89          77     79   \n",
              "3       69       77          87         94          86     86   \n",
              "4       78       25          25         13          16     14   \n",
              "\n",
              "   Freekick_Accuracy  Penalties  Volleys  \n",
              "0                 76         85       88  \n",
              "1                 90         74       85  \n",
              "2                 84         81       83  \n",
              "3                 84         85       88  \n",
              "4                 11         47       11  \n",
              "\n",
              "[5 rows x 39 columns]"
            ]
          },
          "execution_count": 56,
          "metadata": {},
          "output_type": "execute_result"
        }
      ],
      "source": [
        "data = pd.read_csv(\"../temp/stats_players.csv\")\n",
        "data.head()"
      ]
    },
    {
      "cell_type": "markdown",
      "metadata": {
        "id": "JdcucZhp-M_0"
      },
      "source": [
        "## 1. Predicción de Seleccionados Nacionales [14 puntos]"
      ]
    },
    {
      "cell_type": "markdown",
      "metadata": {
        "id": "HXrewqxjjzvA"
      },
      "source": [
        "<p align=\"center\">\n",
        "  <img src=\"https://www.futuro.cl/wp-content/uploads/2016/06/chile-argentina-meme-12.jpg\" width=\"300\">\n",
        "</p>\n",
        "\n"
      ]
    },
    {
      "cell_type": "markdown",
      "metadata": {
        "id": "Qfre1YsSDqla"
      },
      "source": [
        "### 1.1 Preprocesamiento [5 puntos]"
      ]
    },
    {
      "cell_type": "markdown",
      "metadata": {
        "id": "IR00u4HTDtxv"
      },
      "source": [
        "Tareas:\n",
        "\n",
        "1. Genere los labels para la clasificación binaria en una variable llamada `label`. Para esto, trabaje sobre el atributo `National_Position` suponiendo que los valores nulos son jugadores no seleccionados para representar a su país. [Sin puntaje]\n",
        "\n",
        "2. Hecho esto, ¿cuántos se tienen ejemplos por cada clase? Comente lo que observa. [1 punto]\n",
        "\n",
        "3. Genere un `ColumnTransformer` en donde especifique las transformaciones que hay que realizar para cada columna (por ejemplo StandarScaler, MinMaxScaler, OneHotEncoder, etc...) para que puedan ser utilizadas correctamente por el modelo predictivo y guárdelo una variable llamada `col_transformer`. [2 puntos]\n",
        "\n",
        "4. Comente y justifique las transformaciones elegidas sobre cada una de las variables (para esto utilice el material `Player_Stats_Report.html` que viene en el zip del lab), al igual que las transformaciones aplicadas. [2 puntos]"
      ]
    },
    {
      "cell_type": "markdown",
      "metadata": {
        "id": "tgAk0kbPjEsx"
      },
      "source": [
        "**Respuesta:**"
      ]
    },
    {
      "cell_type": "code",
      "execution_count": 57,
      "metadata": {
        "id": "JhC2sZj9dSI1"
      },
      "outputs": [
        {
          "name": "stdout",
          "output_type": "stream",
          "text": [
            "Cantidad de seleccionados nacionales: 1075\n",
            "Cantidad de no seleccionados nacionales: 16513\n",
            "Proporción clase 1 respecto a clase 0: 0.06510022406588749\n"
          ]
        }
      ],
      "source": [
        "# 1.\n",
        "# Creación de columna\n",
        "data[\"label\"] = data[\"National_Position\"].apply(lambda x:1 if pd.notna(x) and x.strip() != '' else 0)\n",
        "# 2.\n",
        "# Ejemplos por clase\n",
        "print(\"Cantidad de seleccionados nacionales:\",data[\"label\"].value_counts()[1])\n",
        "print(\"Cantidad de no seleccionados nacionales:\",data[\"label\"].value_counts()[0])\n",
        "print(\"Proporción clase 1 respecto a clase 0:\",data[\"label\"].value_counts()[1]/data[\"label\"].value_counts()[0])\n",
        "# Se observa un desbalance de clases, donde un porcentaje menor de los jugadores son jugadores seleccionados\n",
        "# mientras que la mayoría son no seleccionados.\n",
        "# 3. y 4.\n",
        "# ColumnTransformer\n",
        "from sklearn.compose import ColumnTransformer\n",
        "# Utilizamos RobustScaler, dado que asumir distribución normal sobre las 31 columnas numéricas pueden ser\n",
        "# inadecuado. MinMaxScaler puede ser susceptible a outliers que según el reporte no se aprecian en los histogramas\n",
        "# pero no hemos aún confirmado si hay o no.\n",
        "from sklearn.preprocessing import RobustScaler\n",
        "robust_scaler = RobustScaler()\n",
        "# Utilizamos OneHotEncoder para las variables categóricas que no son identificadores como el nombre y que no son National_Position\n",
        "# dado que construimos la etiqueta con esta columna. Las columnas categóricas a incluir pueden en su mayoría ser descompuestas en\n",
        "# pocas variables binarias por onehot, salvo por el país. Luego podemos reevaluar esta decisión.\n",
        "from sklearn.preprocessing import OneHotEncoder\n",
        "one_hot = OneHotEncoder(sparse_output=False, handle_unknown='ignore')\n",
        "# Fuera de la variable National_Position, del reporte vemos que Club_Position tiene 1 valor faltante. Por esto necesitamos un imputador.\n",
        "# Utilizamos uno simple para pocos casos y de poco impacto que se asegure de que no hay nulos para ninguna variable, creamos uno por \n",
        "# tipo de variable.\n",
        "from sklearn.impute import SimpleImputer\n",
        "sim_imp_cat = SimpleImputer(strategy=\"most_frequent\")\n",
        "sim_imp_num = SimpleImputer(strategy=\"mean\")\n",
        "\n",
        "\n",
        "# Definimos las columnas a transformar\n",
        "categorical_columns = data.select_dtypes(include=['object', 'category']).drop(['Name', 'National_Position'], axis=1).columns.tolist()\n",
        "numerical_columns = data.select_dtypes(include=['int64', 'float64']).drop(['label'],axis=1).columns.tolist()\n",
        "\n",
        "# Pipelines separados por variable \n",
        "from sklearn.pipeline import Pipeline\n",
        "cat_pipe = Pipeline([\n",
        "    ('Imputer_mode',sim_imp_cat),\n",
        "    ('OneHotEncoder',one_hot)\n",
        "])\n",
        "num_pipe = Pipeline([\n",
        "    ('Imputer_mean',sim_imp_num),\n",
        "    ('RobustScaler',robust_scaler)\n",
        "])\n",
        "# ColumnTransformer\n",
        "col_transformer = ColumnTransformer([\n",
        "    (\"Categorical Transformation\",cat_pipe,categorical_columns),\n",
        "    (\"Numerical Transformation\",num_pipe,numerical_columns)\n",
        "])"
      ]
    },
    {
      "cell_type": "markdown",
      "metadata": {
        "id": "Bv1HOfcNEPF4"
      },
      "source": [
        "### 1.2 Entrenamiento [3 puntos]"
      ]
    },
    {
      "cell_type": "markdown",
      "metadata": {
        "id": "whPkuXTUBvB0"
      },
      "source": [
        "Ahora, vamos a entrenar los pipelines generados en los pasos anteriores. Para esto, debe realizar las siguientes tareas:\n",
        "\n",
        "1. Separe los datos de entrenamiento en un conjunto de entrenamiento y de prueba  (la proporción queda a su juicio). En este paso, seleccione los ejemplos de forma aleatoria e intente mantener la distribución original de labels de cada clase en los conjuntos de prueba/entrenamiento. (vea la documentación de `train_test_split`). [1 puntos]\n",
        "\n",
        "\n",
        "2. Defina un pipeline llamado `pipeline_xgboost` y otro llamado `pipeline_lightgbm`. Estos pipelines deben tener el mismo ColumnTransformer definido en la sección de preprocesamiento, pero deben variar los clasificadores de acuerdo al nombre de cada pipeline. [1 puntos]\n",
        "\n",
        "3. Entrene los pipelines. [1 punto]\n",
        "\n"
      ]
    },
    {
      "cell_type": "markdown",
      "metadata": {
        "id": "kbadONFtjGnE"
      },
      "source": [
        "**Respuesta:**"
      ]
    },
    {
      "cell_type": "code",
      "execution_count": 58,
      "metadata": {
        "id": "lLtlXGTPdWAV"
      },
      "outputs": [
        {
          "name": "stdout",
          "output_type": "stream",
          "text": [
            "[LightGBM] [Info] Number of positive: 860, number of negative: 13210\n",
            "[LightGBM] [Info] Auto-choosing col-wise multi-threading, the overhead of testing was 0.001579 seconds.\n",
            "You can set `force_col_wise=true` to remove the overhead.\n",
            "[LightGBM] [Info] Total Bins 2649\n",
            "[LightGBM] [Info] Number of data points in the train set: 14070, number of used features: 142\n",
            "[LightGBM] [Info] [binary:BoostFromScore]: pavg=0.061123 -> initscore=-2.731797\n",
            "[LightGBM] [Info] Start training from score -2.731797\n"
          ]
        }
      ],
      "source": [
        "# 1. Separamos la data\n",
        "from sklearn.model_selection import train_test_split\n",
        "# Ajustamos la data que nos interesa para el entrenamiento\n",
        "X = data.drop(['Name','National_Position','label'],axis=1)\n",
        "y = data['label']\n",
        "\n",
        "# Separamos aleatoriamente con mantención de proporción de clases y seleccionamos un 20% como test arbitrariamente.\n",
        "X_train, X_test, y_train, y_test = train_test_split(X, y, test_size=0.2, random_state=30,stratify=y)\n",
        "# 2. Pipeline XGBoost\n",
        "# Importamos\n",
        "from xgboost import XGBClassifier\n",
        "from lightgbm import LGBMClassifier\n",
        "# Instanciamos los clasificadores\n",
        "xgb_model = XGBClassifier()\n",
        "lgbm_model = LGBMClassifier()\n",
        "\n",
        "# Creamos la instancia\n",
        "pipeline_xgboost = Pipeline([\n",
        "    ('Column_Transformer',col_transformer),\n",
        "    ('xgb_classifier',xgb_model)\n",
        "])\n",
        "pipeline_lightgbm = Pipeline([\n",
        "    ('Column_Transformer',col_transformer),\n",
        "    ('lgbm_classifier',lgbm_model)\n",
        "])\n",
        "# 3. Entrenamos\n",
        "y_pred_xgboost = pipeline_xgboost.fit(X_train, y_train)\n",
        "y_pred_lgbm = pipeline_lightgbm.fit(X_train, y_train)\n",
        "y_pred_xgboost = pipeline_xgboost.predict(X_test)\n",
        "y_pred_lgbm = pipeline_lightgbm.predict(X_test)\n"
      ]
    },
    {
      "cell_type": "markdown",
      "metadata": {
        "id": "poc9HSNBFeKO"
      },
      "source": [
        "### 1.3 Resultados [6 puntos]"
      ]
    },
    {
      "cell_type": "markdown",
      "metadata": {
        "id": "tGGCj8YtFil1"
      },
      "source": [
        "1. Calcule las métricas accuracy, precisión y recall de la clase positiva (la que indica que un jugador es seleccionado nacional) para evaluar el rendimiento de los distintos modelos. Verifique sus resultados usando `classification_report`. [2 puntos]\n",
        "\n",
        "2. Explique qué implican los valores de accuracy, precisión y recall de la clase positiva (la que indica que un jugador es seleccionado nacional) y cómo influye la cantidad de ejemplos por clase en los resultados obtenidos. [2 puntos]\n",
        "\n",
        "3. Explique qué métrica le parece más adecuada y concluya qué modelo tiene un mejor desempeño. [2 puntos]"
      ]
    },
    {
      "cell_type": "markdown",
      "metadata": {
        "id": "A1hkVFdujJTi"
      },
      "source": [
        "**Respuesta:**"
      ]
    },
    {
      "cell_type": "code",
      "execution_count": 59,
      "metadata": {
        "id": "QNmI_tbbdQte"
      },
      "outputs": [
        {
          "name": "stdout",
          "output_type": "stream",
          "text": [
            "Métricas de desempeño XGBoost:\n",
            "Accuracy: 0.9499715747583855\n",
            "Precisión para la clase 1: 0.6611570247933884\n",
            "Recall para la clase 1: 0.37209302325581395\n",
            "F1-Score para la clase 1: 0.47619047619047616\n",
            "Matriz de Confusión:\n",
            "[[3262   41]\n",
            " [ 135   80]]\n",
            "Clasification Report:\n",
            "              precision    recall  f1-score   support\n",
            "\n",
            "           0       0.96      0.99      0.97      3303\n",
            "           1       0.66      0.37      0.48       215\n",
            "\n",
            "    accuracy                           0.95      3518\n",
            "   macro avg       0.81      0.68      0.72      3518\n",
            "weighted avg       0.94      0.95      0.94      3518\n",
            "\n",
            "Métricas de desempeño LGBM:\n",
            "Accuracy: 0.9502558271745309\n",
            "Precisión para la clase 1: 0.6666666666666666\n",
            "Recall para la clase 1: 0.37209302325581395\n",
            "F1-Score para la clase 1: 0.47761194029850745\n",
            "Matriz de Confusión:\n",
            "[[3263   40]\n",
            " [ 135   80]]\n",
            "Clasification Report:\n",
            "              precision    recall  f1-score   support\n",
            "\n",
            "           0       0.96      0.99      0.97      3303\n",
            "           1       0.67      0.37      0.48       215\n",
            "\n",
            "    accuracy                           0.95      3518\n",
            "   macro avg       0.81      0.68      0.73      3518\n",
            "weighted avg       0.94      0.95      0.94      3518\n",
            "\n"
          ]
        }
      ],
      "source": [
        "# 1. \n",
        "# Importamos\n",
        "from sklearn.metrics import accuracy_score,precision_score,recall_score,f1_score,classification_report,confusion_matrix\n",
        "# XGBoost\n",
        "accuracy_xgboost = accuracy_score(y_test, y_pred_xgboost)\n",
        "precision_xgboost = precision_score(y_test, y_pred_xgboost, average=None)\n",
        "recall_xgboost = recall_score(y_test, y_pred_xgboost, average=None)\n",
        "f1_xgboost = f1_score(y_test, y_pred_xgboost, average=None)\n",
        "cm_xgboost = confusion_matrix(y_test, y_pred_xgboost)\n",
        "report_xgboost = classification_report(y_test, y_pred_xgboost)\n",
        "print(\"Métricas de desempeño XGBoost:\")\n",
        "print(\"Accuracy:\",accuracy_xgboost)\n",
        "print(\"Precisión para la clase 1:\",precision_xgboost[1])\n",
        "print(\"Recall para la clase 1:\",recall_xgboost[1])\n",
        "print(\"F1-Score para la clase 1:\",f1_xgboost[1])\n",
        "print(\"Matriz de Confusión:\")\n",
        "print(cm_xgboost)\n",
        "print(\"Clasification Report:\")\n",
        "print(report_xgboost)\n",
        "# LightGBM\n",
        "accuracy_lgbm = accuracy_score(y_test, y_pred_lgbm)\n",
        "precision_lgbm = precision_score(y_test, y_pred_lgbm, average=None)\n",
        "recall_lgbm = recall_score(y_test, y_pred_lgbm, average=None)\n",
        "f1_lgbm = f1_score(y_test, y_pred_lgbm, average=None)\n",
        "cm_lgbm = confusion_matrix(y_test, y_pred_lgbm)\n",
        "report_lgbm = classification_report(y_test, y_pred_lgbm)\n",
        "print(\"Métricas de desempeño LGBM:\")\n",
        "print(\"Accuracy:\",accuracy_lgbm)\n",
        "print(\"Precisión para la clase 1:\",precision_lgbm[1])\n",
        "print(\"Recall para la clase 1:\",recall_lgbm[1])\n",
        "print(\"F1-Score para la clase 1:\",f1_lgbm[1])\n",
        "print(\"Matriz de Confusión:\")\n",
        "print(cm_lgbm)\n",
        "print(\"Clasification Report:\")\n",
        "print(report_lgbm)"
      ]
    },
    {
      "cell_type": "markdown",
      "metadata": {},
      "source": [
        "2. De las métricas entregadas, vemos que se tiene un accuracy alto lo cual quiere decir que el total de predicciones que hace el modelo son en su mayoría correctas sin distinguir por clase. Sin embargo, si nos fijamos en la clase 1 minoritaria se tienen métricas muy menores a lo que se esperaría de un accuracy alto y de las métricas para la clase 0, lo cual se debe al desbalance de clases. En primer lugar, el precision para ambos casos es de aproximadamente 0.66, es decir de todas las predicciones de 1 que realizó el modelo solo acerto 2/3 de ellas aproximadamente. El recall de 0.37 indica que de los valores con etiqueta 1 real, el modelo predice correctamente solo un 37% lo cual es desalentador. La cantidad de elementos de la clase minoritaria hace que los modelos sean menos potentes para detectar a la clase minoritaria lo cual es reflejado por el precision y recall de la clase 1. Cabe mencionar que F1-Score es cercano a 1/2 y el promedio armónico de ambas métricas descritas es bajo y hay un mal desempeño en general.\n",
        "3. La mejor métrica en el caso de que nuestro objetivo sea predecir si un jugador es o no seleccionado nacional primero debe ser respecto a la clase 1, es decir evaluamos qué tan bueno es el modelo para predecir la clase minoritaria que es de interés. La métrica podemos recomendarla acorde al costo que significaría tener un falso positivo (Precision) o falso negativo (Recall). En este caso no hay un costo específico asociado a privilegiar uno sobre el otro especialmente, pero si buscamos una métrica que considere ambos para predecir mejor la clase minoritaria. Por esto la métrica recomendada es el F1-Score que encuentra el balance entre ambas métricas y considera ambos efectos.\n",
        "Finalmente, ambos modelos se comportan muy similarmente y no hay una diferencia sustancial que valga la pena destacar. Solo LGBM clasifica un ejemplo de la clase 0 corectamente más que XGBoost, pero no necesariamente puede deberse a que un modelo es mejor que el otro basados solo en ese elemento. En ese sentido, ambos modelos se desempeñan de igual forma."
      ]
    },
    {
      "cell_type": "markdown",
      "metadata": {
        "id": "uy5VMU6ae_g6"
      },
      "source": [
        "## 2. Predicción de posiciones de jugadores [4 puntos]"
      ]
    },
    {
      "cell_type": "markdown",
      "metadata": {
        "id": "S0PGg_hLgr4H"
      },
      "source": [
        "<p align=\"center\">\n",
        "  <img src=\"https://pbs.twimg.com/media/E1rfA1aWEAYU6Ny.jpg\" width=\"300\">\n",
        "</p>"
      ]
    },
    {
      "cell_type": "markdown",
      "metadata": {
        "id": "I6rSnAesfOm3"
      },
      "source": [
        "En una nueva jornada de desmesuradas transacciones deportivas, Renacín escuchó a sus colegas discutir acerca de que el precio de cada jugador depende en gran medida de la posición en la cancha en la que juega. Y además, que hay bastantes jugadores nuevos que no tienen muy claro en que posición verdaderamente brillarían, por lo que actualmente puede que actualmente estén jugando en posiciones sub-optimas.\n",
        "\n",
        "Viendo que los resultados del primer análisis no son tan esperanzadores, el corporeo los comanda a cambiar su tarea: ahora, les solicita que construyan un clasificador enfocado en predecir la mejor posición de los jugadores en la cancha según sus características.\n",
        "\n",
        "Para lograr esto, primero, les pide que etiqueten de la siguiente manera los valores que aparecen en el atributo `Club_Position`, pidiendo que agrupen los valores en los siguientes grupos:\n",
        "\n",
        "**Nota**:  Renacín les recalca que **no deben utilizar los valores ```Sub``` y ```Res``` de esta columna**.\n",
        "\n",
        "```python\n",
        "ataque = ['ST', 'CF']\n",
        "central_ataque = ['RW', 'CAM', 'LW']\n",
        "central = ['RM', 'CM', 'LM']\n",
        "central_defensa = ['RWB', 'CDM', 'LWB']\n",
        "defensa = ['RB', 'CB', 'LB']\n",
        "arquero = ['GK']\n",
        "```\n",
        "\n",
        "La elección del clasificador se justificar en base a la siguiente [guía](https://scikit-learn.org/stable/tutorial/machine_learning_map/index.html) y se deben comentar los resultados obtenidos en la clasificación.\n",
        "\n",
        "**Tareas:** [1 punto por tarea]\n",
        "\n",
        "1. En un nuevo dataframe, aplique las etiquetas descritas anteriormente en cada uno de los valores señalados en esta sección y guárdelos en la variable `label`.\n",
        "2. Cuente cuántos por clase quedan.\n",
        "3. Entrene el nuevo pipeline y ejecute una evaluación de este.  \n",
        "4. Comente los resultados obtenidos."
      ]
    },
    {
      "cell_type": "markdown",
      "metadata": {
        "id": "sBmSaWh8i2MI"
      },
      "source": [
        "**Respuesta:**"
      ]
    },
    {
      "cell_type": "code",
      "execution_count": 60,
      "metadata": {
        "id": "Ir_7zMh2i1vg"
      },
      "outputs": [
        {
          "name": "stdout",
          "output_type": "stream",
          "text": [
            "                Name Club_Position           label\n",
            "0  Cristiano Ronaldo            LW  central_ataque\n",
            "1       Lionel Messi            RW  central_ataque\n",
            "2             Neymar            LW  central_ataque\n",
            "3        Luis Suárez            ST          ataque\n",
            "4       Manuel Neuer            GK         arquero\n"
          ]
        }
      ],
      "source": [
        "# Diccionario que mapea las posiciones a las etiquetas correspondientes\n",
        "posicion_dict = {\n",
        "    'ST': 'ataque', 'CF': 'ataque',\n",
        "    'RW': 'central_ataque', 'CAM': 'central_ataque', 'LW': 'central_ataque',\n",
        "    'RM': 'central', 'CM': 'central', 'LM': 'central',\n",
        "    'RWB': 'central_defensa', 'CDM': 'central_defensa', 'LWB': 'central_defensa',\n",
        "    'RB': 'defensa', 'CB': 'defensa', 'LB': 'defensa',\n",
        "    'GK': 'arquero'\n",
        "}\n",
        "\n",
        "# Mapeamos\n",
        "df_labeled = data.copy()\n",
        "df_labeled['label'] = df_labeled['Club_Position'].map(posicion_dict)\n",
        "\n",
        "# Filtrar los valores no deseados: 'Sub' y 'Res'\n",
        "df_labeled = df_labeled[~df_labeled['Club_Position'].isin(['Sub', 'Res'])]\n",
        "\n",
        "print(df_labeled[['Name', 'Club_Position', 'label']].head())"
      ]
    },
    {
      "cell_type": "code",
      "execution_count": 61,
      "metadata": {},
      "outputs": [
        {
          "name": "stdout",
          "output_type": "stream",
          "text": [
            "label\n",
            "defensa            1180\n",
            "central             907\n",
            "arquero             632\n",
            "central_ataque      581\n",
            "ataque              430\n",
            "central_defensa     209\n",
            "Name: count, dtype: int64\n"
          ]
        }
      ],
      "source": [
        "# Contamos el número de jugadores por clase\n",
        "conteo_clases = df_labeled['label'].value_counts()\n",
        "print(conteo_clases)"
      ]
    },
    {
      "cell_type": "code",
      "execution_count": 62,
      "metadata": {},
      "outputs": [],
      "source": [
        "from sklearn.model_selection import train_test_split\n",
        "from sklearn.preprocessing import StandardScaler\n",
        "from sklearn.linear_model import SGDClassifier\n",
        "from sklearn.pipeline import Pipeline\n",
        "from sklearn.metrics import classification_report, accuracy_score\n",
        "\n",
        "# Definimos aquellas características que son propias de las habilidades del jugador, dejando fuera caraterísticas que no reflejan habilidad\n",
        "X = df_labeled[['Ball_Control', 'Dribbling', 'Marking', 'Sliding_Tackle', 'Standing_Tackle',\n",
        "                'Aggression', 'Reactions', 'Interceptions', 'Vision', 'Composure',\n",
        "                'Crossing', 'Short_Pass', 'Long_Pass', 'Acceleration', 'Speed', 'Stamina',\n",
        "                'Strength', 'Balance', 'Agility', 'Jumping', 'Heading', 'Shot_Power',\n",
        "                'Finishing', 'Long_Shots', 'Curve', 'Freekick_Accuracy', 'Penalties', 'Volleys']]\n",
        "\n",
        "y = df_labeled['label']\n",
        "\n",
        "# Dividimos en conjunto de entrenamiento y prueba\n",
        "dfX_train, dfX_test, dfy_train, dfy_test = train_test_split(X, y, test_size=0.3, random_state=42)"
      ]
    },
    {
      "cell_type": "code",
      "execution_count": 65,
      "metadata": {},
      "outputs": [
        {
          "name": "stdout",
          "output_type": "stream",
          "text": [
            "0.43103802672147995\n",
            "[nan 'central' 'central_ataque' 'arquero' 'ataque' 'defensa'\n",
            " 'central_defensa']\n",
            "(2768, 28) (2768,)\n",
            "Accuracy: 0.7301451750640479\n",
            "\n",
            "Classification Report:\n",
            "                  precision    recall  f1-score   support\n",
            "\n",
            "        arquero       1.00      0.99      0.99       188\n",
            "         ataque       0.81      0.83      0.82       144\n",
            "        central       0.59      0.42      0.49       251\n",
            " central_ataque       0.42      0.61      0.50       179\n",
            "central_defensa       0.50      0.02      0.04        55\n",
            "        defensa       0.85      0.94      0.89       354\n",
            "\n",
            "       accuracy                           0.73      1171\n",
            "      macro avg       0.69      0.64      0.62      1171\n",
            "   weighted avg       0.73      0.73      0.71      1171\n",
            "\n"
          ]
        }
      ],
      "source": [
        "# Calculamos el porcentaje de valores faltantes en y_train\n",
        "porcentaje_nan_y_train = dfy_train.isna().mean()\n",
        "print(porcentaje_nan_y_train)\n",
        "\n",
        "# Verificar valores únicos en y_test\n",
        "print(dfy_test.unique())\n",
        "\n",
        "# Notamos que existen valores Nan en y_test, por lo que los eliminamos y nos aseguramos de eliminar los mismos registrospara x_test\n",
        "X_test_clean = dfX_test[~dfy_test.isna()]\n",
        "y_test_clean = dfy_test.dropna()\n",
        "\n",
        "# Eliminamos filas con valores NaN en y_train y los correspondientes en X_train\n",
        "X_train_clean = dfX_train[~dfy_train.isna()]  \n",
        "y_train_clean = dfy_train.dropna()         \n",
        "\n",
        "# Verificamos que ambos tengan el mismo número de muestras\n",
        "print(X_train_clean.shape, y_train_clean.shape)\n",
        "\n",
        "# Creamos el pipeline con estandarización y SGDClassifier\n",
        "pipeline = Pipeline([\n",
        "    ('scaler', StandardScaler()),\n",
        "    ('classifier', SGDClassifier(random_state=42))\n",
        "])\n",
        "\n",
        "# Entrenamos el modelo\n",
        "pipeline.fit(X_train_clean, y_train_clean)\n",
        "\n",
        "# Hacemos la predicción sobre el conjunto de prueba\n",
        "y_pred = pipeline.predict(X_test_clean)\n",
        "\n",
        "# Evaluamos el rendimiento\n",
        "print(\"Accuracy:\", accuracy_score(y_test_clean, y_pred))\n",
        "print(\"\\nClassification Report:\\n\", classification_report(y_test_clean, y_pred))"
      ]
    },
    {
      "cell_type": "markdown",
      "metadata": {},
      "source": [
        "A partir de los pasos a seguir indicados en la guía, escogemos el método SGDClassifier para la clasificación, esto debido a que estamos prediciendo una categoría y nuestro dataset tiene más de 100000 datos.\n",
        "\n",
        "Con respecto a los resultados obtenidos, notamos que hay un buen rendimiento con respecto a las predicciones para arquero y defensa (alta precisión y recall). Por otro lado, vemos que al modelo se le dificulta hacer la clasificación para las posiciones intermedias (central y central_defensa), esto puede ser debido, posiblemente a que las características de los jugadores en estas posiciones son más similares entre sí o hay menos ejemplos para entrenar.\n",
        "\n",
        "En general, considerando el accuracy, vemos que el 73% de las predicciones del modelo son correctas, lo cual es aceptable, pero no excelente."
      ]
    },
    {
      "cell_type": "markdown",
      "metadata": {
        "id": "9bL2m8nNojXM"
      },
      "source": [
        "## 3. Predicciones de Seleccionados Nacionales para el Jere Klein [30 puntos]"
      ]
    },
    {
      "cell_type": "markdown",
      "metadata": {
        "id": "_2XmRsJdsEh_"
      },
      "source": [
        "<center>\n",
        "<img src='https://www.radioactiva.cl/wp-content/uploads/2024/04/Jere-Klein-1-768x432.webp' width=500 />"
      ]
    },
    {
      "cell_type": "markdown",
      "metadata": {
        "id": "AgmUoVDsqUPu"
      },
      "source": [
        "Después de alcanzar la fama como cantante urbano, Jere Klein decide explorar una nueva faceta. Con su amor por el fútbol y convencido de que los artistas urbanos poseen un talento y versatilidad excepcionales, Jere se embarca en un proyecto innovador: desarrollar un sistema de inteligencia artificial capaz de identificar a jugadores que tienen potencial para convertirse en futbolistas profesionales. Su teoría es que muchos artistas del género urbano chileno, con sus habilidades únicas y su disciplina, podrían destacarse también en el deporte. Con este sistema, Jere espera no solo abrir nuevas oportunidades para sus colegas artistas, sino también demostrar la amplia gama de talentos que pueden ofrecer."
      ]
    },
    {
      "cell_type": "markdown",
      "metadata": {
        "id": "rD8pQ5Zfq8dE"
      },
      "source": [
        "### 2.1 ¿Qué modelo de árbol es más de \"pana\"? [10 puntos]"
      ]
    },
    {
      "cell_type": "markdown",
      "metadata": {
        "id": "zB-KUA4g99eo"
      },
      "source": [
        "<center>\n",
        "<img src='https://64.media.tumblr.com/39189215a7d3d96823cb359f35b44e05/tumblr_psmrhrR3Xw1qf5hjqo4_540.gif' width=300 />"
      ]
    },
    {
      "cell_type": "markdown",
      "metadata": {
        "id": "uL-moVhB9vPH"
      },
      "source": [
        "\n",
        "**Tareas**\n",
        "\n",
        "\n",
        "1. Considerando el la variable llamada `label` creada en la sección 1.1. Para determinar cuál modelo de árbol sería más adecuado para la tarea en cuestión, utilice PyCaret. Este deberá centrarse exclusivamente en modelos de tipo árbol. Jere ha especificado que busca un modelo que tome decisiones rápidamente y que tenga una baja tasa de falsos positivos, ya que planea invertir en estos jugadores. [3 puntos] \n",
        "\n",
        "Para la comparación, utilice los siguientes modelos:\n",
        "\n",
        "```python\n",
        "['et', 'rf', 'dt', 'xgboost', 'lightgbm', 'catboost']\n",
        "```\n",
        "\n",
        "2. Explique en brevemente que son los modelos de la siguiente lista `['et', 'rf', 'dt']` y como funcionan. [3 punto]\n",
        "\n",
        "3. Tras realizar la comparación de modelos, seleccione aquel que muestre el mejor rendimiento en términos de velocidad y precisión, especialmente en la reducción de falsos positivos. Utilice la función `evaluate_model` de PyCaret para revisar y analizar los resultados obtenidos en los siguientes aspectos:\n",
        "\n",
        "  - **Confusión Matrix**: ¿Cómo se encuentran la tasa de verdaderos positivos y verdaderos negativos?\n",
        "  - **Threshold**: ¿Es acaso el umbral por defecto del modelo el mejor para las predicciones?\n",
        "  - **Feature Importance**: ¿Cuáles son las variables con mejor desempeño? ¿A qué podría deberse esto?\n",
        "  - **Learning Curve**: ¿El modelo presenta algún problema?\n",
        "\n",
        "  [4 puntos]"
      ]
    },
    {
      "cell_type": "markdown",
      "metadata": {
        "id": "qY85nrViYROF"
      },
      "source": [
        "**Respuesta**"
      ]
    },
    {
      "cell_type": "code",
      "execution_count": 66,
      "metadata": {
        "id": "kUCjOjsEYUXL"
      },
      "outputs": [
        {
          "data": {
            "text/html": [
              "<style type=\"text/css\">\n",
              "#T_d9db0_row10_col1 {\n",
              "  background-color: lightgreen;\n",
              "}\n",
              "</style>\n",
              "<table id=\"T_d9db0\">\n",
              "  <thead>\n",
              "    <tr>\n",
              "      <th class=\"blank level0\" >&nbsp;</th>\n",
              "      <th id=\"T_d9db0_level0_col0\" class=\"col_heading level0 col0\" >Description</th>\n",
              "      <th id=\"T_d9db0_level0_col1\" class=\"col_heading level0 col1\" >Value</th>\n",
              "    </tr>\n",
              "  </thead>\n",
              "  <tbody>\n",
              "    <tr>\n",
              "      <th id=\"T_d9db0_level0_row0\" class=\"row_heading level0 row0\" >0</th>\n",
              "      <td id=\"T_d9db0_row0_col0\" class=\"data row0 col0\" >Session id</td>\n",
              "      <td id=\"T_d9db0_row0_col1\" class=\"data row0 col1\" >8265</td>\n",
              "    </tr>\n",
              "    <tr>\n",
              "      <th id=\"T_d9db0_level0_row1\" class=\"row_heading level0 row1\" >1</th>\n",
              "      <td id=\"T_d9db0_row1_col0\" class=\"data row1 col0\" >Target</td>\n",
              "      <td id=\"T_d9db0_row1_col1\" class=\"data row1 col1\" >label</td>\n",
              "    </tr>\n",
              "    <tr>\n",
              "      <th id=\"T_d9db0_level0_row2\" class=\"row_heading level0 row2\" >2</th>\n",
              "      <td id=\"T_d9db0_row2_col0\" class=\"data row2 col0\" >Target type</td>\n",
              "      <td id=\"T_d9db0_row2_col1\" class=\"data row2 col1\" >Binary</td>\n",
              "    </tr>\n",
              "    <tr>\n",
              "      <th id=\"T_d9db0_level0_row3\" class=\"row_heading level0 row3\" >3</th>\n",
              "      <td id=\"T_d9db0_row3_col0\" class=\"data row3 col0\" >Original data shape</td>\n",
              "      <td id=\"T_d9db0_row3_col1\" class=\"data row3 col1\" >(17588, 40)</td>\n",
              "    </tr>\n",
              "    <tr>\n",
              "      <th id=\"T_d9db0_level0_row4\" class=\"row_heading level0 row4\" >4</th>\n",
              "      <td id=\"T_d9db0_row4_col0\" class=\"data row4 col0\" >Transformed data shape</td>\n",
              "      <td id=\"T_d9db0_row4_col1\" class=\"data row4 col1\" >(17588, 48)</td>\n",
              "    </tr>\n",
              "    <tr>\n",
              "      <th id=\"T_d9db0_level0_row5\" class=\"row_heading level0 row5\" >5</th>\n",
              "      <td id=\"T_d9db0_row5_col0\" class=\"data row5 col0\" >Transformed train set shape</td>\n",
              "      <td id=\"T_d9db0_row5_col1\" class=\"data row5 col1\" >(12311, 48)</td>\n",
              "    </tr>\n",
              "    <tr>\n",
              "      <th id=\"T_d9db0_level0_row6\" class=\"row_heading level0 row6\" >6</th>\n",
              "      <td id=\"T_d9db0_row6_col0\" class=\"data row6 col0\" >Transformed test set shape</td>\n",
              "      <td id=\"T_d9db0_row6_col1\" class=\"data row6 col1\" >(5277, 48)</td>\n",
              "    </tr>\n",
              "    <tr>\n",
              "      <th id=\"T_d9db0_level0_row7\" class=\"row_heading level0 row7\" >7</th>\n",
              "      <td id=\"T_d9db0_row7_col0\" class=\"data row7 col0\" >Numeric features</td>\n",
              "      <td id=\"T_d9db0_row7_col1\" class=\"data row7 col1\" >33</td>\n",
              "    </tr>\n",
              "    <tr>\n",
              "      <th id=\"T_d9db0_level0_row8\" class=\"row_heading level0 row8\" >8</th>\n",
              "      <td id=\"T_d9db0_row8_col0\" class=\"data row8 col0\" >Categorical features</td>\n",
              "      <td id=\"T_d9db0_row8_col1\" class=\"data row8 col1\" >6</td>\n",
              "    </tr>\n",
              "    <tr>\n",
              "      <th id=\"T_d9db0_level0_row9\" class=\"row_heading level0 row9\" >9</th>\n",
              "      <td id=\"T_d9db0_row9_col0\" class=\"data row9 col0\" >Rows with missing values</td>\n",
              "      <td id=\"T_d9db0_row9_col1\" class=\"data row9 col1\" >93.9%</td>\n",
              "    </tr>\n",
              "    <tr>\n",
              "      <th id=\"T_d9db0_level0_row10\" class=\"row_heading level0 row10\" >10</th>\n",
              "      <td id=\"T_d9db0_row10_col0\" class=\"data row10 col0\" >Preprocess</td>\n",
              "      <td id=\"T_d9db0_row10_col1\" class=\"data row10 col1\" >True</td>\n",
              "    </tr>\n",
              "    <tr>\n",
              "      <th id=\"T_d9db0_level0_row11\" class=\"row_heading level0 row11\" >11</th>\n",
              "      <td id=\"T_d9db0_row11_col0\" class=\"data row11 col0\" >Imputation type</td>\n",
              "      <td id=\"T_d9db0_row11_col1\" class=\"data row11 col1\" >simple</td>\n",
              "    </tr>\n",
              "    <tr>\n",
              "      <th id=\"T_d9db0_level0_row12\" class=\"row_heading level0 row12\" >12</th>\n",
              "      <td id=\"T_d9db0_row12_col0\" class=\"data row12 col0\" >Numeric imputation</td>\n",
              "      <td id=\"T_d9db0_row12_col1\" class=\"data row12 col1\" >mean</td>\n",
              "    </tr>\n",
              "    <tr>\n",
              "      <th id=\"T_d9db0_level0_row13\" class=\"row_heading level0 row13\" >13</th>\n",
              "      <td id=\"T_d9db0_row13_col0\" class=\"data row13 col0\" >Categorical imputation</td>\n",
              "      <td id=\"T_d9db0_row13_col1\" class=\"data row13 col1\" >mode</td>\n",
              "    </tr>\n",
              "    <tr>\n",
              "      <th id=\"T_d9db0_level0_row14\" class=\"row_heading level0 row14\" >14</th>\n",
              "      <td id=\"T_d9db0_row14_col0\" class=\"data row14 col0\" >Maximum one-hot encoding</td>\n",
              "      <td id=\"T_d9db0_row14_col1\" class=\"data row14 col1\" >25</td>\n",
              "    </tr>\n",
              "    <tr>\n",
              "      <th id=\"T_d9db0_level0_row15\" class=\"row_heading level0 row15\" >15</th>\n",
              "      <td id=\"T_d9db0_row15_col0\" class=\"data row15 col0\" >Encoding method</td>\n",
              "      <td id=\"T_d9db0_row15_col1\" class=\"data row15 col1\" >None</td>\n",
              "    </tr>\n",
              "    <tr>\n",
              "      <th id=\"T_d9db0_level0_row16\" class=\"row_heading level0 row16\" >16</th>\n",
              "      <td id=\"T_d9db0_row16_col0\" class=\"data row16 col0\" >Fold Generator</td>\n",
              "      <td id=\"T_d9db0_row16_col1\" class=\"data row16 col1\" >StratifiedKFold</td>\n",
              "    </tr>\n",
              "    <tr>\n",
              "      <th id=\"T_d9db0_level0_row17\" class=\"row_heading level0 row17\" >17</th>\n",
              "      <td id=\"T_d9db0_row17_col0\" class=\"data row17 col0\" >Fold Number</td>\n",
              "      <td id=\"T_d9db0_row17_col1\" class=\"data row17 col1\" >5</td>\n",
              "    </tr>\n",
              "    <tr>\n",
              "      <th id=\"T_d9db0_level0_row18\" class=\"row_heading level0 row18\" >18</th>\n",
              "      <td id=\"T_d9db0_row18_col0\" class=\"data row18 col0\" >CPU Jobs</td>\n",
              "      <td id=\"T_d9db0_row18_col1\" class=\"data row18 col1\" >-1</td>\n",
              "    </tr>\n",
              "    <tr>\n",
              "      <th id=\"T_d9db0_level0_row19\" class=\"row_heading level0 row19\" >19</th>\n",
              "      <td id=\"T_d9db0_row19_col0\" class=\"data row19 col0\" >Use GPU</td>\n",
              "      <td id=\"T_d9db0_row19_col1\" class=\"data row19 col1\" >False</td>\n",
              "    </tr>\n",
              "    <tr>\n",
              "      <th id=\"T_d9db0_level0_row20\" class=\"row_heading level0 row20\" >20</th>\n",
              "      <td id=\"T_d9db0_row20_col0\" class=\"data row20 col0\" >Log Experiment</td>\n",
              "      <td id=\"T_d9db0_row20_col1\" class=\"data row20 col1\" >False</td>\n",
              "    </tr>\n",
              "    <tr>\n",
              "      <th id=\"T_d9db0_level0_row21\" class=\"row_heading level0 row21\" >21</th>\n",
              "      <td id=\"T_d9db0_row21_col0\" class=\"data row21 col0\" >Experiment Name</td>\n",
              "      <td id=\"T_d9db0_row21_col1\" class=\"data row21 col1\" >clf-default-name</td>\n",
              "    </tr>\n",
              "    <tr>\n",
              "      <th id=\"T_d9db0_level0_row22\" class=\"row_heading level0 row22\" >22</th>\n",
              "      <td id=\"T_d9db0_row22_col0\" class=\"data row22 col0\" >USI</td>\n",
              "      <td id=\"T_d9db0_row22_col1\" class=\"data row22 col1\" >0138</td>\n",
              "    </tr>\n",
              "  </tbody>\n",
              "</table>\n"
            ],
            "text/plain": [
              "<pandas.io.formats.style.Styler at 0x246bbae74f0>"
            ]
          },
          "metadata": {},
          "output_type": "display_data"
        },
        {
          "data": {
            "text/html": [],
            "text/plain": [
              "<IPython.core.display.HTML object>"
            ]
          },
          "metadata": {},
          "output_type": "display_data"
        },
        {
          "data": {
            "text/html": [
              "<style type=\"text/css\">\n",
              "#T_54d72 th {\n",
              "  text-align: left;\n",
              "}\n",
              "#T_54d72_row0_col0, #T_54d72_row0_col2, #T_54d72_row0_col4, #T_54d72_row1_col0, #T_54d72_row1_col1, #T_54d72_row1_col2, #T_54d72_row1_col3, #T_54d72_row1_col5, #T_54d72_row1_col6, #T_54d72_row1_col7, #T_54d72_row2_col0, #T_54d72_row2_col1, #T_54d72_row2_col2, #T_54d72_row2_col3, #T_54d72_row2_col4, #T_54d72_row2_col5, #T_54d72_row2_col6, #T_54d72_row2_col7, #T_54d72_row3_col0, #T_54d72_row3_col1, #T_54d72_row3_col3, #T_54d72_row3_col4, #T_54d72_row3_col5, #T_54d72_row3_col6, #T_54d72_row3_col7, #T_54d72_row4_col0, #T_54d72_row4_col1, #T_54d72_row4_col2, #T_54d72_row4_col3, #T_54d72_row4_col4, #T_54d72_row4_col5, #T_54d72_row4_col6, #T_54d72_row4_col7, #T_54d72_row5_col0, #T_54d72_row5_col1, #T_54d72_row5_col2, #T_54d72_row5_col3, #T_54d72_row5_col4, #T_54d72_row5_col5, #T_54d72_row5_col6, #T_54d72_row5_col7 {\n",
              "  text-align: left;\n",
              "}\n",
              "#T_54d72_row0_col1, #T_54d72_row0_col3, #T_54d72_row0_col5, #T_54d72_row0_col6, #T_54d72_row0_col7, #T_54d72_row1_col4, #T_54d72_row3_col2 {\n",
              "  text-align: left;\n",
              "  background-color: yellow;\n",
              "}\n",
              "#T_54d72_row0_col8 {\n",
              "  text-align: left;\n",
              "  background-color: yellow;\n",
              "  background-color: lightgrey;\n",
              "}\n",
              "#T_54d72_row1_col8, #T_54d72_row2_col8, #T_54d72_row3_col8, #T_54d72_row4_col8, #T_54d72_row5_col8 {\n",
              "  text-align: left;\n",
              "  background-color: lightgrey;\n",
              "}\n",
              "</style>\n",
              "<table id=\"T_54d72\">\n",
              "  <thead>\n",
              "    <tr>\n",
              "      <th class=\"blank level0\" >&nbsp;</th>\n",
              "      <th id=\"T_54d72_level0_col0\" class=\"col_heading level0 col0\" >Model</th>\n",
              "      <th id=\"T_54d72_level0_col1\" class=\"col_heading level0 col1\" >Accuracy</th>\n",
              "      <th id=\"T_54d72_level0_col2\" class=\"col_heading level0 col2\" >AUC</th>\n",
              "      <th id=\"T_54d72_level0_col3\" class=\"col_heading level0 col3\" >Recall</th>\n",
              "      <th id=\"T_54d72_level0_col4\" class=\"col_heading level0 col4\" >Prec.</th>\n",
              "      <th id=\"T_54d72_level0_col5\" class=\"col_heading level0 col5\" >F1</th>\n",
              "      <th id=\"T_54d72_level0_col6\" class=\"col_heading level0 col6\" >Kappa</th>\n",
              "      <th id=\"T_54d72_level0_col7\" class=\"col_heading level0 col7\" >MCC</th>\n",
              "      <th id=\"T_54d72_level0_col8\" class=\"col_heading level0 col8\" >TT (Sec)</th>\n",
              "    </tr>\n",
              "  </thead>\n",
              "  <tbody>\n",
              "    <tr>\n",
              "      <th id=\"T_54d72_level0_row0\" class=\"row_heading level0 row0\" >dt</th>\n",
              "      <td id=\"T_54d72_row0_col0\" class=\"data row0 col0\" >Decision Tree Classifier</td>\n",
              "      <td id=\"T_54d72_row0_col1\" class=\"data row0 col1\" >0.9598</td>\n",
              "      <td id=\"T_54d72_row0_col2\" class=\"data row0 col2\" >0.6757</td>\n",
              "      <td id=\"T_54d72_row0_col3\" class=\"data row0 col3\" >0.3521</td>\n",
              "      <td id=\"T_54d72_row0_col4\" class=\"data row0 col4\" >0.7846</td>\n",
              "      <td id=\"T_54d72_row0_col5\" class=\"data row0 col5\" >0.4850</td>\n",
              "      <td id=\"T_54d72_row0_col6\" class=\"data row0 col6\" >0.4723</td>\n",
              "      <td id=\"T_54d72_row0_col7\" class=\"data row0 col7\" >0.5134</td>\n",
              "      <td id=\"T_54d72_row0_col8\" class=\"data row0 col8\" >0.1020</td>\n",
              "    </tr>\n",
              "    <tr>\n",
              "      <th id=\"T_54d72_level0_row1\" class=\"row_heading level0 row1\" >et</th>\n",
              "      <td id=\"T_54d72_row1_col0\" class=\"data row1 col0\" >Extra Trees Classifier</td>\n",
              "      <td id=\"T_54d72_row1_col1\" class=\"data row1 col1\" >0.9487</td>\n",
              "      <td id=\"T_54d72_row1_col2\" class=\"data row1 col2\" >0.9046</td>\n",
              "      <td id=\"T_54d72_row1_col3\" class=\"data row1 col3\" >0.1687</td>\n",
              "      <td id=\"T_54d72_row1_col4\" class=\"data row1 col4\" >0.9449</td>\n",
              "      <td id=\"T_54d72_row1_col5\" class=\"data row1 col5\" >0.2840</td>\n",
              "      <td id=\"T_54d72_row1_col6\" class=\"data row1 col6\" >0.2710</td>\n",
              "      <td id=\"T_54d72_row1_col7\" class=\"data row1 col7\" >0.3847</td>\n",
              "      <td id=\"T_54d72_row1_col8\" class=\"data row1 col8\" >0.1880</td>\n",
              "    </tr>\n",
              "    <tr>\n",
              "      <th id=\"T_54d72_level0_row2\" class=\"row_heading level0 row2\" >lightgbm</th>\n",
              "      <td id=\"T_54d72_row2_col0\" class=\"data row2 col0\" >Light Gradient Boosting Machine</td>\n",
              "      <td id=\"T_54d72_row2_col1\" class=\"data row2 col1\" >0.9485</td>\n",
              "      <td id=\"T_54d72_row2_col2\" class=\"data row2 col2\" >0.6230</td>\n",
              "      <td id=\"T_54d72_row2_col3\" class=\"data row2 col3\" >0.1636</td>\n",
              "      <td id=\"T_54d72_row2_col4\" class=\"data row2 col4\" >0.7718</td>\n",
              "      <td id=\"T_54d72_row2_col5\" class=\"data row2 col5\" >0.2478</td>\n",
              "      <td id=\"T_54d72_row2_col6\" class=\"data row2 col6\" >0.2389</td>\n",
              "      <td id=\"T_54d72_row2_col7\" class=\"data row2 col7\" >0.3121</td>\n",
              "      <td id=\"T_54d72_row2_col8\" class=\"data row2 col8\" >0.2520</td>\n",
              "    </tr>\n",
              "    <tr>\n",
              "      <th id=\"T_54d72_level0_row3\" class=\"row_heading level0 row3\" >rf</th>\n",
              "      <td id=\"T_54d72_row3_col0\" class=\"data row3 col0\" >Random Forest Classifier</td>\n",
              "      <td id=\"T_54d72_row3_col1\" class=\"data row3 col1\" >0.9465</td>\n",
              "      <td id=\"T_54d72_row3_col2\" class=\"data row3 col2\" >0.9366</td>\n",
              "      <td id=\"T_54d72_row3_col3\" class=\"data row3 col3\" >0.1301</td>\n",
              "      <td id=\"T_54d72_row3_col4\" class=\"data row3 col4\" >0.9119</td>\n",
              "      <td id=\"T_54d72_row3_col5\" class=\"data row3 col5\" >0.2214</td>\n",
              "      <td id=\"T_54d72_row3_col6\" class=\"data row3 col6\" >0.2109</td>\n",
              "      <td id=\"T_54d72_row3_col7\" class=\"data row3 col7\" >0.3205</td>\n",
              "      <td id=\"T_54d72_row3_col8\" class=\"data row3 col8\" >0.2760</td>\n",
              "    </tr>\n",
              "    <tr>\n",
              "      <th id=\"T_54d72_level0_row4\" class=\"row_heading level0 row4\" >catboost</th>\n",
              "      <td id=\"T_54d72_row4_col0\" class=\"data row4 col0\" >CatBoost Classifier</td>\n",
              "      <td id=\"T_54d72_row4_col1\" class=\"data row4 col1\" >0.9384</td>\n",
              "      <td id=\"T_54d72_row4_col2\" class=\"data row4 col2\" >0.8715</td>\n",
              "      <td id=\"T_54d72_row4_col3\" class=\"data row4 col3\" >0.0000</td>\n",
              "      <td id=\"T_54d72_row4_col4\" class=\"data row4 col4\" >0.0000</td>\n",
              "      <td id=\"T_54d72_row4_col5\" class=\"data row4 col5\" >0.0000</td>\n",
              "      <td id=\"T_54d72_row4_col6\" class=\"data row4 col6\" >-0.0010</td>\n",
              "      <td id=\"T_54d72_row4_col7\" class=\"data row4 col7\" >-0.0050</td>\n",
              "      <td id=\"T_54d72_row4_col8\" class=\"data row4 col8\" >2.0860</td>\n",
              "    </tr>\n",
              "    <tr>\n",
              "      <th id=\"T_54d72_level0_row5\" class=\"row_heading level0 row5\" >xgboost</th>\n",
              "      <td id=\"T_54d72_row5_col0\" class=\"data row5 col0\" >Extreme Gradient Boosting</td>\n",
              "      <td id=\"T_54d72_row5_col1\" class=\"data row5 col1\" >0.9383</td>\n",
              "      <td id=\"T_54d72_row5_col2\" class=\"data row5 col2\" >0.8087</td>\n",
              "      <td id=\"T_54d72_row5_col3\" class=\"data row5 col3\" >0.0000</td>\n",
              "      <td id=\"T_54d72_row5_col4\" class=\"data row5 col4\" >0.0000</td>\n",
              "      <td id=\"T_54d72_row5_col5\" class=\"data row5 col5\" >0.0000</td>\n",
              "      <td id=\"T_54d72_row5_col6\" class=\"data row5 col6\" >-0.0011</td>\n",
              "      <td id=\"T_54d72_row5_col7\" class=\"data row5 col7\" >-0.0053</td>\n",
              "      <td id=\"T_54d72_row5_col8\" class=\"data row5 col8\" >0.1660</td>\n",
              "    </tr>\n",
              "  </tbody>\n",
              "</table>\n"
            ],
            "text/plain": [
              "<pandas.io.formats.style.Styler at 0x246b82eaa40>"
            ]
          },
          "metadata": {},
          "output_type": "display_data"
        },
        {
          "data": {
            "text/html": [],
            "text/plain": [
              "<IPython.core.display.HTML object>"
            ]
          },
          "metadata": {},
          "output_type": "display_data"
        },
        {
          "data": {
            "application/vnd.jupyter.widget-view+json": {
              "model_id": "b172c0ef9de84af79e46dfc99d5e1e7c",
              "version_major": 2,
              "version_minor": 0
            },
            "text/plain": [
              "interactive(children=(ToggleButtons(description='Plot Type:', icons=('',), options=(('Pipeline Plot', 'pipelin…"
            ]
          },
          "metadata": {},
          "output_type": "display_data"
        },
        {
          "name": "stdout",
          "output_type": "stream",
          "text": [
            "DecisionTreeClassifier(ccp_alpha=0.0, class_weight=None, criterion='gini',\n",
            "                       max_depth=None, max_features=None, max_leaf_nodes=None,\n",
            "                       min_impurity_decrease=0.0, min_samples_leaf=1,\n",
            "                       min_samples_split=2, min_weight_fraction_leaf=0.0,\n",
            "                       monotonic_cst=None, random_state=8265, splitter='best')\n"
          ]
        }
      ],
      "source": [
        "from pycaret.datasets import get_data\n",
        "from pycaret.classification import *\n",
        "import os\n",
        "\n",
        "os.environ[\"PYCARET_CUSTOM_LOGGING_LEVEL\"] = \"CRITICAL\"\n",
        "\n",
        "#Continuar código aquí\n",
        "\n",
        "# Configuramos entorno de PyCaret para clasificación\n",
        "clf = setup(data, target='label', fold=5)\n",
        "\n",
        "# Comparar los modelos de árbol\n",
        "best_model = compare_models(include=['et', 'rf', 'dt', 'xgboost', 'lightgbm', 'catboost'])\n",
        "\n",
        "# Evaluar el mejor modelo\n",
        "evaluate_model(best_model)\n",
        "\n",
        "# Obtener las métricas más detalladas\n",
        "print(best_model)\n"
      ]
    },
    {
      "cell_type": "markdown",
      "metadata": {},
      "source": [
        "En términos de reducir la cantidad de falsos positivos, notamos que el modelo que muestra un mejor rendimiento en este aspecto es el modelo 'Random Forest Classifier' con un Precision de 0.93 (métrica quemide qué proporción de las predicciones positivas hechas por el modelo son verdaderamente correctas). además de ser el modelo con mejor rendimiento en términos de velocidad (TT(sec) = 0.17), por lo que Decision Tree Classifier sería el modelo de árbol más adecuado.Además, es el cuarto modelo con mejor rendimiento en términos de velocidad (TT(sec) = 0.45), por lo que rf sería el modelo de árbol más adecuado.\n",
        "\n"
      ]
    },
    {
      "cell_type": "code",
      "execution_count": 67,
      "metadata": {},
      "outputs": [
        {
          "data": {
            "text/html": [],
            "text/plain": [
              "<IPython.core.display.HTML object>"
            ]
          },
          "metadata": {},
          "output_type": "display_data"
        },
        {
          "data": {
            "text/html": [
              "<style type=\"text/css\">\n",
              "#T_40ff1_row5_col0, #T_40ff1_row5_col1, #T_40ff1_row5_col2, #T_40ff1_row5_col3, #T_40ff1_row5_col4, #T_40ff1_row5_col5, #T_40ff1_row5_col6 {\n",
              "  background: yellow;\n",
              "}\n",
              "</style>\n",
              "<table id=\"T_40ff1\">\n",
              "  <thead>\n",
              "    <tr>\n",
              "      <th class=\"blank level0\" >&nbsp;</th>\n",
              "      <th id=\"T_40ff1_level0_col0\" class=\"col_heading level0 col0\" >Accuracy</th>\n",
              "      <th id=\"T_40ff1_level0_col1\" class=\"col_heading level0 col1\" >AUC</th>\n",
              "      <th id=\"T_40ff1_level0_col2\" class=\"col_heading level0 col2\" >Recall</th>\n",
              "      <th id=\"T_40ff1_level0_col3\" class=\"col_heading level0 col3\" >Prec.</th>\n",
              "      <th id=\"T_40ff1_level0_col4\" class=\"col_heading level0 col4\" >F1</th>\n",
              "      <th id=\"T_40ff1_level0_col5\" class=\"col_heading level0 col5\" >Kappa</th>\n",
              "      <th id=\"T_40ff1_level0_col6\" class=\"col_heading level0 col6\" >MCC</th>\n",
              "    </tr>\n",
              "    <tr>\n",
              "      <th class=\"index_name level0\" >Fold</th>\n",
              "      <th class=\"blank col0\" >&nbsp;</th>\n",
              "      <th class=\"blank col1\" >&nbsp;</th>\n",
              "      <th class=\"blank col2\" >&nbsp;</th>\n",
              "      <th class=\"blank col3\" >&nbsp;</th>\n",
              "      <th class=\"blank col4\" >&nbsp;</th>\n",
              "      <th class=\"blank col5\" >&nbsp;</th>\n",
              "      <th class=\"blank col6\" >&nbsp;</th>\n",
              "    </tr>\n",
              "  </thead>\n",
              "  <tbody>\n",
              "    <tr>\n",
              "      <th id=\"T_40ff1_level0_row0\" class=\"row_heading level0 row0\" >0</th>\n",
              "      <td id=\"T_40ff1_row0_col0\" class=\"data row0 col0\" >0.9533</td>\n",
              "      <td id=\"T_40ff1_row0_col1\" class=\"data row0 col1\" >0.9401</td>\n",
              "      <td id=\"T_40ff1_row0_col2\" class=\"data row0 col2\" >0.2384</td>\n",
              "      <td id=\"T_40ff1_row0_col3\" class=\"data row0 col3\" >1.0000</td>\n",
              "      <td id=\"T_40ff1_row0_col4\" class=\"data row0 col4\" >0.3850</td>\n",
              "      <td id=\"T_40ff1_row0_col5\" class=\"data row0 col5\" >0.3702</td>\n",
              "      <td id=\"T_40ff1_row0_col6\" class=\"data row0 col6\" >0.4766</td>\n",
              "    </tr>\n",
              "    <tr>\n",
              "      <th id=\"T_40ff1_level0_row1\" class=\"row_heading level0 row1\" >1</th>\n",
              "      <td id=\"T_40ff1_row1_col0\" class=\"data row1 col0\" >0.9423</td>\n",
              "      <td id=\"T_40ff1_row1_col1\" class=\"data row1 col1\" >0.9340</td>\n",
              "      <td id=\"T_40ff1_row1_col2\" class=\"data row1 col2\" >0.0667</td>\n",
              "      <td id=\"T_40ff1_row1_col3\" class=\"data row1 col3\" >0.8333</td>\n",
              "      <td id=\"T_40ff1_row1_col4\" class=\"data row1 col4\" >0.1235</td>\n",
              "      <td id=\"T_40ff1_row1_col5\" class=\"data row1 col5\" >0.1155</td>\n",
              "      <td id=\"T_40ff1_row1_col6\" class=\"data row1 col6\" >0.2260</td>\n",
              "    </tr>\n",
              "    <tr>\n",
              "      <th id=\"T_40ff1_level0_row2\" class=\"row_heading level0 row2\" >2</th>\n",
              "      <td id=\"T_40ff1_row2_col0\" class=\"data row2 col0\" >0.9484</td>\n",
              "      <td id=\"T_40ff1_row2_col1\" class=\"data row2 col1\" >0.9414</td>\n",
              "      <td id=\"T_40ff1_row2_col2\" class=\"data row2 col2\" >0.1667</td>\n",
              "      <td id=\"T_40ff1_row2_col3\" class=\"data row2 col3\" >0.9259</td>\n",
              "      <td id=\"T_40ff1_row2_col4\" class=\"data row2 col4\" >0.2825</td>\n",
              "      <td id=\"T_40ff1_row2_col5\" class=\"data row2 col5\" >0.2689</td>\n",
              "      <td id=\"T_40ff1_row2_col6\" class=\"data row2 col6\" >0.3808</td>\n",
              "    </tr>\n",
              "    <tr>\n",
              "      <th id=\"T_40ff1_level0_row3\" class=\"row_heading level0 row3\" >3</th>\n",
              "      <td id=\"T_40ff1_row3_col0\" class=\"data row3 col0\" >0.9403</td>\n",
              "      <td id=\"T_40ff1_row3_col1\" class=\"data row3 col1\" >0.9198</td>\n",
              "      <td id=\"T_40ff1_row3_col2\" class=\"data row3 col2\" >0.0267</td>\n",
              "      <td id=\"T_40ff1_row3_col3\" class=\"data row3 col3\" >0.8000</td>\n",
              "      <td id=\"T_40ff1_row3_col4\" class=\"data row3 col4\" >0.0516</td>\n",
              "      <td id=\"T_40ff1_row3_col5\" class=\"data row3 col5\" >0.0479</td>\n",
              "      <td id=\"T_40ff1_row3_col6\" class=\"data row3 col6\" >0.1394</td>\n",
              "    </tr>\n",
              "    <tr>\n",
              "      <th id=\"T_40ff1_level0_row4\" class=\"row_heading level0 row4\" >4</th>\n",
              "      <td id=\"T_40ff1_row4_col0\" class=\"data row4 col0\" >0.9480</td>\n",
              "      <td id=\"T_40ff1_row4_col1\" class=\"data row4 col1\" >0.9477</td>\n",
              "      <td id=\"T_40ff1_row4_col2\" class=\"data row4 col2\" >0.1523</td>\n",
              "      <td id=\"T_40ff1_row4_col3\" class=\"data row4 col3\" >1.0000</td>\n",
              "      <td id=\"T_40ff1_row4_col4\" class=\"data row4 col4\" >0.2644</td>\n",
              "      <td id=\"T_40ff1_row4_col5\" class=\"data row4 col5\" >0.2522</td>\n",
              "      <td id=\"T_40ff1_row4_col6\" class=\"data row4 col6\" >0.3799</td>\n",
              "    </tr>\n",
              "    <tr>\n",
              "      <th id=\"T_40ff1_level0_row5\" class=\"row_heading level0 row5\" >Mean</th>\n",
              "      <td id=\"T_40ff1_row5_col0\" class=\"data row5 col0\" >0.9465</td>\n",
              "      <td id=\"T_40ff1_row5_col1\" class=\"data row5 col1\" >0.9366</td>\n",
              "      <td id=\"T_40ff1_row5_col2\" class=\"data row5 col2\" >0.1301</td>\n",
              "      <td id=\"T_40ff1_row5_col3\" class=\"data row5 col3\" >0.9119</td>\n",
              "      <td id=\"T_40ff1_row5_col4\" class=\"data row5 col4\" >0.2214</td>\n",
              "      <td id=\"T_40ff1_row5_col5\" class=\"data row5 col5\" >0.2109</td>\n",
              "      <td id=\"T_40ff1_row5_col6\" class=\"data row5 col6\" >0.3205</td>\n",
              "    </tr>\n",
              "    <tr>\n",
              "      <th id=\"T_40ff1_level0_row6\" class=\"row_heading level0 row6\" >Std</th>\n",
              "      <td id=\"T_40ff1_row6_col0\" class=\"data row6 col0\" >0.0047</td>\n",
              "      <td id=\"T_40ff1_row6_col1\" class=\"data row6 col1\" >0.0095</td>\n",
              "      <td id=\"T_40ff1_row6_col2\" class=\"data row6 col2\" >0.0752</td>\n",
              "      <td id=\"T_40ff1_row6_col3\" class=\"data row6 col3\" >0.0830</td>\n",
              "      <td id=\"T_40ff1_row6_col4\" class=\"data row6 col4\" >0.1190</td>\n",
              "      <td id=\"T_40ff1_row6_col5\" class=\"data row6 col5\" >0.1150</td>\n",
              "      <td id=\"T_40ff1_row6_col6\" class=\"data row6 col6\" >0.1210</td>\n",
              "    </tr>\n",
              "  </tbody>\n",
              "</table>\n"
            ],
            "text/plain": [
              "<pandas.io.formats.style.Styler at 0x246b7d3fc40>"
            ]
          },
          "metadata": {},
          "output_type": "display_data"
        },
        {
          "data": {
            "text/html": [],
            "text/plain": [
              "<IPython.core.display.HTML object>"
            ]
          },
          "metadata": {},
          "output_type": "display_data"
        },
        {
          "data": {
            "text/html": [],
            "text/plain": [
              "<IPython.core.display.HTML object>"
            ]
          },
          "metadata": {},
          "output_type": "display_data"
        },
        {
          "data": {
            "image/png": "[encoded data removed]",
            "text/plain": [
              "<Figure size 800x550 with 1 Axes>"
            ]
          },
          "metadata": {},
          "output_type": "display_data"
        }
      ],
      "source": [
        "rf = create_model('rf')\n",
        "plot_model(rf, plot='confusion_matrix')\n"
      ]
    },
    {
      "cell_type": "markdown",
      "metadata": {},
      "source": [
        "Al observar la matriz, vemos que la cantidad de verdadeos negativos es la cantidad predicha más alta de todas, lo cual indica la eficiencia del modelo a la hora de reducir los falsos positivos, sin embargo, notamos que con respecto a los verdaderos positivos, el modelo no es tan eficiente ya que existen muchos más falsos negativos que verdaderos positivos."
      ]
    },
    {
      "cell_type": "code",
      "execution_count": 68,
      "metadata": {},
      "outputs": [
        {
          "data": {
            "text/html": [],
            "text/plain": [
              "<IPython.core.display.HTML object>"
            ]
          },
          "metadata": {},
          "output_type": "display_data"
        },
        {
          "data": {
            "image/png": "[encoded data removed]",
            "text/plain": [
              "<Figure size 800x550 with 1 Axes>"
            ]
          },
          "metadata": {},
          "output_type": "display_data"
        }
      ],
      "source": [
        "plot_model(rf, plot='threshold')\n"
      ]
    },
    {
      "cell_type": "markdown",
      "metadata": {},
      "source": [
        "Notamos que el umbral por defecto muestra buenos resultados con respecto a las métricas del modelo rf."
      ]
    },
    {
      "cell_type": "code",
      "execution_count": 69,
      "metadata": {},
      "outputs": [
        {
          "data": {
            "text/html": [],
            "text/plain": [
              "<IPython.core.display.HTML object>"
            ]
          },
          "metadata": {},
          "output_type": "display_data"
        },
        {
          "data": {
            "image/png": "[encoded data removed]",
            "text/plain": [
              "<Figure size 800x500 with 1 Axes>"
            ]
          },
          "metadata": {},
          "output_type": "display_data"
        }
      ],
      "source": [
        "plot_model(rf, plot='feature')\n"
      ]
    },
    {
      "cell_type": "markdown",
      "metadata": {},
      "source": [
        "Notamos que las variables 'Name', 'National_Position' y 'Nationality' son las variables que el modelo a tomado para tomar decisiones.\n",
        "Con respecto a la variable 'Name' debemos de tener cuidado ya que al no estar transformada en un identificador, el modelo podría estar aprendiendo patrones erroneos en los nombres.Por otro lado, tanto 'National_Position' como 'Nationality' son variables que en este contexto tienen un fuerte poder predictivo, ya que el este deporte, la posición y la nacionalidad pueden ser indicativos de estilo de juego, formación recibida,etc."
      ]
    },
    {
      "cell_type": "code",
      "execution_count": 70,
      "metadata": {},
      "outputs": [
        {
          "data": {
            "text/html": [],
            "text/plain": [
              "<IPython.core.display.HTML object>"
            ]
          },
          "metadata": {},
          "output_type": "display_data"
        },
        {
          "data": {
            "image/png": "[encoded data removed]",
            "text/plain": [
              "<Figure size 800x550 with 1 Axes>"
            ]
          },
          "metadata": {},
          "output_type": "display_data"
        }
      ],
      "source": [
        "plot_model(rf, plot='learning')\n"
      ]
    },
    {
      "cell_type": "markdown",
      "metadata": {},
      "source": [
        "Al visualizar la curva de aprendizaje notamos que, a medida que aumentas la cantidad de datos utilizados, se obtienen mejores resultados en el conjunto de testeo, sin embargo, notamos que las curvas no tienden al mismo punto,la curva de rendimiento del cross validation se queda por debajo de la curva de training, esto significa que el modelo no esta siendo capaz de ajustarse y predecir correctamente la totalidad de los registros para testing, esto se debe a un claro desbalance de clases, donde ya vimos que la proporción de la clase positiva respecto a clase negativa es de 0.065.Sin ambargo, la diferencia es mínima entre la curva de training y de test, por lo que podemos decir, que si bien, el rendimiento en testing no es perfecto, si es bastante aceptable"
      ]
    },
    {
      "cell_type": "markdown",
      "metadata": {
        "id": "K8DSS3u1xMpB"
      },
      "source": [
        "### 2.2 Reducción de dimensionalidad [14 puntos]"
      ]
    },
    {
      "cell_type": "markdown",
      "metadata": {
        "id": "RLu0543p876P"
      },
      "source": [
        "<center>\n",
        "<img src='https://i.kym-cdn.com/photos/images/original/002/258/560/668.gif' width=400 />"
      ]
    },
    {
      "cell_type": "markdown",
      "metadata": {
        "id": "QT-bxJ0txwNF"
      },
      "source": [
        "A pesar de los resultados obtenidos previamente, el manager de Jere ha solicitado el entrenamiento de un modelo de XGBoost utilizando los datos disponibles. Además, se debe proceder a realizar una reducción de dimensionalidad basada en la importancia de las características.\n",
        "\n",
        "Para llevar a cabo esta tarea:\n",
        "\n",
        "1. Inicie entrenando un modelo XGBoost con todas las características disponibles. [2 puntos]\n",
        "\n",
        "2. Una vez el modelo esté entrenado, evalúe y clasifique las características según su importancia de forma descendente. [2 puntos]\n",
        "\n",
        "3. Utilice esta clasificación para ejecutar una búsqueda recursiva de eliminación de características, eliminando progresivamente las menos importantes y evaluando el impacto en el desempeño del modelo hasta identificar las N características más críticas. [2 puntos]\n",
        "\n",
        "4. Con este conjunto reducido de características, entrene un nuevo modelo y evalúe su rendimiento. [2 puntos]\n",
        "\n",
        "5. Posteriormente, responda a las siguientes preguntas para una comprensión más profunda de los cambios y beneficios:\n",
        "\n",
        "  - ¿El rendimiento del modelo con las características seleccionadas es similar al del modelo original? ¿Cómo se comparan en términos de precisión y robustez? [2 puntos]\n",
        "  - ¿Cuáles son los beneficios potenciales de eliminar variables del modelo? Considere factores como la simplificación del modelo, reducción del tiempo de entrenamiento, y mejora en la capacidad de generalización. [2 puntos]\n",
        "  - Comente si el modelo con menor dimensionalidad es más sencillo de explicar. Explique brevemente por qué la eliminación de ciertas características puede facilitar la comprensión y la explicación del comportamiento del modelo. [2 puntos]\n",
        "\n",
        "Notar que con esta metodologia buscamos encontrar un punto entermedio entre número de festures y desempeño. por esto, si observa que al aumentar festires el aumento es despreciable, puede no considerar agregar más features a su modelo."
      ]
    },
    {
      "cell_type": "markdown",
      "metadata": {
        "id": "NHfmK63TuDOS"
      },
      "source": [
        "**Respuesta**"
      ]
    },
    {
      "cell_type": "code",
      "execution_count": 71,
      "metadata": {
        "id": "HQwUd_nsuDOe"
      },
      "outputs": [],
      "source": [
        "# Consideramos el modelo XGBoost entrenado en la primera parte\n",
        "\n",
        "y_xgboost = pipeline_xgboost.fit(X_train, y_train)\n"
      ]
    },
    {
      "cell_type": "markdown",
      "metadata": {
        "id": "PTG5cH9r3M9g"
      },
      "source": [
        "### 2.3 Calibración Probabilistica [6 puntos]"
      ]
    },
    {
      "cell_type": "markdown",
      "metadata": {
        "id": "CDL0VqjR7yvb"
      },
      "source": [
        "<center>\n",
        "<img src='https://media2.giphy.com/media/l2Je4Ku0Cx292KWv6/200w.gif?cid=6c09b952y0sihtq9tb6sz8j2023x3zxxp3qx1ocgonkpkblj&ep=v1_gifs_search&rid=200w.gif&ct=g' width=400 />"
      ]
    },
    {
      "cell_type": "markdown",
      "metadata": {
        "id": "qmOKxhAw3sic"
      },
      "source": [
        "Para lograr modelos más modulares, se recomienda realizar una calibración del modelo entrenado anteriormente, con el objetivo de obtener salidas que reflejen mayor modularidad.\n",
        "\n",
        "1. Se solicita que utilice un método de calibración que asegure que las probabilidades generadas incrementen de manera monótona. Una métrica ampliamente utilizada para evaluar la precisión de la calibración de un modelo es el Brier Score. Calcule el Brier Score para el modelo tanto antes como después de la calibración. Esto le permitirá realizar una comparación cuantitativa y determinar si la calibración ha mejorado el rendimiento del modelo. Para más información sobre el Brier Score, puede consultar el siguiente enlace: [Scikit-Learn - Brier Score Loss](https://scikit-learn.org/stable/modules/generated/sklearn.metrics.brier_score_loss.html). [3 puntos]\n",
        "\n",
        "2. Tras la calibración, examine y comente los resultados obtenidos. A su análisis añada una comparación visual de las ideales versus las salidas del modelo original (sin calibrar) y del modelo calibrado. [3 puntos]"
      ]
    },
    {
      "cell_type": "markdown",
      "metadata": {
        "id": "QIiYz_qLuD19"
      },
      "source": [
        "**Respuesta**"
      ]
    },
    {
      "cell_type": "code",
      "execution_count": null,
      "metadata": {
        "id": "l0bfSuiFuD2I"
      },
      "outputs": [],
      "source": []
    }
  ],
  "metadata": {
    "colab": {
      "collapsed_sections": [
        "k-ao0mOU64Ru",
        "Jg_9jBqtgRDO",
        "JdcucZhp-M_0",
        "Qfre1YsSDqla",
        "Bv1HOfcNEPF4",
        "poc9HSNBFeKO",
        "uy5VMU6ae_g6",
        "9bL2m8nNojXM",
        "rD8pQ5Zfq8dE",
        "K8DSS3u1xMpB",
        "PTG5cH9r3M9g"
      ],
      "provenance": []
    },
    "kernelspec": {
      "display_name": "env",
      "language": "python",
      "name": "python3"
    },
    "language_info": {
      "codemirror_mode": {
        "name": "ipython",
        "version": 3
      },
      "file_extension": ".py",
      "mimetype": "text/x-python",
      "name": "python",
      "nbconvert_exporter": "python",
      "pygments_lexer": "ipython3",
      "version": "3.10.2"
    }
  },
  "nbformat": 4,
  "nbformat_minor": 0
}
